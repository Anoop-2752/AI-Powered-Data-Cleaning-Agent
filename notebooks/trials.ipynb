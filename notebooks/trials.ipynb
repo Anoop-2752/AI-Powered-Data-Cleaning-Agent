{
 "cells": [
  {
   "cell_type": "code",
   "execution_count": 1,
   "id": "356a39d6",
   "metadata": {},
   "outputs": [
    {
     "data": {
      "text/plain": [
       "'d:\\\\VS code Projects\\\\AI-Powered Data cleaning Agent\\\\AI-Powered-Data-Cleaning-Agent\\\\notebooks'"
      ]
     },
     "execution_count": 1,
     "metadata": {},
     "output_type": "execute_result"
    }
   ],
   "source": [
    "%pwd"
   ]
  },
  {
   "cell_type": "code",
   "execution_count": 2,
   "id": "af7e8e84",
   "metadata": {},
   "outputs": [],
   "source": [
    "import os\n",
    "os.chdir(\"../\")"
   ]
  },
  {
   "cell_type": "code",
   "execution_count": 3,
   "id": "da525fec",
   "metadata": {},
   "outputs": [
    {
     "data": {
      "text/plain": [
       "'d:\\\\VS code Projects\\\\AI-Powered Data cleaning Agent\\\\AI-Powered-Data-Cleaning-Agent'"
      ]
     },
     "execution_count": 3,
     "metadata": {},
     "output_type": "execute_result"
    }
   ],
   "source": [
    "%pwd"
   ]
  },
  {
   "cell_type": "code",
   "execution_count": null,
   "id": "34e52043",
   "metadata": {},
   "outputs": [],
   "source": [
    "# Step 1 - Import Libraries\n",
    "import pandas as pd\n",
    "import numpy as np\n"
   ]
  },
  {
   "cell_type": "markdown",
   "id": "94c2c012",
   "metadata": {},
   "source": [
    "# Exploring the Dataset"
   ]
  },
  {
   "cell_type": "code",
   "execution_count": null,
   "id": "2b2bc05e",
   "metadata": {},
   "outputs": [
    {
     "data": {
      "application/vnd.microsoft.datawrangler.viewer.v0+json": {
       "columns": [
        {
         "name": "index",
         "rawType": "int64",
         "type": "integer"
        },
        {
         "name": "Transaction ID",
         "rawType": "object",
         "type": "string"
        },
        {
         "name": "Item",
         "rawType": "object",
         "type": "unknown"
        },
        {
         "name": "Quantity",
         "rawType": "object",
         "type": "unknown"
        },
        {
         "name": "Price Per Unit",
         "rawType": "object",
         "type": "unknown"
        },
        {
         "name": "Total Spent",
         "rawType": "object",
         "type": "unknown"
        },
        {
         "name": "Payment Method",
         "rawType": "object",
         "type": "unknown"
        },
        {
         "name": "Location",
         "rawType": "object",
         "type": "unknown"
        },
        {
         "name": "Transaction Date",
         "rawType": "object",
         "type": "unknown"
        }
       ],
       "conversionMethod": "pd.DataFrame",
       "ref": "b0c2da6c-6aed-4710-b3f3-9e4b924011c2",
       "rows": [
        [
         "0",
         "TXN_1961373",
         "Coffee",
         "2",
         "2.0",
         "4.0",
         "Credit Card",
         "Takeaway",
         "2023-09-08"
        ],
        [
         "1",
         "TXN_4977031",
         "Cake",
         "4",
         "3.0",
         "12.0",
         "Cash",
         "In-store",
         "2023-05-16"
        ],
        [
         "2",
         "TXN_4271903",
         "Cookie",
         "4",
         "1.0",
         "ERROR",
         "Credit Card",
         "In-store",
         "2023-07-19"
        ],
        [
         "3",
         "TXN_7034554",
         "Salad",
         "2",
         "5.0",
         "10.0",
         "UNKNOWN",
         "UNKNOWN",
         "2023-04-27"
        ],
        [
         "4",
         "TXN_3160411",
         "Coffee",
         "2",
         "2.0",
         "4.0",
         "Digital Wallet",
         "In-store",
         "2023-06-11"
        ],
        [
         "5",
         "TXN_2602893",
         "Smoothie",
         "5",
         "4.0",
         "20.0",
         "Credit Card",
         null,
         "2023-03-31"
        ],
        [
         "6",
         "TXN_4433211",
         "UNKNOWN",
         "3",
         "3.0",
         "9.0",
         "ERROR",
         "Takeaway",
         "2023-10-06"
        ],
        [
         "7",
         "TXN_6699534",
         "Sandwich",
         "4",
         "4.0",
         "16.0",
         "Cash",
         "UNKNOWN",
         "2023-10-28"
        ],
        [
         "8",
         "TXN_4717867",
         null,
         "5",
         "3.0",
         "15.0",
         null,
         "Takeaway",
         "2023-07-28"
        ],
        [
         "9",
         "TXN_2064365",
         "Sandwich",
         "5",
         "4.0",
         "20.0",
         null,
         "In-store",
         "2023-12-31"
        ],
        [
         "10",
         "TXN_2548360",
         "Salad",
         "5",
         "5.0",
         "25.0",
         "Cash",
         "Takeaway",
         "2023-11-07"
        ],
        [
         "11",
         "TXN_3051279",
         "Sandwich",
         "2",
         "4.0",
         "8.0",
         "Credit Card",
         "Takeaway",
         "ERROR"
        ],
        [
         "12",
         "TXN_7619095",
         "Sandwich",
         "2",
         "4.0",
         "8.0",
         "Cash",
         "In-store",
         "2023-05-03"
        ],
        [
         "13",
         "TXN_9437049",
         "Cookie",
         "5",
         "1.0",
         "5.0",
         null,
         "Takeaway",
         "2023-06-01"
        ],
        [
         "14",
         "TXN_8915701",
         "ERROR",
         "2",
         "1.5",
         "3.0",
         null,
         "In-store",
         "2023-03-21"
        ],
        [
         "15",
         "TXN_2847255",
         "Salad",
         "3",
         "5.0",
         "15.0",
         "Credit Card",
         "In-store",
         "2023-11-15"
        ],
        [
         "16",
         "TXN_3765707",
         "Sandwich",
         "1",
         "4.0",
         "4.0",
         null,
         null,
         "2023-06-10"
        ],
        [
         "17",
         "TXN_6769710",
         "Juice",
         "2",
         "3.0",
         "6.0",
         "Cash",
         "In-store",
         "2023-02-24"
        ],
        [
         "18",
         "TXN_8876618",
         "Cake",
         "5",
         "3.0",
         "15.0",
         "Cash",
         "ERROR",
         "2023-03-25"
        ],
        [
         "19",
         "TXN_3709394",
         "Juice",
         "4",
         "3.0",
         "12.0",
         "Cash",
         "Takeaway",
         "2023-01-15"
        ],
        [
         "20",
         "TXN_3522028",
         "Smoothie",
         "ERROR",
         "4.0",
         "20.0",
         "Cash",
         "In-store",
         "2023-04-04"
        ],
        [
         "21",
         "TXN_3567645",
         "Smoothie",
         "4",
         "4.0",
         "16.0",
         "Credit Card",
         "Takeaway",
         "2023-03-30"
        ],
        [
         "22",
         "TXN_5132361",
         "Sandwich",
         "3",
         "4.0",
         "12.0",
         "Digital Wallet",
         "Takeaway",
         "2023-12-01"
        ],
        [
         "23",
         "TXN_2616390",
         "Sandwich",
         "2",
         "4.0",
         "8.0",
         null,
         null,
         "2023-09-18"
        ],
        [
         "24",
         "TXN_9400181",
         "Sandwich",
         "5",
         "4.0",
         "20.0",
         "Cash",
         "In-store",
         "2023-06-03"
        ],
        [
         "25",
         "TXN_7958992",
         "Smoothie",
         "3",
         "4.0",
         null,
         "UNKNOWN",
         "UNKNOWN",
         "2023-12-13"
        ],
        [
         "26",
         "TXN_5183041",
         "Cookie",
         "5",
         "1.0",
         "5.0",
         "Credit Card",
         "In-store",
         "2023-04-20"
        ],
        [
         "27",
         "TXN_5695074",
         "Juice",
         "4",
         "3.0",
         "12.0",
         "Credit Card",
         "Takeaway",
         "2023-04-10"
        ],
        [
         "28",
         "TXN_8467949",
         "Smoothie",
         "5",
         "4.0",
         "20.0",
         "Credit Card",
         null,
         "2023-03-11"
        ],
        [
         "29",
         "TXN_7640952",
         "Cake",
         "4",
         "3.0",
         "12.0",
         "Digital Wallet",
         "Takeaway",
         "ERROR"
        ],
        [
         "30",
         "TXN_1736287",
         null,
         "5",
         "2.0",
         "10.0",
         "Digital Wallet",
         null,
         "2023-06-02"
        ],
        [
         "31",
         "TXN_8927252",
         "UNKNOWN",
         "2",
         "1.0",
         "ERROR",
         "Credit Card",
         "ERROR",
         "2023-11-06"
        ],
        [
         "32",
         "TXN_9677376",
         "Smoothie",
         "4",
         "4.0",
         "16.0",
         null,
         "In-store",
         "2023-08-15"
        ],
        [
         "33",
         "TXN_7710508",
         "UNKNOWN",
         "5",
         "1.0",
         "5.0",
         "Cash",
         null,
         "ERROR"
        ],
        [
         "34",
         "TXN_8853997",
         "Smoothie",
         "2",
         "4.0",
         "8.0",
         "Digital Wallet",
         "Takeaway",
         "2023-10-09"
        ],
        [
         "35",
         "TXN_9130559",
         "Sandwich",
         "1",
         "4.0",
         "4.0",
         "Credit Card",
         "UNKNOWN",
         "2023-05-28"
        ],
        [
         "36",
         "TXN_6855453",
         "UNKNOWN",
         "4",
         "3.0",
         "12.0",
         null,
         "In-store",
         "2023-07-17"
        ],
        [
         "37",
         "TXN_1080432",
         "Salad",
         "2",
         "5.0",
         "10.0",
         "Credit Card",
         "In-store",
         "2023-04-29"
        ],
        [
         "38",
         "TXN_2655815",
         "Smoothie",
         "4",
         "4.0",
         "16.0",
         null,
         "Takeaway",
         "2023-06-08"
        ],
        [
         "39",
         "TXN_6688524",
         "Coffee",
         "4",
         "2.0",
         "8.0",
         "ERROR",
         null,
         "2023-06-29"
        ],
        [
         "40",
         "TXN_2083138",
         "Smoothie",
         "3",
         "4.0",
         "12.0",
         null,
         "In-store",
         "2023-04-17"
        ],
        [
         "41",
         "TXN_2427584",
         "Sandwich",
         "4",
         "4.0",
         "16.0",
         null,
         "Takeaway",
         "2023-12-22"
        ],
        [
         "42",
         "TXN_6650263",
         "Tea",
         "2",
         "1.5",
         "UNKNOWN",
         null,
         "Takeaway",
         "2023-01-10"
        ],
        [
         "43",
         "TXN_9620080",
         "Juice",
         "4",
         "3.0",
         "12.0",
         null,
         "Takeaway",
         "2023-10-02"
        ],
        [
         "44",
         "TXN_1491578",
         "Cookie",
         "2",
         "1.0",
         "2.0",
         null,
         null,
         "2023-02-23"
        ],
        [
         "45",
         "TXN_5455792",
         "Salad",
         "3",
         "5.0",
         "15.0",
         "Cash",
         null,
         "2023-03-22"
        ],
        [
         "46",
         "TXN_8078640",
         "Juice",
         "4",
         "3.0",
         "12.0",
         "Digital Wallet",
         "In-store",
         "2023-11-03"
        ],
        [
         "47",
         "TXN_9499313",
         "Juice",
         "5",
         "3.0",
         "15.0",
         null,
         null,
         "2023-03-02"
        ],
        [
         "48",
         "TXN_8201146",
         "Juice",
         "5",
         "3.0",
         "15.0",
         "Cash",
         null,
         "2023-06-26"
        ],
        [
         "49",
         "TXN_8230936",
         "Cake",
         "3",
         "3.0",
         "9.0",
         null,
         "ERROR",
         "2023-05-02"
        ]
       ],
       "shape": {
        "columns": 8,
        "rows": 10000
       }
      },
      "text/html": [
       "<div>\n",
       "<style scoped>\n",
       "    .dataframe tbody tr th:only-of-type {\n",
       "        vertical-align: middle;\n",
       "    }\n",
       "\n",
       "    .dataframe tbody tr th {\n",
       "        vertical-align: top;\n",
       "    }\n",
       "\n",
       "    .dataframe thead th {\n",
       "        text-align: right;\n",
       "    }\n",
       "</style>\n",
       "<table border=\"1\" class=\"dataframe\">\n",
       "  <thead>\n",
       "    <tr style=\"text-align: right;\">\n",
       "      <th></th>\n",
       "      <th>Transaction ID</th>\n",
       "      <th>Item</th>\n",
       "      <th>Quantity</th>\n",
       "      <th>Price Per Unit</th>\n",
       "      <th>Total Spent</th>\n",
       "      <th>Payment Method</th>\n",
       "      <th>Location</th>\n",
       "      <th>Transaction Date</th>\n",
       "    </tr>\n",
       "  </thead>\n",
       "  <tbody>\n",
       "    <tr>\n",
       "      <th>0</th>\n",
       "      <td>TXN_1961373</td>\n",
       "      <td>Coffee</td>\n",
       "      <td>2</td>\n",
       "      <td>2.0</td>\n",
       "      <td>4.0</td>\n",
       "      <td>Credit Card</td>\n",
       "      <td>Takeaway</td>\n",
       "      <td>2023-09-08</td>\n",
       "    </tr>\n",
       "    <tr>\n",
       "      <th>1</th>\n",
       "      <td>TXN_4977031</td>\n",
       "      <td>Cake</td>\n",
       "      <td>4</td>\n",
       "      <td>3.0</td>\n",
       "      <td>12.0</td>\n",
       "      <td>Cash</td>\n",
       "      <td>In-store</td>\n",
       "      <td>2023-05-16</td>\n",
       "    </tr>\n",
       "    <tr>\n",
       "      <th>2</th>\n",
       "      <td>TXN_4271903</td>\n",
       "      <td>Cookie</td>\n",
       "      <td>4</td>\n",
       "      <td>1.0</td>\n",
       "      <td>ERROR</td>\n",
       "      <td>Credit Card</td>\n",
       "      <td>In-store</td>\n",
       "      <td>2023-07-19</td>\n",
       "    </tr>\n",
       "    <tr>\n",
       "      <th>3</th>\n",
       "      <td>TXN_7034554</td>\n",
       "      <td>Salad</td>\n",
       "      <td>2</td>\n",
       "      <td>5.0</td>\n",
       "      <td>10.0</td>\n",
       "      <td>UNKNOWN</td>\n",
       "      <td>UNKNOWN</td>\n",
       "      <td>2023-04-27</td>\n",
       "    </tr>\n",
       "    <tr>\n",
       "      <th>4</th>\n",
       "      <td>TXN_3160411</td>\n",
       "      <td>Coffee</td>\n",
       "      <td>2</td>\n",
       "      <td>2.0</td>\n",
       "      <td>4.0</td>\n",
       "      <td>Digital Wallet</td>\n",
       "      <td>In-store</td>\n",
       "      <td>2023-06-11</td>\n",
       "    </tr>\n",
       "    <tr>\n",
       "      <th>...</th>\n",
       "      <td>...</td>\n",
       "      <td>...</td>\n",
       "      <td>...</td>\n",
       "      <td>...</td>\n",
       "      <td>...</td>\n",
       "      <td>...</td>\n",
       "      <td>...</td>\n",
       "      <td>...</td>\n",
       "    </tr>\n",
       "    <tr>\n",
       "      <th>9995</th>\n",
       "      <td>TXN_7672686</td>\n",
       "      <td>Coffee</td>\n",
       "      <td>2</td>\n",
       "      <td>2.0</td>\n",
       "      <td>4.0</td>\n",
       "      <td>NaN</td>\n",
       "      <td>UNKNOWN</td>\n",
       "      <td>2023-08-30</td>\n",
       "    </tr>\n",
       "    <tr>\n",
       "      <th>9996</th>\n",
       "      <td>TXN_9659401</td>\n",
       "      <td>NaN</td>\n",
       "      <td>3</td>\n",
       "      <td>NaN</td>\n",
       "      <td>3.0</td>\n",
       "      <td>Digital Wallet</td>\n",
       "      <td>NaN</td>\n",
       "      <td>2023-06-02</td>\n",
       "    </tr>\n",
       "    <tr>\n",
       "      <th>9997</th>\n",
       "      <td>TXN_5255387</td>\n",
       "      <td>Coffee</td>\n",
       "      <td>4</td>\n",
       "      <td>2.0</td>\n",
       "      <td>8.0</td>\n",
       "      <td>Digital Wallet</td>\n",
       "      <td>NaN</td>\n",
       "      <td>2023-03-02</td>\n",
       "    </tr>\n",
       "    <tr>\n",
       "      <th>9998</th>\n",
       "      <td>TXN_7695629</td>\n",
       "      <td>Cookie</td>\n",
       "      <td>3</td>\n",
       "      <td>NaN</td>\n",
       "      <td>3.0</td>\n",
       "      <td>Digital Wallet</td>\n",
       "      <td>NaN</td>\n",
       "      <td>2023-12-02</td>\n",
       "    </tr>\n",
       "    <tr>\n",
       "      <th>9999</th>\n",
       "      <td>TXN_6170729</td>\n",
       "      <td>Sandwich</td>\n",
       "      <td>3</td>\n",
       "      <td>4.0</td>\n",
       "      <td>12.0</td>\n",
       "      <td>Cash</td>\n",
       "      <td>In-store</td>\n",
       "      <td>2023-11-07</td>\n",
       "    </tr>\n",
       "  </tbody>\n",
       "</table>\n",
       "<p>10000 rows × 8 columns</p>\n",
       "</div>"
      ],
      "text/plain": [
       "     Transaction ID      Item Quantity Price Per Unit Total Spent  \\\n",
       "0       TXN_1961373    Coffee        2            2.0         4.0   \n",
       "1       TXN_4977031      Cake        4            3.0        12.0   \n",
       "2       TXN_4271903    Cookie        4            1.0       ERROR   \n",
       "3       TXN_7034554     Salad        2            5.0        10.0   \n",
       "4       TXN_3160411    Coffee        2            2.0         4.0   \n",
       "...             ...       ...      ...            ...         ...   \n",
       "9995    TXN_7672686    Coffee        2            2.0         4.0   \n",
       "9996    TXN_9659401       NaN        3            NaN         3.0   \n",
       "9997    TXN_5255387    Coffee        4            2.0         8.0   \n",
       "9998    TXN_7695629    Cookie        3            NaN         3.0   \n",
       "9999    TXN_6170729  Sandwich        3            4.0        12.0   \n",
       "\n",
       "      Payment Method  Location Transaction Date  \n",
       "0        Credit Card  Takeaway       2023-09-08  \n",
       "1               Cash  In-store       2023-05-16  \n",
       "2        Credit Card  In-store       2023-07-19  \n",
       "3            UNKNOWN   UNKNOWN       2023-04-27  \n",
       "4     Digital Wallet  In-store       2023-06-11  \n",
       "...              ...       ...              ...  \n",
       "9995             NaN   UNKNOWN       2023-08-30  \n",
       "9996  Digital Wallet       NaN       2023-06-02  \n",
       "9997  Digital Wallet       NaN       2023-03-02  \n",
       "9998  Digital Wallet       NaN       2023-12-02  \n",
       "9999            Cash  In-store       2023-11-07  \n",
       "\n",
       "[10000 rows x 8 columns]"
      ]
     },
     "execution_count": 10,
     "metadata": {},
     "output_type": "execute_result"
    }
   ],
   "source": [
    "# Step 2 - Load the dataset\n",
    "df = pd.read_csv(\"data/raw/dirty_cafe_sales.csv\")\n",
    "df"
   ]
  },
  {
   "cell_type": "code",
   "execution_count": null,
   "id": "04fc91e9",
   "metadata": {},
   "outputs": [
    {
     "name": "stdout",
     "output_type": "stream",
     "text": [
      "Shape of dataset: (10000, 8)\n"
     ]
    }
   ],
   "source": []
  },
  {
   "cell_type": "code",
   "execution_count": 14,
   "id": "d6f1c24c",
   "metadata": {},
   "outputs": [
    {
     "name": "stdout",
     "output_type": "stream",
     "text": [
      "shape of dataset: (10000, 8)\n",
      "\n",
      "First 5 rows:\n"
     ]
    },
    {
     "data": {
      "application/vnd.microsoft.datawrangler.viewer.v0+json": {
       "columns": [
        {
         "name": "index",
         "rawType": "int64",
         "type": "integer"
        },
        {
         "name": "Transaction ID",
         "rawType": "object",
         "type": "string"
        },
        {
         "name": "Item",
         "rawType": "object",
         "type": "string"
        },
        {
         "name": "Quantity",
         "rawType": "object",
         "type": "string"
        },
        {
         "name": "Price Per Unit",
         "rawType": "object",
         "type": "string"
        },
        {
         "name": "Total Spent",
         "rawType": "object",
         "type": "string"
        },
        {
         "name": "Payment Method",
         "rawType": "object",
         "type": "string"
        },
        {
         "name": "Location",
         "rawType": "object",
         "type": "string"
        },
        {
         "name": "Transaction Date",
         "rawType": "object",
         "type": "string"
        }
       ],
       "conversionMethod": "pd.DataFrame",
       "ref": "fab8f930-0e15-4306-ad8f-7a5b77f10944",
       "rows": [
        [
         "0",
         "TXN_1961373",
         "Coffee",
         "2",
         "2.0",
         "4.0",
         "Credit Card",
         "Takeaway",
         "2023-09-08"
        ],
        [
         "1",
         "TXN_4977031",
         "Cake",
         "4",
         "3.0",
         "12.0",
         "Cash",
         "In-store",
         "2023-05-16"
        ],
        [
         "2",
         "TXN_4271903",
         "Cookie",
         "4",
         "1.0",
         "ERROR",
         "Credit Card",
         "In-store",
         "2023-07-19"
        ],
        [
         "3",
         "TXN_7034554",
         "Salad",
         "2",
         "5.0",
         "10.0",
         "UNKNOWN",
         "UNKNOWN",
         "2023-04-27"
        ],
        [
         "4",
         "TXN_3160411",
         "Coffee",
         "2",
         "2.0",
         "4.0",
         "Digital Wallet",
         "In-store",
         "2023-06-11"
        ]
       ],
       "shape": {
        "columns": 8,
        "rows": 5
       }
      },
      "text/html": [
       "<div>\n",
       "<style scoped>\n",
       "    .dataframe tbody tr th:only-of-type {\n",
       "        vertical-align: middle;\n",
       "    }\n",
       "\n",
       "    .dataframe tbody tr th {\n",
       "        vertical-align: top;\n",
       "    }\n",
       "\n",
       "    .dataframe thead th {\n",
       "        text-align: right;\n",
       "    }\n",
       "</style>\n",
       "<table border=\"1\" class=\"dataframe\">\n",
       "  <thead>\n",
       "    <tr style=\"text-align: right;\">\n",
       "      <th></th>\n",
       "      <th>Transaction ID</th>\n",
       "      <th>Item</th>\n",
       "      <th>Quantity</th>\n",
       "      <th>Price Per Unit</th>\n",
       "      <th>Total Spent</th>\n",
       "      <th>Payment Method</th>\n",
       "      <th>Location</th>\n",
       "      <th>Transaction Date</th>\n",
       "    </tr>\n",
       "  </thead>\n",
       "  <tbody>\n",
       "    <tr>\n",
       "      <th>0</th>\n",
       "      <td>TXN_1961373</td>\n",
       "      <td>Coffee</td>\n",
       "      <td>2</td>\n",
       "      <td>2.0</td>\n",
       "      <td>4.0</td>\n",
       "      <td>Credit Card</td>\n",
       "      <td>Takeaway</td>\n",
       "      <td>2023-09-08</td>\n",
       "    </tr>\n",
       "    <tr>\n",
       "      <th>1</th>\n",
       "      <td>TXN_4977031</td>\n",
       "      <td>Cake</td>\n",
       "      <td>4</td>\n",
       "      <td>3.0</td>\n",
       "      <td>12.0</td>\n",
       "      <td>Cash</td>\n",
       "      <td>In-store</td>\n",
       "      <td>2023-05-16</td>\n",
       "    </tr>\n",
       "    <tr>\n",
       "      <th>2</th>\n",
       "      <td>TXN_4271903</td>\n",
       "      <td>Cookie</td>\n",
       "      <td>4</td>\n",
       "      <td>1.0</td>\n",
       "      <td>ERROR</td>\n",
       "      <td>Credit Card</td>\n",
       "      <td>In-store</td>\n",
       "      <td>2023-07-19</td>\n",
       "    </tr>\n",
       "    <tr>\n",
       "      <th>3</th>\n",
       "      <td>TXN_7034554</td>\n",
       "      <td>Salad</td>\n",
       "      <td>2</td>\n",
       "      <td>5.0</td>\n",
       "      <td>10.0</td>\n",
       "      <td>UNKNOWN</td>\n",
       "      <td>UNKNOWN</td>\n",
       "      <td>2023-04-27</td>\n",
       "    </tr>\n",
       "    <tr>\n",
       "      <th>4</th>\n",
       "      <td>TXN_3160411</td>\n",
       "      <td>Coffee</td>\n",
       "      <td>2</td>\n",
       "      <td>2.0</td>\n",
       "      <td>4.0</td>\n",
       "      <td>Digital Wallet</td>\n",
       "      <td>In-store</td>\n",
       "      <td>2023-06-11</td>\n",
       "    </tr>\n",
       "  </tbody>\n",
       "</table>\n",
       "</div>"
      ],
      "text/plain": [
       "  Transaction ID    Item Quantity Price Per Unit Total Spent  Payment Method  \\\n",
       "0    TXN_1961373  Coffee        2            2.0         4.0     Credit Card   \n",
       "1    TXN_4977031    Cake        4            3.0        12.0            Cash   \n",
       "2    TXN_4271903  Cookie        4            1.0       ERROR     Credit Card   \n",
       "3    TXN_7034554   Salad        2            5.0        10.0         UNKNOWN   \n",
       "4    TXN_3160411  Coffee        2            2.0         4.0  Digital Wallet   \n",
       "\n",
       "   Location Transaction Date  \n",
       "0  Takeaway       2023-09-08  \n",
       "1  In-store       2023-05-16  \n",
       "2  In-store       2023-07-19  \n",
       "3   UNKNOWN       2023-04-27  \n",
       "4  In-store       2023-06-11  "
      ]
     },
     "metadata": {},
     "output_type": "display_data"
    }
   ],
   "source": [
    "# Step 3 - Basic Inspection\n",
    "print(\"shape of dataset:\", df.shape)\n",
    "print(\"\\nFirst 5 rows:\")\n",
    "display(df.head())"
   ]
  },
  {
   "cell_type": "code",
   "execution_count": 15,
   "id": "4c88c758",
   "metadata": {},
   "outputs": [
    {
     "name": "stdout",
     "output_type": "stream",
     "text": [
      "\n",
      "Dataset Info:\n",
      "<class 'pandas.core.frame.DataFrame'>\n",
      "RangeIndex: 10000 entries, 0 to 9999\n",
      "Data columns (total 8 columns):\n",
      " #   Column            Non-Null Count  Dtype \n",
      "---  ------            --------------  ----- \n",
      " 0   Transaction ID    10000 non-null  object\n",
      " 1   Item              9667 non-null   object\n",
      " 2   Quantity          9862 non-null   object\n",
      " 3   Price Per Unit    9821 non-null   object\n",
      " 4   Total Spent       9827 non-null   object\n",
      " 5   Payment Method    7421 non-null   object\n",
      " 6   Location          6735 non-null   object\n",
      " 7   Transaction Date  9841 non-null   object\n",
      "dtypes: object(8)\n",
      "memory usage: 625.1+ KB\n",
      "None\n"
     ]
    }
   ],
   "source": [
    "print(\"\\nDataset Info:\")\n",
    "print(df.info())"
   ]
  },
  {
   "cell_type": "code",
   "execution_count": 16,
   "id": "2c85acba",
   "metadata": {},
   "outputs": [
    {
     "name": "stdout",
     "output_type": "stream",
     "text": [
      "\n",
      "Missing values count per column:\n",
      "Transaction ID         0\n",
      "Item                 333\n",
      "Quantity             138\n",
      "Price Per Unit       179\n",
      "Total Spent          173\n",
      "Payment Method      2579\n",
      "Location            3265\n",
      "Transaction Date     159\n",
      "dtype: int64\n"
     ]
    }
   ],
   "source": [
    "print(\"\\nMissing values count per column:\")\n",
    "print(df.isnull().sum())"
   ]
  },
  {
   "cell_type": "code",
   "execution_count": 17,
   "id": "aaa2b97c",
   "metadata": {},
   "outputs": [
    {
     "name": "stdout",
     "output_type": "stream",
     "text": [
      "\n",
      "Duplicate rows count: 0\n"
     ]
    }
   ],
   "source": [
    "print(\"\\nDuplicate rows count:\", df.duplicated().sum())"
   ]
  },
  {
   "cell_type": "markdown",
   "id": "3d16b295",
   "metadata": {},
   "source": [
    "# Data quality Detection"
   ]
  },
  {
   "cell_type": "code",
   "execution_count": 18,
   "id": "ff2b6d8b",
   "metadata": {},
   "outputs": [
    {
     "name": "stdout",
     "output_type": "stream",
     "text": [
      "---- Missing Data ----\n",
      "Location            3265\n",
      "Payment Method      2579\n",
      "Item                 333\n",
      "Price Per Unit       179\n",
      "Total Spent          173\n",
      "Transaction Date     159\n",
      "Quantity             138\n",
      "dtype: int64\n",
      "\n"
     ]
    }
   ],
   "source": [
    "# Missing Data\n",
    "print(\"---- Missing Data ----\")\n",
    "missing_counts = df.isnull().sum()\n",
    "print(missing_counts[missing_counts > 0].sort_values(ascending=False))\n",
    "print()"
   ]
  },
  {
   "cell_type": "code",
   "execution_count": 19,
   "id": "52a18436",
   "metadata": {},
   "outputs": [
    {
     "name": "stdout",
     "output_type": "stream",
     "text": [
      "---- Duplicate Rows ----\n",
      "Exact duplicate rows: 0\n",
      "\n"
     ]
    }
   ],
   "source": [
    "# Duplicate Rows\n",
    "print(\"---- Duplicate Rows ----\")\n",
    "print(f\"Exact duplicate rows: {df.duplicated().sum()}\")\n",
    "print()"
   ]
  },
  {
   "cell_type": "code",
   "execution_count": 24,
   "id": "d15f09c7",
   "metadata": {},
   "outputs": [
    {
     "name": "stdout",
     "output_type": "stream",
     "text": [
      "---- Data Type Issues ----\n",
      "\n"
     ]
    }
   ],
   "source": [
    "import pandas as pd\n",
    "import warnings\n",
    "\n",
    "print(\"---- Data Type Issues ----\")\n",
    "for col in df.columns:\n",
    "    if df[col].dtype == 'object':\n",
    "        # Check numeric\n",
    "        if pd.to_numeric(df[col], errors='coerce').notna().all():\n",
    "            print(f\"Possible numeric stored as string: {col}\")\n",
    "\n",
    "        # Check date (suppress warnings during test)\n",
    "        with warnings.catch_warnings():\n",
    "            warnings.simplefilter(\"ignore\")\n",
    "            date_series = pd.to_datetime(df[col], errors='coerce', format=None)\n",
    "        if date_series.notna().all():\n",
    "            print(f\"Possible date stored as string: {col}\")\n",
    "print()\n"
   ]
  },
  {
   "cell_type": "code",
   "execution_count": 26,
   "id": "43ec5c37",
   "metadata": {},
   "outputs": [
    {
     "name": "stdout",
     "output_type": "stream",
     "text": [
      "---- Inconsistent Formatting ----\n",
      "Transaction ID sample values: ['TXN_1961373' 'TXN_4977031' 'TXN_4271903' 'TXN_7034554' 'TXN_3160411'\n",
      " 'TXN_2602893' 'TXN_4433211' 'TXN_6699534' 'TXN_4717867' 'TXN_2064365']\n",
      "Item sample values: ['Coffee' 'Cake' 'Cookie' 'Salad' 'Smoothie' 'UNKNOWN' 'Sandwich' 'ERROR'\n",
      " 'Juice' 'Tea']\n",
      "Quantity sample values: ['2' '4' '5' '3' '1' 'ERROR' 'UNKNOWN']\n",
      "Price Per Unit sample values: ['2.0' '3.0' '1.0' '5.0' '4.0' '1.5' 'ERROR' 'UNKNOWN']\n",
      "Total Spent sample values: ['4.0' '12.0' 'ERROR' '10.0' '20.0' '9.0' '16.0' '15.0' '25.0' '8.0']\n",
      "Payment Method sample values: ['Credit Card' 'Cash' 'UNKNOWN' 'Digital Wallet' 'ERROR']\n",
      "Location sample values: ['Takeaway' 'In-store' 'UNKNOWN' 'ERROR']\n",
      "Transaction Date sample values: ['2023-09-08' '2023-05-16' '2023-07-19' '2023-04-27' '2023-06-11'\n",
      " '2023-03-31' '2023-10-06' '2023-10-28' '2023-07-28' '2023-12-31']\n",
      "\n"
     ]
    }
   ],
   "source": [
    "# 4️⃣ Inconsistent Formatting (Text Columns)\n",
    "print(\"---- Inconsistent Formatting ----\")\n",
    "for col in df.select_dtypes(include='object'):\n",
    "    sample_values = df[col].dropna().unique()[:10]\n",
    "    print(f\"{col} sample values: {sample_values}\")\n",
    "print()"
   ]
  },
  {
   "cell_type": "code",
   "execution_count": 27,
   "id": "8cc07bdd",
   "metadata": {},
   "outputs": [
    {
     "name": "stdout",
     "output_type": "stream",
     "text": [
      "---- Outliers (Numerical) ----\n",
      "\n"
     ]
    }
   ],
   "source": [
    "# 5️⃣ Outliers (Numerical)\n",
    "print(\"---- Outliers (Numerical) ----\")\n",
    "numeric_cols = df.select_dtypes(include=np.number).columns\n",
    "for col in numeric_cols:\n",
    "    Q1 = df[col].quantile(0.25)\n",
    "    Q3 = df[col].quantile(0.75)\n",
    "    IQR = Q3 - Q1\n",
    "    outliers = df[(df[col] < (Q1 - 1.5 * IQR)) | (df[col] > (Q3 + 1.5 * IQR))]\n",
    "    if not outliers.empty:\n",
    "        print(f\"{col}: {len(outliers)} outliers detected\")\n",
    "print()"
   ]
  },
  {
   "cell_type": "code",
   "execution_count": 28,
   "id": "52d8eefa",
   "metadata": {},
   "outputs": [
    {
     "name": "stdout",
     "output_type": "stream",
     "text": [
      "---- Categorical Value Issues ----\n",
      "Transaction ID: Rare categories -> ['TXN_9226047', 'TXN_8567525', 'TXN_4583012', 'TXN_6796890', 'TXN_9933628', 'TXN_4302199', 'TXN_5548914', 'TXN_3528020', 'TXN_9668108', 'TXN_8076061', 'TXN_7936002', 'TXN_3124078', 'TXN_6120851', 'TXN_5762440', 'TXN_9954652', 'TXN_8866974', 'TXN_8927252', 'TXN_1736287', 'TXN_7640952', 'TXN_8467949', 'TXN_5695074', 'TXN_5183041', 'TXN_7958992', 'TXN_9400181', 'TXN_2616390', 'TXN_5132361', 'TXN_3567645', 'TXN_3522028', 'TXN_3709394', 'TXN_8876618', 'TXN_6769710', 'TXN_3765707', 'TXN_9499313', 'TXN_8078640', 'TXN_5455792', 'TXN_1491578', 'TXN_9620080', 'TXN_6650263', 'TXN_2427584', 'TXN_2083138', 'TXN_6688524', 'TXN_2655815', 'TXN_1080432', 'TXN_6855453', 'TXN_9130559', 'TXN_8853997', 'TXN_7710508', 'TXN_9677376', 'TXN_9099694', 'TXN_2537617', 'TXN_8051289', 'TXN_9023317', 'TXN_8813311', 'TXN_6421134', 'TXN_2080895', 'TXN_3578141', 'TXN_5522862', 'TXN_8614868', 'TXN_3363746', 'TXN_8914892', 'TXN_6342161', 'TXN_7742742', 'TXN_8230936', 'TXN_8201146', 'TXN_3829165', 'TXN_8735480', 'TXN_2091733', 'TXN_3858209', 'TXN_6420335', 'TXN_1900620', 'TXN_4238417', 'TXN_6044979', 'TXN_4726376', 'TXN_2621580', 'TXN_8471743', 'TXN_8427104', 'TXN_3068204', 'TXN_8501819', 'TXN_4987129', 'TXN_9230615', 'TXN_8268061', 'TXN_6289610', 'TXN_3011323', 'TXN_2725602', 'TXN_5455936', 'TXN_8976658', 'TXN_4132730', 'TXN_9487821', 'TXN_3955361', 'TXN_8718498', 'TXN_8035512', 'TXN_5107946', 'TXN_5266394', 'TXN_2123367', 'TXN_1993289', 'TXN_3748616', 'TXN_6171384', 'TXN_3398520', 'TXN_4174591', 'TXN_4358673', 'TXN_9547091', 'TXN_3775339', 'TXN_6955416', 'TXN_7447872', 'TXN_7028009', 'TXN_3808639', 'TXN_1621920', 'TXN_9517146', 'TXN_8779771', 'TXN_9999113', 'TXN_3085509', 'TXN_5220895', 'TXN_9096052', 'TXN_9646452', 'TXN_4685453', 'TXN_7945375', 'TXN_6258471', 'TXN_5179020', 'TXN_9339456', 'TXN_9790731', 'TXN_4368416', 'TXN_4633784', 'TXN_2148617', 'TXN_1535311', 'TXN_1001832', 'TXN_3092382', 'TXN_3314971', 'TXN_2530938', 'TXN_8495063', 'TXN_7943008', 'TXN_2368126', 'TXN_2484241', 'TXN_4878378', 'TXN_3972167', 'TXN_4885518', 'TXN_6380550', 'TXN_8700451', 'TXN_1443912', 'TXN_1150033', 'TXN_2181545', 'TXN_9273729', 'TXN_2277042', 'TXN_3407169', 'TXN_5916991', 'TXN_8301424', 'TXN_8013032', 'TXN_4283157', 'TXN_1928241', 'TXN_1909796', 'TXN_4108138', 'TXN_6541415', 'TXN_5265095', 'TXN_4031509', 'TXN_8687151', 'TXN_5072031', 'TXN_3424331', 'TXN_9336980', 'TXN_7623634', 'TXN_8729570', 'TXN_4811133', 'TXN_6463132', 'TXN_8005489', 'TXN_9836934', 'TXN_8316826', 'TXN_8989148', 'TXN_4689500', 'TXN_9249507', 'TXN_3494565', 'TXN_4062737', 'TXN_1648671', 'TXN_3226832', 'TXN_1435086', 'TXN_1631695', 'TXN_9238666', 'TXN_7965998', 'TXN_1093800', 'TXN_8810894', 'TXN_2996519', 'TXN_2643815', 'TXN_3833797', 'TXN_6629480', 'TXN_8166407', 'TXN_5365809', 'TXN_3831848', 'TXN_8129834', 'TXN_8007337', 'TXN_1136554', 'TXN_8955912', 'TXN_3978874', 'TXN_5075974', 'TXN_1896955', 'TXN_3925836', 'TXN_2698591', 'TXN_7724048', 'TXN_3779366', 'TXN_4088917', 'TXN_8964522', 'TXN_2143187', 'TXN_6749847', 'TXN_2950680', 'TXN_6311602', 'TXN_9788956', 'TXN_5115080', 'TXN_3800182', 'TXN_1714274', 'TXN_6000201', 'TXN_3937509', 'TXN_7412722', 'TXN_4068262', 'TXN_7433461', 'TXN_4291940', 'TXN_9879996', 'TXN_6766492', 'TXN_7058377', 'TXN_9250710', 'TXN_3499124', 'TXN_3857960', 'TXN_8693704', 'TXN_8587583', 'TXN_9089898', 'TXN_6717827', 'TXN_6498163', 'TXN_4129248', 'TXN_3171373', 'TXN_6846228', 'TXN_5526852', 'TXN_4700144', 'TXN_8562645', 'TXN_7077119', 'TXN_6334895', 'TXN_1721827', 'TXN_6446616', 'TXN_2230167', 'TXN_7031118', 'TXN_8377564', 'TXN_9350833', 'TXN_2651216', 'TXN_6623508', 'TXN_5047447', 'TXN_5761073', 'TXN_8472308', 'TXN_1583597', 'TXN_3544789', 'TXN_7549542', 'TXN_7803615', 'TXN_6616971', 'TXN_6714420', 'TXN_5415901', 'TXN_9238066', 'TXN_1908636', 'TXN_7328294', 'TXN_9642066', 'TXN_4530804', 'TXN_3786188', 'TXN_3205009', 'TXN_8570890', 'TXN_5043774', 'TXN_1153869', 'TXN_8669422', 'TXN_8982764', 'TXN_7191245', 'TXN_8250651', 'TXN_9401522', 'TXN_7374846', 'TXN_2485183', 'TXN_2059647', 'TXN_2534066', 'TXN_7852990', 'TXN_5003018', 'TXN_8929774', 'TXN_2029497', 'TXN_1967565', 'TXN_2305908', 'TXN_7550498', 'TXN_9755352', 'TXN_8605813', 'TXN_1842675', 'TXN_2084377', 'TXN_9913877', 'TXN_6371987', 'TXN_9076216', 'TXN_3229409', 'TXN_2130245', 'TXN_2078474', 'TXN_5616583', 'TXN_4865338', 'TXN_1077129', 'TXN_1746320', 'TXN_3723007', 'TXN_4942692', 'TXN_4912930', 'TXN_1623966', 'TXN_2256622', 'TXN_1333682', 'TXN_2031459', 'TXN_1289133', 'TXN_9703120', 'TXN_5307411', 'TXN_8692094', 'TXN_2020318', 'TXN_1157817', 'TXN_7557340', 'TXN_3495950', 'TXN_6953697', 'TXN_8540499', 'TXN_7559388', 'TXN_1726858', 'TXN_7496926', 'TXN_5754317', 'TXN_3047598', 'TXN_5411381', 'TXN_4612864', 'TXN_5446858', 'TXN_6244211', 'TXN_9223242', 'TXN_1260335', 'TXN_6878866', 'TXN_1222338', 'TXN_7498727', 'TXN_7922392', 'TXN_8685737', 'TXN_2523298', 'TXN_1158829', 'TXN_2773987', 'TXN_7838964', 'TXN_5523450', 'TXN_8894157', 'TXN_8319993', 'TXN_1259671', 'TXN_1340956', 'TXN_5997803', 'TXN_4639319', 'TXN_8955259', 'TXN_6702428', 'TXN_6795640', 'TXN_4225756', 'TXN_8559167', 'TXN_9081088', 'TXN_7773968', 'TXN_3119542', 'TXN_7140471', 'TXN_1846004', 'TXN_2814363', 'TXN_4473352', 'TXN_7345414', 'TXN_9472241', 'TXN_2265316', 'TXN_6849113', 'TXN_2889622', 'TXN_7275407', 'TXN_1524626', 'TXN_5634135', 'TXN_8703771', 'TXN_7569615', 'TXN_7776739', 'TXN_3959152', 'TXN_1380601', 'TXN_8276635', 'TXN_5079340', 'TXN_4134594', 'TXN_5726998', 'TXN_7676968', 'TXN_2100697', 'TXN_8365478', 'TXN_5457133', 'TXN_1040764', 'TXN_5215451', 'TXN_1130191', 'TXN_2214698', 'TXN_1436343', 'TXN_8147357', 'TXN_8751516', 'TXN_5895177', 'TXN_2301505', 'TXN_9263299', 'TXN_6319728', 'TXN_5392603', 'TXN_9271457', 'TXN_8256593', 'TXN_2635532', 'TXN_3638955', 'TXN_9065402', 'TXN_9421441', 'TXN_2052395', 'TXN_3668051', 'TXN_4884822', 'TXN_3595735', 'TXN_8611035', 'TXN_1916339', 'TXN_8224079', 'TXN_3390285', 'TXN_2598728', 'TXN_1454467', 'TXN_4010658', 'TXN_3665733', 'TXN_3515730', 'TXN_3093219', 'TXN_2633602', 'TXN_3283097', 'TXN_7480234', 'TXN_1824506', 'TXN_1564754', 'TXN_8089522', 'TXN_4660753', 'TXN_5499915', 'TXN_3666858', 'TXN_2726848', 'TXN_8158496', 'TXN_6071202', 'TXN_7809183', 'TXN_5939055', 'TXN_4518102', 'TXN_1234097', 'TXN_7050740', 'TXN_3884811', 'TXN_6169633', 'TXN_2254479', 'TXN_4759769', 'TXN_6908953', 'TXN_1887522', 'TXN_4444463', 'TXN_4619029', 'TXN_8048037', 'TXN_7701070', 'TXN_3022839', 'TXN_4980036', 'TXN_8049191', 'TXN_4732351', 'TXN_8056263', 'TXN_1002457', 'TXN_3677592', 'TXN_3229758', 'TXN_3730415', 'TXN_1751164', 'TXN_8209125', 'TXN_1325631', 'TXN_2508476', 'TXN_4355728', 'TXN_3580786', 'TXN_4980282', 'TXN_3656762', 'TXN_3871837', 'TXN_7438831', 'TXN_6769465', 'TXN_9552845', 'TXN_4796350', 'TXN_6857943', 'TXN_7555408', 'TXN_2169664', 'TXN_7292548', 'TXN_5511805', 'TXN_2980008', 'TXN_3150792', 'TXN_1972584', 'TXN_2130483', 'TXN_8805984', 'TXN_9940220', 'TXN_7558641', 'TXN_7919440', 'TXN_6234872', 'TXN_3219175', 'TXN_8763180', 'TXN_3256497', 'TXN_4134253', 'TXN_1664665', 'TXN_9292230', 'TXN_7633490', 'TXN_7661609', 'TXN_2696664', 'TXN_9068244', 'TXN_8502094', 'TXN_3607652', 'TXN_3414935', 'TXN_3088796', 'TXN_2873990', 'TXN_7817014', 'TXN_9201010', 'TXN_8852585', 'TXN_6368719', 'TXN_3234877', 'TXN_2640701', 'TXN_7864939', 'TXN_9166449', 'TXN_8199829', 'TXN_6360132', 'TXN_4991815', 'TXN_7270652', 'TXN_4769307', 'TXN_3560062', 'TXN_4369043', 'TXN_8818168', 'TXN_8006668', 'TXN_5645919', 'TXN_4573576', 'TXN_7314409', 'TXN_5081978', 'TXN_7752124', 'TXN_4033802', 'TXN_1485417', 'TXN_2641386', 'TXN_5427506', 'TXN_3981449', 'TXN_8136881', 'TXN_7296560', 'TXN_3664656', 'TXN_7550103', 'TXN_8778598', 'TXN_8278833', 'TXN_3779640', 'TXN_6063966', 'TXN_8101633', 'TXN_3740963', 'TXN_8957369', 'TXN_5898743', 'TXN_1330506', 'TXN_2148838', 'TXN_5531712', 'TXN_2947822', 'TXN_6842808', 'TXN_1959334', 'TXN_8267034', 'TXN_8826983', 'TXN_4696439', 'TXN_2239041', 'TXN_4183823', 'TXN_8259257', 'TXN_1628509', 'TXN_9762324', 'TXN_4075863', 'TXN_2062854', 'TXN_8518516', 'TXN_3917193', 'TXN_6727029', 'TXN_1387401', 'TXN_4546375', 'TXN_2968827', 'TXN_3791639', 'TXN_8171171', 'TXN_2690314', 'TXN_7533411', 'TXN_7098730', 'TXN_4538354', 'TXN_2493446', 'TXN_9340653', 'TXN_9113574', 'TXN_9452225', 'TXN_1183995', 'TXN_6250692', 'TXN_7110444', 'TXN_9956154', 'TXN_3381656', 'TXN_4059912', 'TXN_4152036', 'TXN_4186681', 'TXN_3403173', 'TXN_1725926', 'TXN_7837381', 'TXN_6669417', 'TXN_4621665', 'TXN_5624860', 'TXN_1109715', 'TXN_7507962', 'TXN_9470612', 'TXN_4669664', 'TXN_3810451', 'TXN_2392263', 'TXN_5547519', 'TXN_2865033', 'TXN_6422433', 'TXN_8594004', 'TXN_6209258', 'TXN_3515664', 'TXN_7578769', 'TXN_3789752', 'TXN_3213035', 'TXN_5813015', 'TXN_6744866', 'TXN_8298311', 'TXN_5448157', 'TXN_9266394', 'TXN_7609853', 'TXN_6054137', 'TXN_1353479', 'TXN_7380277', 'TXN_7596587', 'TXN_3826038', 'TXN_2213556', 'TXN_5209585', 'TXN_2744907', 'TXN_4498526', 'TXN_5904646', 'TXN_8320245', 'TXN_2106959', 'TXN_7611120', 'TXN_9349962', 'TXN_9410981', 'TXN_1124753', 'TXN_7353972', 'TXN_8764825', 'TXN_8608765', 'TXN_1556652', 'TXN_5897205', 'TXN_9228978', 'TXN_5739806', 'TXN_3142258', 'TXN_2156206', 'TXN_6569656', 'TXN_6152588', 'TXN_3286932', 'TXN_7560807', 'TXN_9759896', 'TXN_2806243', 'TXN_6868049', 'TXN_1259824', 'TXN_1921262', 'TXN_9212503', 'TXN_1123138', 'TXN_3946544', 'TXN_9564123', 'TXN_6352917', 'TXN_2265984', 'TXN_6316959', 'TXN_6836137', 'TXN_2237115', 'TXN_2211685', 'TXN_2383598', 'TXN_8958593', 'TXN_8664315', 'TXN_2126408', 'TXN_6904590', 'TXN_7228816', 'TXN_4998786', 'TXN_3142836', 'TXN_3629351', 'TXN_9289174', 'TXN_3179966', 'TXN_2681833', 'TXN_3469469', 'TXN_9907327', 'TXN_3481470', 'TXN_3397609', 'TXN_9265313', 'TXN_9265319', 'TXN_9239779', 'TXN_5686113', 'TXN_5447508', 'TXN_6721531', 'TXN_8964812', 'TXN_9203920', 'TXN_4364091', 'TXN_8255965', 'TXN_5933480', 'TXN_4266787', 'TXN_8716752', 'TXN_2962976', 'TXN_1503602', 'TXN_3468006', 'TXN_2915281', 'TXN_8032010', 'TXN_8536115', 'TXN_1775884', 'TXN_9097641', 'TXN_9323513', 'TXN_4876440', 'TXN_6362093', 'TXN_7993951', 'TXN_9356512', 'TXN_3130548', 'TXN_6905718', 'TXN_3383926', 'TXN_2132186', 'TXN_9347203', 'TXN_2866147', 'TXN_4679409', 'TXN_7187207', 'TXN_8661288', 'TXN_7946489', 'TXN_4690833', 'TXN_1079239', 'TXN_9236713', 'TXN_4663299', 'TXN_6371264', 'TXN_6830557', 'TXN_6428182', 'TXN_2601689', 'TXN_9238689', 'TXN_7806146', 'TXN_7604541', 'TXN_9866728', 'TXN_1279428', 'TXN_1526864', 'TXN_1655100', 'TXN_6434414', 'TXN_8938144', 'TXN_2977414', 'TXN_5242469', 'TXN_4570711', 'TXN_7688650', 'TXN_1773873', 'TXN_5476465', 'TXN_6111710', 'TXN_6046604', 'TXN_7444541', 'TXN_5637677', 'TXN_8345723', 'TXN_3477767', 'TXN_6178152', 'TXN_7188412', 'TXN_8699110', 'TXN_6347472', 'TXN_2108894', 'TXN_8386792', 'TXN_3574059', 'TXN_1777959', 'TXN_9033890', 'TXN_5051924', 'TXN_4431179', 'TXN_5387067', 'TXN_2498488', 'TXN_1706201', 'TXN_4512118', 'TXN_1349738', 'TXN_9960577', 'TXN_3145041', 'TXN_5758199', 'TXN_6128621', 'TXN_1347965', 'TXN_6581437', 'TXN_8297135', 'TXN_7020671', 'TXN_7889745', 'TXN_5213542', 'TXN_2178964', 'TXN_1932897', 'TXN_4476634', 'TXN_9989415', 'TXN_2611960', 'TXN_5787508', 'TXN_6916047', 'TXN_3183527', 'TXN_6910915', 'TXN_8296518', 'TXN_1869814', 'TXN_2004851', 'TXN_1090854', 'TXN_2070818', 'TXN_5595352', 'TXN_4961655', 'TXN_8114990', 'TXN_8696094', 'TXN_8167279', 'TXN_5763254', 'TXN_2392934', 'TXN_4809497', 'TXN_5740553', 'TXN_5969754', 'TXN_5408625', 'TXN_7308222', 'TXN_6119823', 'TXN_5098938', 'TXN_7399897', 'TXN_5576265', 'TXN_5840223', 'TXN_9409728', 'TXN_4074732', 'TXN_1018880', 'TXN_5229169', 'TXN_7923140', 'TXN_5228270', 'TXN_7019782', 'TXN_2108486', 'TXN_4600048', 'TXN_4015710', 'TXN_4498370', 'TXN_7109358', 'TXN_6571898', 'TXN_2914088', 'TXN_6540946', 'TXN_9263967', 'TXN_2269396', 'TXN_3228823', 'TXN_1046394', 'TXN_7608816', 'TXN_5728991', 'TXN_8776606', 'TXN_2109416', 'TXN_5931292', 'TXN_8354174', 'TXN_3394710', 'TXN_4009547', 'TXN_9196322', 'TXN_5315441', 'TXN_4953450', 'TXN_3605929', 'TXN_8250731', 'TXN_4625910', 'TXN_9587884', 'TXN_7786214', 'TXN_4637016', 'TXN_4387303', 'TXN_3502743', 'TXN_6932070', 'TXN_7280191', 'TXN_6691767', 'TXN_2840323', 'TXN_4501168', 'TXN_1713128', 'TXN_1460963', 'TXN_2611990', 'TXN_9036453', 'TXN_6609947', 'TXN_2447261', 'TXN_7838465', 'TXN_9738758', 'TXN_2393500', 'TXN_1063366', 'TXN_8066743', 'TXN_9103318', 'TXN_9018535', 'TXN_7906197', 'TXN_7384923', 'TXN_1559313', 'TXN_4827371', 'TXN_8973563', 'TXN_7896721', 'TXN_3172751', 'TXN_8563346', 'TXN_4640977', 'TXN_5489408', 'TXN_7940202', 'TXN_4916272', 'TXN_2815335', 'TXN_1026827', 'TXN_9498325', 'TXN_3461209', 'TXN_7815651', 'TXN_4478185', 'TXN_3106215', 'TXN_4005014', 'TXN_8249251', 'TXN_7585348', 'TXN_2855581', 'TXN_7982985', 'TXN_4912458', 'TXN_9840274', 'TXN_6376175', 'TXN_8647575', 'TXN_9658677', 'TXN_4944121', 'TXN_6439579', 'TXN_3112175', 'TXN_3197752', 'TXN_1461895', 'TXN_6463415', 'TXN_8187656', 'TXN_6208034', 'TXN_5369555', 'TXN_3363831', 'TXN_4339682', 'TXN_7315198', 'TXN_7997144', 'TXN_5134545', 'TXN_7269513', 'TXN_4479052', 'TXN_1992966', 'TXN_8503406', 'TXN_3463928', 'TXN_9101792', 'TXN_3547825', 'TXN_9392028', 'TXN_8022689', 'TXN_2743397', 'TXN_6387964', 'TXN_1343750', 'TXN_4109764', 'TXN_2163229', 'TXN_8034156', 'TXN_3519066', 'TXN_4634772', 'TXN_5590805', 'TXN_1901729', 'TXN_7913451', 'TXN_3110343', 'TXN_7675823', 'TXN_9959813', 'TXN_1778707', 'TXN_8005682', 'TXN_2416816', 'TXN_5780615', 'TXN_1794862', 'TXN_8868960', 'TXN_9402247', 'TXN_1964555', 'TXN_8689416', 'TXN_5648512', 'TXN_2179458', 'TXN_5132327', 'TXN_3725837', 'TXN_5710748', 'TXN_2058243', 'TXN_7805035', 'TXN_3746260', 'TXN_5661147', 'TXN_2820693', 'TXN_3790025', 'TXN_8888153', 'TXN_9561832', 'TXN_6696913', 'TXN_9536472', 'TXN_2098878', 'TXN_8717428', 'TXN_5934059', 'TXN_3173923', 'TXN_8229546', 'TXN_5124870', 'TXN_5007619', 'TXN_5038513', 'TXN_3831364', 'TXN_7679707', 'TXN_3760598', 'TXN_2526667', 'TXN_3489940', 'TXN_2826603', 'TXN_2391446', 'TXN_5445318', 'TXN_5163686', 'TXN_4594922', 'TXN_1575608', 'TXN_4040989', 'TXN_5182042', 'TXN_7484682', 'TXN_1122140', 'TXN_4487966', 'TXN_4167859', 'TXN_5630457', 'TXN_5325729', 'TXN_1713098', 'TXN_7337979', 'TXN_4779440', 'TXN_3135132', 'TXN_9625287', 'TXN_7833800', 'TXN_7078232', 'TXN_8460786', 'TXN_2492058', 'TXN_5447694', 'TXN_4336892', 'TXN_4712887', 'TXN_6287890', 'TXN_2024121', 'TXN_8336656', 'TXN_2964638', 'TXN_3696194', 'TXN_9904662', 'TXN_5601300', 'TXN_4316299', 'TXN_5657259', 'TXN_9140598', 'TXN_3663712', 'TXN_2190793', 'TXN_6269119', 'TXN_4874685', 'TXN_3101575', 'TXN_6254003', 'TXN_3945716', 'TXN_9890874', 'TXN_3856427', 'TXN_3794585', 'TXN_2287941', 'TXN_9152264', 'TXN_8379141', 'TXN_1866028', 'TXN_8514689', 'TXN_8999006', 'TXN_5350401', 'TXN_3439712', 'TXN_5651348', 'TXN_5410185', 'TXN_7764154', 'TXN_6358073', 'TXN_1104849', 'TXN_5021925', 'TXN_8692653', 'TXN_1646009', 'TXN_9086709', 'TXN_2053993', 'TXN_4491072', 'TXN_3471223', 'TXN_1116119', 'TXN_9911345', 'TXN_7470910', 'TXN_6024625', 'TXN_7615147', 'TXN_1494608', 'TXN_3542902', 'TXN_2625324', 'TXN_7448296', 'TXN_7215985', 'TXN_8920751', 'TXN_5348445', 'TXN_2291079', 'TXN_7063124', 'TXN_2924611', 'TXN_9868382', 'TXN_8811565', 'TXN_5014959', 'TXN_4125165', 'TXN_2178735', 'TXN_4007285', 'TXN_2078577', 'TXN_1148945', 'TXN_2996948', 'TXN_9084554', 'TXN_3380698', 'TXN_1991104', 'TXN_7223120', 'TXN_5009706', 'TXN_6402128', 'TXN_5373527', 'TXN_6846047', 'TXN_5546684', 'TXN_5892508', 'TXN_3426892', 'TXN_7225428', 'TXN_4146452', 'TXN_4187420', 'TXN_2482129', 'TXN_3688181', 'TXN_7880148', 'TXN_2153529', 'TXN_9218683', 'TXN_6886495', 'TXN_4591512', 'TXN_4033888', 'TXN_5654490', 'TXN_8623443', 'TXN_5136936', 'TXN_6077816', 'TXN_1512118', 'TXN_2336708', 'TXN_1413304', 'TXN_3163383', 'TXN_6007079', 'TXN_6113876', 'TXN_3616362', 'TXN_2881199', 'TXN_7201724', 'TXN_7670743', 'TXN_8781128', 'TXN_6035534', 'TXN_6868182', 'TXN_1521486', 'TXN_6187083', 'TXN_5614488', 'TXN_3854285', 'TXN_9553579', 'TXN_6057379', 'TXN_5474440', 'TXN_3857768', 'TXN_7085875', 'TXN_8298711', 'TXN_6148397', 'TXN_1324930', 'TXN_9328595', 'TXN_5236892', 'TXN_2155368', 'TXN_5442610', 'TXN_6732989', 'TXN_9874588', 'TXN_6450138', 'TXN_7894514', 'TXN_4907812', 'TXN_4315988', 'TXN_5801294', 'TXN_8780340', 'TXN_4257830', 'TXN_6428593', 'TXN_1438257', 'TXN_5583534', 'TXN_5509088', 'TXN_6622954', 'TXN_4114843', 'TXN_7026504', 'TXN_9626053', 'TXN_5441196', 'TXN_8161873', 'TXN_9313535', 'TXN_4637070', 'TXN_1697018', 'TXN_5595717', 'TXN_2176727', 'TXN_7401710', 'TXN_3008336', 'TXN_9358958', 'TXN_1591640', 'TXN_3516263', 'TXN_2009893', 'TXN_7853635', 'TXN_9124680', 'TXN_5419862', 'TXN_7023528', 'TXN_2660295', 'TXN_2906443', 'TXN_3963927', 'TXN_1282260', 'TXN_8330446', 'TXN_7216922', 'TXN_1286779', 'TXN_8465274', 'TXN_4206256', 'TXN_3282436', 'TXN_9725369', 'TXN_6881523', 'TXN_9159212', 'TXN_7527249', 'TXN_5033045', 'TXN_8605958', 'TXN_3152531', 'TXN_2667225', 'TXN_1910957', 'TXN_6189334', 'TXN_1544070', 'TXN_1663113', 'TXN_8808034', 'TXN_7027905', 'TXN_3392848', 'TXN_1568657', 'TXN_2413626', 'TXN_2955040', 'TXN_1437083', 'TXN_9603131', 'TXN_8135614', 'TXN_3865224', 'TXN_7482583', 'TXN_9769410', 'TXN_9582716', 'TXN_2367947', 'TXN_9138791', 'TXN_4090904', 'TXN_5480564', 'TXN_9691018', 'TXN_1730647', 'TXN_7303706', 'TXN_6829707', 'TXN_1803889', 'TXN_2726700', 'TXN_6908287', 'TXN_6467618', 'TXN_3410971', 'TXN_3803732', 'TXN_1852586', 'TXN_3412490', 'TXN_9822317', 'TXN_3330687', 'TXN_7948095', 'TXN_2761542', 'TXN_3942164', 'TXN_4135454', 'TXN_8209794', 'TXN_6816094', 'TXN_5041555', 'TXN_4496665', 'TXN_7732920', 'TXN_8703212', 'TXN_8808631', 'TXN_2473090', 'TXN_5311015', 'TXN_4936135', 'TXN_2400518', 'TXN_7094898', 'TXN_7230500', 'TXN_4176373', 'TXN_6530795', 'TXN_6719521', 'TXN_3089814', 'TXN_8118419', 'TXN_9102030', 'TXN_3736798', 'TXN_4240796', 'TXN_1235969', 'TXN_5354746', 'TXN_7626939', 'TXN_9296807', 'TXN_6243479', 'TXN_2633600', 'TXN_1054915', 'TXN_9081115', 'TXN_3103972', 'TXN_7433269', 'TXN_5913013', 'TXN_3003809', 'TXN_6928137', 'TXN_6202015', 'TXN_9906002', 'TXN_3125997', 'TXN_1022523', 'TXN_5386752', 'TXN_6191123', 'TXN_6806290', 'TXN_5349288', 'TXN_9497634', 'TXN_6313325', 'TXN_3331437', 'TXN_7696120', 'TXN_8964527', 'TXN_9983356', 'TXN_9370294', 'TXN_1741325', 'TXN_4723978', 'TXN_9444461', 'TXN_4617771', 'TXN_2166064', 'TXN_2766651', 'TXN_4613883', 'TXN_3121271', 'TXN_4631695', 'TXN_6910030', 'TXN_5965422', 'TXN_2114258', 'TXN_1505947', 'TXN_8530924', 'TXN_9056301', 'TXN_7574828', 'TXN_5669113', 'TXN_4179561', 'TXN_4114503', 'TXN_8958073', 'TXN_1200795', 'TXN_1961595', 'TXN_5322809', 'TXN_7810285', 'TXN_9408993', 'TXN_1981602', 'TXN_6471962', 'TXN_8734476', 'TXN_9991225', 'TXN_5050993', 'TXN_1789644', 'TXN_2923987', 'TXN_4812472', 'TXN_1792573', 'TXN_6565955', 'TXN_3755379', 'TXN_8398059', 'TXN_7609781', 'TXN_5538503', 'TXN_5753095', 'TXN_3713626', 'TXN_8645889', 'TXN_2946829', 'TXN_3713976', 'TXN_8186625', 'TXN_7812601', 'TXN_6078834', 'TXN_1476066', 'TXN_5858988', 'TXN_5102956', 'TXN_5080213', 'TXN_1371554', 'TXN_1096690', 'TXN_8361255', 'TXN_6791398', 'TXN_3572190', 'TXN_4792702', 'TXN_8908224', 'TXN_6915192', 'TXN_9256387', 'TXN_6206171', 'TXN_5375349', 'TXN_4896948', 'TXN_2089778', 'TXN_1346936', 'TXN_9155299', 'TXN_3727374', 'TXN_1105589', 'TXN_1973716', 'TXN_2018654', 'TXN_4067814', 'TXN_2889344', 'TXN_8750849', 'TXN_9143440', 'TXN_9971927', 'TXN_5301689', 'TXN_4310310', 'TXN_2749266', 'TXN_8076559', 'TXN_8300706', 'TXN_9288207', 'TXN_3223187', 'TXN_1389258', 'TXN_5412834', 'TXN_2482363', 'TXN_5019407', 'TXN_9596100', 'TXN_7740907', 'TXN_4988665', 'TXN_8466519', 'TXN_4108120', 'TXN_6202035', 'TXN_4832513', 'TXN_5540986', 'TXN_6813508', 'TXN_3444519', 'TXN_6129205', 'TXN_4258949', 'TXN_1154979', 'TXN_8283691', 'TXN_8441057', 'TXN_7759607', 'TXN_6411716', 'TXN_2916209', 'TXN_6359777', 'TXN_6717061', 'TXN_7198128', 'TXN_2806515', 'TXN_3484520', 'TXN_2426782', 'TXN_7216161', 'TXN_7515082', 'TXN_4356223', 'TXN_6492919', 'TXN_9469533', 'TXN_7453213', 'TXN_3815345', 'TXN_1180969', 'TXN_7268366', 'TXN_6782228', 'TXN_5379385', 'TXN_8930109', 'TXN_8789116', 'TXN_7538570', 'TXN_8543211', 'TXN_8817239', 'TXN_3427950', 'TXN_5031214', 'TXN_6899834', 'TXN_7033977', 'TXN_6555617', 'TXN_4651514', 'TXN_3060152', 'TXN_2471972', 'TXN_4250492', 'TXN_1987977', 'TXN_3562350', 'TXN_1388606', 'TXN_7391267', 'TXN_9579181', 'TXN_3336502', 'TXN_1602799', 'TXN_7369807', 'TXN_9151321', 'TXN_2385697', 'TXN_6086709', 'TXN_4255503', 'TXN_1681153', 'TXN_5755839', 'TXN_5067373', 'TXN_8831813', 'TXN_8551432', 'TXN_9799798', 'TXN_8205107', 'TXN_2269497', 'TXN_6060764', 'TXN_6404763', 'TXN_3615483', 'TXN_6108428', 'TXN_7478389', 'TXN_7782538', 'TXN_5566652', 'TXN_5792655', 'TXN_3224921', 'TXN_4932018', 'TXN_5901180', 'TXN_4427348', 'TXN_9526867', 'TXN_2336857', 'TXN_9121852', 'TXN_4472156', 'TXN_9996968', 'TXN_7222483', 'TXN_4203585', 'TXN_4147073', 'TXN_9844703', 'TXN_4798534', 'TXN_7867311', 'TXN_8219519', 'TXN_7146613', 'TXN_4915908', 'TXN_5237569', 'TXN_5153686', 'TXN_8396271', 'TXN_5290522', 'TXN_3483570', 'TXN_5268203', 'TXN_5775113', 'TXN_6900785', 'TXN_3749365', 'TXN_9354616', 'TXN_3001647', 'TXN_3753993', 'TXN_5856820', 'TXN_2424930', 'TXN_5735731', 'TXN_3628056', 'TXN_5788769', 'TXN_2539318', 'TXN_2195630', 'TXN_7043825', 'TXN_9074075', 'TXN_9285663', 'TXN_5485384', 'TXN_8517379', 'TXN_5977414', 'TXN_6787560', 'TXN_6983139', 'TXN_1951569', 'TXN_3912727', 'TXN_2952715', 'TXN_6011884', 'TXN_4369292', 'TXN_9278992', 'TXN_5469063', 'TXN_5226635', 'TXN_7406393', 'TXN_4563679', 'TXN_5780931', 'TXN_6962242', 'TXN_7590801', 'TXN_4901854', 'TXN_3670298', 'TXN_3712466', 'TXN_3071617', 'TXN_2773491', 'TXN_6899248', 'TXN_7604352', 'TXN_8550184', 'TXN_3091582', 'TXN_5121322', 'TXN_8842223', 'TXN_8050034', 'TXN_8685846', 'TXN_5907854', 'TXN_9728454', 'TXN_9835676', 'TXN_3195257', 'TXN_4548466', 'TXN_8808162', 'TXN_6105240', 'TXN_9503369', 'TXN_4889269', 'TXN_2494138', 'TXN_3116227', 'TXN_9253398', 'TXN_8115752', 'TXN_6177865', 'TXN_6290642', 'TXN_1757340', 'TXN_9087344', 'TXN_4773465', 'TXN_7055260', 'TXN_7752454', 'TXN_9201212', 'TXN_4376214', 'TXN_2915856', 'TXN_9212178', 'TXN_5944206', 'TXN_9433769', 'TXN_5537740', 'TXN_6714931', 'TXN_5750278', 'TXN_2594430', 'TXN_1726774', 'TXN_1494502', 'TXN_5402385', 'TXN_2148444', 'TXN_1082421', 'TXN_7531745', 'TXN_3593060', 'TXN_2820788', 'TXN_9117434', 'TXN_5191642', 'TXN_4928254', 'TXN_9390740', 'TXN_8366002', 'TXN_3835043', 'TXN_1681216', 'TXN_8148137', 'TXN_9975321', 'TXN_3455702', 'TXN_6731518', 'TXN_7692628', 'TXN_3678091', 'TXN_8933459', 'TXN_1007347', 'TXN_5575561', 'TXN_6738350', 'TXN_8588335', 'TXN_5927884', 'TXN_2142961', 'TXN_6451377', 'TXN_1417724', 'TXN_9127105', 'TXN_9333347', 'TXN_9277146', 'TXN_1931404', 'TXN_1819615', 'TXN_7606512', 'TXN_8666003', 'TXN_9047278', 'TXN_8149585', 'TXN_4657842', 'TXN_4125921', 'TXN_1360998', 'TXN_2865104', 'TXN_8831924', 'TXN_4323570', 'TXN_7012065', 'TXN_7688625', 'TXN_8908193', 'TXN_7794561', 'TXN_4737392', 'TXN_4549825', 'TXN_2494194', 'TXN_5680629', 'TXN_4893692', 'TXN_9534685', 'TXN_1057209', 'TXN_4413506', 'TXN_8356338', 'TXN_9847116', 'TXN_7365744', 'TXN_6809170', 'TXN_9762385', 'TXN_4643515', 'TXN_6817795', 'TXN_4516901', 'TXN_3165950', 'TXN_3488611', 'TXN_6667388', 'TXN_8017969', 'TXN_7644786', 'TXN_1817596', 'TXN_9086541', 'TXN_7950226', 'TXN_3225552', 'TXN_3952218', 'TXN_8837375', 'TXN_8918902', 'TXN_5395229', 'TXN_3109692', 'TXN_1854102', 'TXN_9538738', 'TXN_2160316', 'TXN_2062269', 'TXN_5692316', 'TXN_9899571', 'TXN_1755661', 'TXN_6727985', 'TXN_3717372', 'TXN_5470087', 'TXN_9817681', 'TXN_9662568', 'TXN_3689335', 'TXN_6747376', 'TXN_4692976', 'TXN_2461238', 'TXN_9425645', 'TXN_3109334', 'TXN_7056051', 'TXN_9039165', 'TXN_6257776', 'TXN_1840566', 'TXN_6712994', 'TXN_4493176', 'TXN_4083736', 'TXN_4532651', 'TXN_1856112', 'TXN_1243964', 'TXN_3131761', 'TXN_8313892', 'TXN_8540115', 'TXN_9969283', 'TXN_2726843', 'TXN_4220743', 'TXN_9778859', 'TXN_2335088', 'TXN_6921057', 'TXN_7134579', 'TXN_2878078', 'TXN_1622123', 'TXN_4291132', 'TXN_5882584', 'TXN_8836650', 'TXN_4178872', 'TXN_5245399', 'TXN_6073195', 'TXN_4430176', 'TXN_2018236', 'TXN_3604156', 'TXN_3869150', 'TXN_8138157', 'TXN_4432823', 'TXN_4639621', 'TXN_9169782', 'TXN_2091128', 'TXN_3800253', 'TXN_5526475', 'TXN_5455079', 'TXN_3326110', 'TXN_5580933', 'TXN_5330930', 'TXN_5491825', 'TXN_6386662', 'TXN_1062822', 'TXN_4428448', 'TXN_3850274', 'TXN_1987212', 'TXN_5342589', 'TXN_3404479', 'TXN_5881757', 'TXN_5396450', 'TXN_1865735', 'TXN_7616002', 'TXN_6708156', 'TXN_2488987', 'TXN_4706042', 'TXN_7296498', 'TXN_4049949', 'TXN_9522899', 'TXN_4997327', 'TXN_6298532', 'TXN_4134478', 'TXN_6441650', 'TXN_1785371', 'TXN_5019143', 'TXN_3915802', 'TXN_7350571', 'TXN_2560137', 'TXN_8321092', 'TXN_8454044', 'TXN_2814866', 'TXN_2346001', 'TXN_8207244', 'TXN_9316158', 'TXN_1075183', 'TXN_8541074', 'TXN_9193760', 'TXN_5303275', 'TXN_9491912', 'TXN_9262803', 'TXN_1893222', 'TXN_6363897', 'TXN_3147198', 'TXN_3330377', 'TXN_7730388', 'TXN_1872922', 'TXN_6066433', 'TXN_2340312', 'TXN_6258276', 'TXN_2275914', 'TXN_1335337', 'TXN_6038791', 'TXN_3257591', 'TXN_2493262', 'TXN_7100596', 'TXN_6376630', 'TXN_3970335', 'TXN_8182245', 'TXN_3115258', 'TXN_9367492', 'TXN_7560989', 'TXN_6745832', 'TXN_5130399', 'TXN_2023802', 'TXN_4075432', 'TXN_3450160', 'TXN_5624179', 'TXN_9970966', 'TXN_6577035', 'TXN_6992164', 'TXN_9530003', 'TXN_1962275', 'TXN_6758675', 'TXN_5182399', 'TXN_5855756', 'TXN_4454198', 'TXN_5998419', 'TXN_3046108', 'TXN_9465300', 'TXN_8018479', 'TXN_5700545', 'TXN_2553803', 'TXN_6188394', 'TXN_3648327', 'TXN_9454212', 'TXN_1481116', 'TXN_5085328', 'TXN_2668108', 'TXN_4486700', 'TXN_8382825', 'TXN_8789986', 'TXN_3099191', 'TXN_7681072', 'TXN_9663990', 'TXN_8512466', 'TXN_9867948', 'TXN_1525046', 'TXN_8715122', 'TXN_6668414', 'TXN_5524352', 'TXN_6215303', 'TXN_2347596', 'TXN_7864080', 'TXN_5508620', 'TXN_5050111', 'TXN_1225638', 'TXN_8767676', 'TXN_3873718', 'TXN_8257774', 'TXN_9169536', 'TXN_2944518', 'TXN_7355635', 'TXN_6110386', 'TXN_6191769', 'TXN_3443235', 'TXN_3203928', 'TXN_6541659', 'TXN_6023823', 'TXN_5861158', 'TXN_5591967', 'TXN_9967728', 'TXN_6987950', 'TXN_8867300', 'TXN_9172616', 'TXN_9834329', 'TXN_6638051', 'TXN_6762172', 'TXN_2006923', 'TXN_2540440', 'TXN_9948425', 'TXN_2463115', 'TXN_7818024', 'TXN_6034785', 'TXN_6066883', 'TXN_9425610', 'TXN_9603263', 'TXN_9837568', 'TXN_8245906', 'TXN_6607568', 'TXN_7169320', 'TXN_6306655', 'TXN_7189368', 'TXN_7852032', 'TXN_6330369', 'TXN_2333576', 'TXN_2710779', 'TXN_3034652', 'TXN_2406254', 'TXN_2848654', 'TXN_7501002', 'TXN_2788797', 'TXN_1572930', 'TXN_7068653', 'TXN_6167259', 'TXN_3981000', 'TXN_1926278', 'TXN_4283563', 'TXN_7686476', 'TXN_8278982', 'TXN_9279347', 'TXN_7376092', 'TXN_5180326', 'TXN_2771364', 'TXN_9749333', 'TXN_3611851', 'TXN_8092496', 'TXN_7411993', 'TXN_2101437', 'TXN_9001088', 'TXN_3195132', 'TXN_7380217', 'TXN_1923349', 'TXN_3107619', 'TXN_1498343', 'TXN_2864420', 'TXN_7958487', 'TXN_4567455', 'TXN_4030010', 'TXN_1546695', 'TXN_7551097', 'TXN_7367474', 'TXN_4255767', 'TXN_2127588', 'TXN_2192787', 'TXN_5113993', 'TXN_9927061', 'TXN_2640727', 'TXN_9490163', 'TXN_4360040', 'TXN_4864206', 'TXN_5785600', 'TXN_2566258', 'TXN_1630051', 'TXN_8504764', 'TXN_1907250', 'TXN_4679593', 'TXN_8791641', 'TXN_2879092', 'TXN_7134064', 'TXN_2543138', 'TXN_6792445', 'TXN_5460750', 'TXN_6223786', 'TXN_9287133', 'TXN_4638629', 'TXN_2628024', 'TXN_5767393', 'TXN_9224501', 'TXN_7264039', 'TXN_2565449', 'TXN_5949811', 'TXN_5538713', 'TXN_8108748', 'TXN_5284338', 'TXN_4903004', 'TXN_8668901', 'TXN_6243519', 'TXN_9373436', 'TXN_1439390', 'TXN_8321225', 'TXN_7868879', 'TXN_8994477', 'TXN_2624121', 'TXN_6802372', 'TXN_6568536', 'TXN_9577271', 'TXN_2285849', 'TXN_5486063', 'TXN_9201988', 'TXN_8616163', 'TXN_8556062', 'TXN_7952680', 'TXN_7543722', 'TXN_7127903', 'TXN_6851213', 'TXN_7957208', 'TXN_8956534', 'TXN_2815691', 'TXN_3265596', 'TXN_8753888', 'TXN_2161341', 'TXN_7362525', 'TXN_3064922', 'TXN_3206876', 'TXN_9678108', 'TXN_2195218', 'TXN_9508880', 'TXN_1622577', 'TXN_2699583', 'TXN_5108804', 'TXN_3051509', 'TXN_1867836', 'TXN_1227800', 'TXN_5331122', 'TXN_3312002', 'TXN_2255634', 'TXN_5400273', 'TXN_1248266', 'TXN_9731530', 'TXN_1749105', 'TXN_3817784', 'TXN_8429412', 'TXN_1579182', 'TXN_1005331', 'TXN_7844687', 'TXN_7290923', 'TXN_3620110', 'TXN_5062280', 'TXN_2627056', 'TXN_2378096', 'TXN_7468777', 'TXN_7825457', 'TXN_6315590', 'TXN_8631468', 'TXN_5427338', 'TXN_4894699', 'TXN_8271025', 'TXN_2156218', 'TXN_6236864', 'TXN_4917580', 'TXN_2614545', 'TXN_6271219', 'TXN_4987246', 'TXN_1446862', 'TXN_9298053', 'TXN_9370304', 'TXN_6843517', 'TXN_3985301', 'TXN_6471268', 'TXN_6503052', 'TXN_7477271', 'TXN_4836614', 'TXN_1185118', 'TXN_7311097', 'TXN_4840295', 'TXN_8360073', 'TXN_7907499', 'TXN_3520908', 'TXN_8632098', 'TXN_6594187', 'TXN_7416770', 'TXN_5563675', 'TXN_2229365', 'TXN_7527954', 'TXN_8861272', 'TXN_4041845', 'TXN_6902481', 'TXN_7201361', 'TXN_1853196', 'TXN_7825648', 'TXN_2217038', 'TXN_4244830', 'TXN_4002629', 'TXN_6440365', 'TXN_7325430', 'TXN_9834415', 'TXN_1582958', 'TXN_6036520', 'TXN_3360401', 'TXN_1834831', 'TXN_3164212', 'TXN_5661891', 'TXN_8399341', 'TXN_2080682', 'TXN_2690515', 'TXN_4140167', 'TXN_3733753', 'TXN_6009395', 'TXN_8997048', 'TXN_8410712', 'TXN_3244935', 'TXN_4735392', 'TXN_8898121', 'TXN_2399870', 'TXN_3328393', 'TXN_1795044', 'TXN_4155134', 'TXN_5765576', 'TXN_3683787', 'TXN_1643039', 'TXN_6551087', 'TXN_6259827', 'TXN_6304285', 'TXN_4089089', 'TXN_6885561', 'TXN_8936782', 'TXN_5186460', 'TXN_1339457', 'TXN_9991468', 'TXN_5435751', 'TXN_2810554', 'TXN_8707598', 'TXN_2623927', 'TXN_9474082', 'TXN_8103439', 'TXN_6746140', 'TXN_7125945', 'TXN_4084548', 'TXN_9196116', 'TXN_7770253', 'TXN_9639025', 'TXN_9251292', 'TXN_8916613', 'TXN_2897115', 'TXN_5836079', 'TXN_5791605', 'TXN_1437275', 'TXN_8837886', 'TXN_1270603', 'TXN_8166394', 'TXN_4015634', 'TXN_3003876', 'TXN_3653328', 'TXN_7792996', 'TXN_5764993', 'TXN_8793244', 'TXN_3023841', 'TXN_3892344', 'TXN_1908100', 'TXN_4468830', 'TXN_4371760', 'TXN_4007506', 'TXN_2423762', 'TXN_1866816', 'TXN_7192920', 'TXN_8700156', 'TXN_9695128', 'TXN_6669163', 'TXN_1701500', 'TXN_5405799', 'TXN_4449173', 'TXN_4954887', 'TXN_8453110', 'TXN_5067056', 'TXN_3665727', 'TXN_6145837', 'TXN_2450799', 'TXN_2492586', 'TXN_9663098', 'TXN_4946991', 'TXN_9277534', 'TXN_1346517', 'TXN_5448602', 'TXN_5206049', 'TXN_2628941', 'TXN_2376525', 'TXN_6346774', 'TXN_1833277', 'TXN_8191921', 'TXN_2193092', 'TXN_5560205', 'TXN_5807634', 'TXN_4784128', 'TXN_1529904', 'TXN_6301600', 'TXN_9565465', 'TXN_5039624', 'TXN_8938663', 'TXN_7099050', 'TXN_8626161', 'TXN_6132959', 'TXN_6641409', 'TXN_4349597', 'TXN_9853577', 'TXN_3103967', 'TXN_4488222', 'TXN_4671054', 'TXN_1203954', 'TXN_2564219', 'TXN_7125392', 'TXN_5508573', 'TXN_2064360', 'TXN_2578309', 'TXN_7032256', 'TXN_4547995', 'TXN_5017895', 'TXN_9793353', 'TXN_6119798', 'TXN_8277553', 'TXN_4868913', 'TXN_1581997', 'TXN_6169248', 'TXN_6610554', 'TXN_1411744', 'TXN_5894676', 'TXN_8426712', 'TXN_1183212', 'TXN_4647042', 'TXN_6671827', 'TXN_6277500', 'TXN_1672443', 'TXN_8788437', 'TXN_7122708', 'TXN_3353214', 'TXN_6345733', 'TXN_5516804', 'TXN_6542877', 'TXN_8900751', 'TXN_9301279', 'TXN_6199016', 'TXN_3190959', 'TXN_8308672', 'TXN_3943666', 'TXN_8784653', 'TXN_1395083', 'TXN_7054393', 'TXN_3833729', 'TXN_3912836', 'TXN_7276927', 'TXN_4030197', 'TXN_8285304', 'TXN_2694724', 'TXN_7075261', 'TXN_5167425', 'TXN_4215488', 'TXN_7694020', 'TXN_2093816', 'TXN_3818464', 'TXN_6018740', 'TXN_6117497', 'TXN_1351151', 'TXN_7501717', 'TXN_3243832', 'TXN_1454730', 'TXN_1667192', 'TXN_5834491', 'TXN_2828596', 'TXN_5429861', 'TXN_2621008', 'TXN_3484190', 'TXN_7741256', 'TXN_9293417', 'TXN_6975750', 'TXN_2634410', 'TXN_6778177', 'TXN_3824443', 'TXN_6124342', 'TXN_5956755', 'TXN_2879361', 'TXN_7231548', 'TXN_8877644', 'TXN_7415686', 'TXN_9783452', 'TXN_3413185', 'TXN_8023817', 'TXN_5198827', 'TXN_5396727', 'TXN_2764962', 'TXN_4225300', 'TXN_6047026', 'TXN_1655827', 'TXN_7517996', 'TXN_7694491', 'TXN_9956671', 'TXN_8002886', 'TXN_2364171', 'TXN_9813943', 'TXN_6348290', 'TXN_9126502', 'TXN_8777692', 'TXN_4064245', 'TXN_4543880', 'TXN_6365371', 'TXN_9744862', 'TXN_9019429', 'TXN_3044825', 'TXN_7512574', 'TXN_7797321', 'TXN_3247340', 'TXN_2568101', 'TXN_3277379', 'TXN_4187327', 'TXN_1491299', 'TXN_4171507', 'TXN_2130415', 'TXN_3596456', 'TXN_4563646', 'TXN_6755757', 'TXN_3040823', 'TXN_6364938', 'TXN_1372991', 'TXN_3555821', 'TXN_6627338', 'TXN_9981953', 'TXN_4824773', 'TXN_4914535', 'TXN_9104535', 'TXN_3928766', 'TXN_4507755', 'TXN_6626427', 'TXN_4301188', 'TXN_9491244', 'TXN_8397155', 'TXN_1386024', 'TXN_5055872', 'TXN_7217284', 'TXN_2036482', 'TXN_3061266', 'TXN_2004781', 'TXN_9489176', 'TXN_2518917', 'TXN_3927733', 'TXN_4128086', 'TXN_3832513', 'TXN_1738607', 'TXN_9617421', 'TXN_9309509', 'TXN_6064282', 'TXN_5932169', 'TXN_9063887', 'TXN_1718733', 'TXN_1248436', 'TXN_6131415', 'TXN_8097899', 'TXN_7373126', 'TXN_9270865', 'TXN_3377885', 'TXN_1869147', 'TXN_7865220', 'TXN_5721215', 'TXN_4650044', 'TXN_4522012', 'TXN_9372046', 'TXN_2345373', 'TXN_2631671', 'TXN_7516790', 'TXN_4802389', 'TXN_5855981', 'TXN_6522252', 'TXN_3225132', 'TXN_2982163', 'TXN_5406758', 'TXN_8900579', 'TXN_2806206', 'TXN_6629689', 'TXN_2461859', 'TXN_5902629', 'TXN_5413274', 'TXN_6845472', 'TXN_7943598', 'TXN_7997641', 'TXN_9587015', 'TXN_5591145', 'TXN_4959129', 'TXN_3599473', 'TXN_5319247', 'TXN_1108663', 'TXN_2452624', 'TXN_1461246', 'TXN_2135613', 'TXN_1996318', 'TXN_5379179', 'TXN_9306229', 'TXN_9402270', 'TXN_7903841', 'TXN_7206160', 'TXN_4068183', 'TXN_1249069', 'TXN_4201578', 'TXN_9036067', 'TXN_4536553', 'TXN_8689246', 'TXN_6786340', 'TXN_3432879', 'TXN_8498613', 'TXN_5198524', 'TXN_3200203', 'TXN_6211466', 'TXN_6915899', 'TXN_2861396', 'TXN_9690114', 'TXN_1515059', 'TXN_9833245', 'TXN_5974123', 'TXN_7145672', 'TXN_2202863', 'TXN_7051359', 'TXN_1730850', 'TXN_6691781', 'TXN_2605566', 'TXN_2490759', 'TXN_5358805', 'TXN_2252121', 'TXN_6087494', 'TXN_7771434', 'TXN_8936663', 'TXN_1860406', 'TXN_9710307', 'TXN_7763592', 'TXN_1510315', 'TXN_1480967', 'TXN_3493951', 'TXN_7397665', 'TXN_8792638', 'TXN_3873656', 'TXN_3854036', 'TXN_6811368', 'TXN_9864212', 'TXN_1512184', 'TXN_5239202', 'TXN_6337312', 'TXN_7944534', 'TXN_4099487', 'TXN_3425783', 'TXN_4801832', 'TXN_8379880', 'TXN_3680047', 'TXN_1299959', 'TXN_8669012', 'TXN_5255023', 'TXN_3507334', 'TXN_4698656', 'TXN_2490435', 'TXN_7917193', 'TXN_3227186', 'TXN_7640700', 'TXN_2743696', 'TXN_1663257', 'TXN_1653570', 'TXN_6643951', 'TXN_7211769', 'TXN_3193321', 'TXN_2282283', 'TXN_5313211', 'TXN_4551806', 'TXN_4205369', 'TXN_9021000', 'TXN_7552449', 'TXN_2291713', 'TXN_2106437', 'TXN_3303114', 'TXN_8295101', 'TXN_7524977', 'TXN_8878830', 'TXN_5737831', 'TXN_5622313', 'TXN_1482123', 'TXN_7644000', 'TXN_4974012', 'TXN_9798525', 'TXN_2916247', 'TXN_5817991', 'TXN_3388054', 'TXN_5214219', 'TXN_6845225', 'TXN_6037712', 'TXN_4015101', 'TXN_6725579', 'TXN_7624646', 'TXN_3722720', 'TXN_3274105', 'TXN_4851339', 'TXN_4423218', 'TXN_9507002', 'TXN_9186913', 'TXN_3849488', 'TXN_4598397', 'TXN_5484423', 'TXN_5404249', 'TXN_5818032', 'TXN_1045022', 'TXN_5158607', 'TXN_9551638', 'TXN_9729280', 'TXN_6249754', 'TXN_3446033', 'TXN_6403859', 'TXN_9947479', 'TXN_2413026', 'TXN_7800236', 'TXN_6841805', 'TXN_4411172', 'TXN_5908857', 'TXN_4953063', 'TXN_9904091', 'TXN_7387701', 'TXN_8611913', 'TXN_2334523', 'TXN_3756680', 'TXN_3880417', 'TXN_9901424', 'TXN_2810280', 'TXN_7852397', 'TXN_3267783', 'TXN_7510217', 'TXN_2122597', 'TXN_2611393', 'TXN_7946450', 'TXN_4690415', 'TXN_7682605', 'TXN_9587814', 'TXN_4811887', 'TXN_6119081', 'TXN_6259001', 'TXN_9703722', 'TXN_9747008', 'TXN_8335965', 'TXN_6828371', 'TXN_9137801', 'TXN_2147453', 'TXN_9500986', 'TXN_1248167', 'TXN_6491662', 'TXN_3390072', 'TXN_4223265', 'TXN_2555823', 'TXN_5875661', 'TXN_5486398', 'TXN_9938260', 'TXN_6490609', 'TXN_9181144', 'TXN_2982995', 'TXN_9190969', 'TXN_8459594', 'TXN_3260087', 'TXN_2897468', 'TXN_5496581', 'TXN_6097706', 'TXN_6835777', 'TXN_4242676', 'TXN_5609260', 'TXN_6336973', 'TXN_5571026', 'TXN_3691087', 'TXN_1221777', 'TXN_8110646', 'TXN_1218016', 'TXN_6092344', 'TXN_5985451', 'TXN_4892303', 'TXN_4011694', 'TXN_2726676', 'TXN_9723120', 'TXN_8226226', 'TXN_4506778', 'TXN_3720223', 'TXN_4483304', 'TXN_5889912', 'TXN_6647319', 'TXN_7345190', 'TXN_2092306', 'TXN_8510511', 'TXN_6851654', 'TXN_3743336', 'TXN_6893490', 'TXN_2047672', 'TXN_5183630', 'TXN_6484542', 'TXN_4571222', 'TXN_4139983', 'TXN_5947976', 'TXN_3893927', 'TXN_6476304', 'TXN_7570308', 'TXN_9684465', 'TXN_3869958', 'TXN_2804828', 'TXN_2711627', 'TXN_2035772', 'TXN_9989242', 'TXN_3558795', 'TXN_3327212', 'TXN_6183842', 'TXN_4630854', 'TXN_1863866', 'TXN_1239021', 'TXN_8372268', 'TXN_1610204', 'TXN_2935871', 'TXN_3670939', 'TXN_9657957', 'TXN_6540284', 'TXN_4452589', 'TXN_5741619', 'TXN_5327102', 'TXN_6404625', 'TXN_9601220', 'TXN_5562799', 'TXN_6755107', 'TXN_6928775', 'TXN_8031804', 'TXN_3910230', 'TXN_5577030', 'TXN_6579109', 'TXN_7716125', 'TXN_1542042', 'TXN_6295420', 'TXN_2490185', 'TXN_9107676', 'TXN_8036176', 'TXN_2123573', 'TXN_4408913', 'TXN_8284910', 'TXN_5355693', 'TXN_2537138', 'TXN_6651961', 'TXN_9506372', 'TXN_4887268', 'TXN_8774692', 'TXN_1938071', 'TXN_3385167', 'TXN_2847831', 'TXN_9737090', 'TXN_7090563', 'TXN_6112765', 'TXN_8961155', 'TXN_8861275', 'TXN_9861782', 'TXN_5632156', 'TXN_5153899', 'TXN_8751289', 'TXN_1523567', 'TXN_3226989', 'TXN_3923847', 'TXN_6621756', 'TXN_6039235', 'TXN_7113656', 'TXN_4000025', 'TXN_3843541', 'TXN_4084052', 'TXN_5403707', 'TXN_7059722', 'TXN_5203710', 'TXN_6303383', 'TXN_5604797', 'TXN_2015313', 'TXN_4076463', 'TXN_7503593', 'TXN_9042043', 'TXN_1319834', 'TXN_2204457', 'TXN_2896048', 'TXN_7622389', 'TXN_8936591', 'TXN_6130455', 'TXN_3520982', 'TXN_1564506', 'TXN_1724233', 'TXN_4138399', 'TXN_4243591', 'TXN_2151688', 'TXN_9996195', 'TXN_1487762', 'TXN_3365018', 'TXN_7566250', 'TXN_7876775', 'TXN_9104781', 'TXN_2732570', 'TXN_3033987', 'TXN_9551491', 'TXN_3879110', 'TXN_1223805', 'TXN_8043642', 'TXN_4983903', 'TXN_3174336', 'TXN_4386732', 'TXN_5589433', 'TXN_1901704', 'TXN_5698925', 'TXN_7107807', 'TXN_7014091', 'TXN_2454046', 'TXN_3119835', 'TXN_9667219', 'TXN_9485101', 'TXN_2670487', 'TXN_1145592', 'TXN_5707386', 'TXN_8800818', 'TXN_6378158', 'TXN_3290872', 'TXN_3750900', 'TXN_6660755', 'TXN_4592205', 'TXN_5910541', 'TXN_5767429', 'TXN_2690222', 'TXN_5625086', 'TXN_8913492', 'TXN_2217295', 'TXN_9865855', 'TXN_2887971', 'TXN_8658970', 'TXN_3741325', 'TXN_4130861', 'TXN_9911498', 'TXN_8122340', 'TXN_2250785', 'TXN_1336900', 'TXN_6662213', 'TXN_6071339', 'TXN_5475746', 'TXN_6128966', 'TXN_9522045', 'TXN_4897993', 'TXN_7580441', 'TXN_2224935', 'TXN_4809548', 'TXN_1827212', 'TXN_7293241', 'TXN_2966262', 'TXN_5734395', 'TXN_2939667', 'TXN_5369243', 'TXN_1009421', 'TXN_4435352', 'TXN_6663486', 'TXN_8292441', 'TXN_1324760', 'TXN_8295765', 'TXN_2614271', 'TXN_3893480', 'TXN_1259340', 'TXN_3499226', 'TXN_4328090', 'TXN_5745054', 'TXN_1799247', 'TXN_1212652', 'TXN_8199524', 'TXN_8724474', 'TXN_6389404', 'TXN_9540864', 'TXN_1214868', 'TXN_7620397', 'TXN_5331285', 'TXN_5644235', 'TXN_4355766', 'TXN_3308378', 'TXN_8854384', 'TXN_4877933', 'TXN_5763520', 'TXN_5072156', 'TXN_4368729', 'TXN_4844386', 'TXN_8608811', 'TXN_7021504', 'TXN_3792125', 'TXN_9423451', 'TXN_2432379', 'TXN_4076575', 'TXN_8713971', 'TXN_8553273', 'TXN_6762250', 'TXN_9469735', 'TXN_2223047', 'TXN_4356564', 'TXN_2234460', 'TXN_4269933', 'TXN_8988279', 'TXN_3943672', 'TXN_3589166', 'TXN_8266689', 'TXN_9708144', 'TXN_5117595', 'TXN_5313347', 'TXN_9781961', 'TXN_4659155', 'TXN_2576799', 'TXN_1035504', 'TXN_2544724', 'TXN_1336470', 'TXN_5837801', 'TXN_3114654', 'TXN_9449037', 'TXN_3485938', 'TXN_2155393', 'TXN_1355212', 'TXN_5908104', 'TXN_1961943', 'TXN_3187634', 'TXN_7804128', 'TXN_6323914', 'TXN_4036214', 'TXN_5348915', 'TXN_4620647', 'TXN_3206049', 'TXN_8907996', 'TXN_1635631', 'TXN_6333241', 'TXN_7585599', 'TXN_5540067', 'TXN_2760327', 'TXN_5573731', 'TXN_6736084', 'TXN_3477975', 'TXN_7926510', 'TXN_1554195', 'TXN_3703964', 'TXN_5476846', 'TXN_4502314', 'TXN_9749175', 'TXN_1244593', 'TXN_6238191', 'TXN_5222822', 'TXN_5652473', 'TXN_3038078', 'TXN_9561380', 'TXN_5534515', 'TXN_2210265', 'TXN_3477101', 'TXN_2930752', 'TXN_6228313', 'TXN_2966507', 'TXN_3358494', 'TXN_7354271', 'TXN_9952441', 'TXN_5268025', 'TXN_3943327', 'TXN_1216051', 'TXN_6068148', 'TXN_2914953', 'TXN_9202496', 'TXN_5328065', 'TXN_4680399', 'TXN_8944175', 'TXN_2134660', 'TXN_3429942', 'TXN_1025152', 'TXN_2809397', 'TXN_4979250', 'TXN_1672708', 'TXN_7602467', 'TXN_1315214', 'TXN_3845754', 'TXN_1145888', 'TXN_7380756', 'TXN_2408294', 'TXN_8132632', 'TXN_5989987', 'TXN_7335526', 'TXN_3985920', 'TXN_8424417', 'TXN_1324968', 'TXN_9752586', 'TXN_6954434', 'TXN_2661443', 'TXN_7146871', 'TXN_6309965', 'TXN_8017663', 'TXN_3475342', 'TXN_3106811', 'TXN_5353855', 'TXN_3177517', 'TXN_7707761', 'TXN_9639317', 'TXN_8329302', 'TXN_9944832', 'TXN_9134257', 'TXN_7326075', 'TXN_8752130', 'TXN_5822344', 'TXN_3295247', 'TXN_6360436', 'TXN_7092761', 'TXN_7899686', 'TXN_9004306', 'TXN_6591756', 'TXN_8140560', 'TXN_7145872', 'TXN_2024598', 'TXN_1938148', 'TXN_8905718', 'TXN_5351656', 'TXN_9207050', 'TXN_6131350', 'TXN_3578712', 'TXN_2077318', 'TXN_1375992', 'TXN_9657636', 'TXN_5339625', 'TXN_4617139', 'TXN_4493661', 'TXN_9762035', 'TXN_9773606', 'TXN_6670607', 'TXN_6568978', 'TXN_7211792', 'TXN_4181147', 'TXN_6688020', 'TXN_1540181', 'TXN_9470768', 'TXN_4266069', 'TXN_5882077', 'TXN_8121601', 'TXN_9174916', 'TXN_4995910', 'TXN_9533792', 'TXN_7090165', 'TXN_1533790', 'TXN_2466036', 'TXN_9005396', 'TXN_4275169', 'TXN_7080148', 'TXN_9096951', 'TXN_6148337', 'TXN_6158865', 'TXN_4624436', 'TXN_8232653', 'TXN_2761949', 'TXN_3633955', 'TXN_1158197', 'TXN_5595584', 'TXN_9561441', 'TXN_7543369', 'TXN_2887411', 'TXN_5157855', 'TXN_3296152', 'TXN_2475111', 'TXN_2444408', 'TXN_7093219', 'TXN_3359704', 'TXN_9623460', 'TXN_2849719', 'TXN_3163681', 'TXN_7433758', 'TXN_5027125', 'TXN_2936975', 'TXN_9188692', 'TXN_2559288', 'TXN_9681880', 'TXN_7573801', 'TXN_6866209', 'TXN_5745955', 'TXN_7104682', 'TXN_9942634', 'TXN_4284492', 'TXN_3995843', 'TXN_4831426', 'TXN_8062897', 'TXN_4967355', 'TXN_7904970', 'TXN_7217537', 'TXN_7418962', 'TXN_3729074', 'TXN_6885626', 'TXN_6797827', 'TXN_2050017', 'TXN_6273703', 'TXN_1719440', 'TXN_3713527', 'TXN_1132566', 'TXN_6228918', 'TXN_5161371', 'TXN_7323833', 'TXN_5701303', 'TXN_2092288', 'TXN_6799966', 'TXN_6377597', 'TXN_6401072', 'TXN_3067854', 'TXN_5930921', 'TXN_5009367', 'TXN_5390428', 'TXN_8668840', 'TXN_2680626', 'TXN_6451747', 'TXN_7230977', 'TXN_2275523', 'TXN_5664467', 'TXN_2081985', 'TXN_2402637', 'TXN_8845592', 'TXN_9245124', 'TXN_9835620', 'TXN_5685028', 'TXN_2972659', 'TXN_8242126', 'TXN_8715515', 'TXN_4490958', 'TXN_7753587', 'TXN_7973461', 'TXN_3369789', 'TXN_4541998', 'TXN_8167808', 'TXN_9769782', 'TXN_1647077', 'TXN_8684125', 'TXN_5080934', 'TXN_5906520', 'TXN_8279865', 'TXN_8430735', 'TXN_8558404', 'TXN_1135761', 'TXN_7503640', 'TXN_9629541', 'TXN_3613385', 'TXN_3315026', 'TXN_9972525', 'TXN_2505327', 'TXN_9035484', 'TXN_6889867', 'TXN_8730549', 'TXN_5983031', 'TXN_8619762', 'TXN_9069297', 'TXN_7840162', 'TXN_6369875', 'TXN_7905741', 'TXN_4798484', 'TXN_5171332', 'TXN_5052998', 'TXN_4390633', 'TXN_1217959', 'TXN_3299535', 'TXN_6220542', 'TXN_7368648', 'TXN_5603538', 'TXN_7008306', 'TXN_9928337', 'TXN_8250427', 'TXN_7009420', 'TXN_8005089', 'TXN_8822610', 'TXN_9622300', 'TXN_3430842', 'TXN_7483257', 'TXN_3120023', 'TXN_3313000', 'TXN_9432588', 'TXN_7785297', 'TXN_1617029', 'TXN_3131555', 'TXN_6697669', 'TXN_1678985', 'TXN_6748453', 'TXN_5017038', 'TXN_4258943', 'TXN_6608817', 'TXN_3411281', 'TXN_5032114', 'TXN_7279066', 'TXN_6684202', 'TXN_4223466', 'TXN_6212975', 'TXN_6437055', 'TXN_1256536', 'TXN_1139495', 'TXN_7003185', 'TXN_3894820', 'TXN_6989438', 'TXN_6533180', 'TXN_5118667', 'TXN_7343905', 'TXN_4220189', 'TXN_3465980', 'TXN_2552405', 'TXN_9315119', 'TXN_4641838', 'TXN_4674417', 'TXN_1713983', 'TXN_6837601', 'TXN_9365558', 'TXN_7666909', 'TXN_2797077', 'TXN_1522430', 'TXN_8556230', 'TXN_9774691', 'TXN_1897660', 'TXN_3379368', 'TXN_4462052', 'TXN_4278785', 'TXN_8832852', 'TXN_4674667', 'TXN_7804488', 'TXN_4778105', 'TXN_2693584', 'TXN_9749434', 'TXN_9349052', 'TXN_4200340', 'TXN_8384628', 'TXN_7212607', 'TXN_9470590', 'TXN_6129460', 'TXN_9813938', 'TXN_5132082', 'TXN_7451083', 'TXN_4096816', 'TXN_6310726', 'TXN_5708913', 'TXN_8980774', 'TXN_2371941', 'TXN_9676940', 'TXN_5446085', 'TXN_3376958', 'TXN_5544904', 'TXN_5234368', 'TXN_5410349', 'TXN_1906642', 'TXN_7089173', 'TXN_7651864', 'TXN_2544176', 'TXN_8571836', 'TXN_4943715', 'TXN_1843989', 'TXN_3482117', 'TXN_2152670', 'TXN_6882819', 'TXN_4791105', 'TXN_2622670', 'TXN_2008137', 'TXN_3679126', 'TXN_7321789', 'TXN_7612618', 'TXN_9702662', 'TXN_9176418', 'TXN_7323040', 'TXN_4801617', 'TXN_1056277', 'TXN_9429128', 'TXN_1622411', 'TXN_1000555', 'TXN_2975443', 'TXN_9725461', 'TXN_4196578', 'TXN_1617476', 'TXN_1250407', 'TXN_4746320', 'TXN_8696065', 'TXN_6496099', 'TXN_2515920', 'TXN_1379209', 'TXN_1589264', 'TXN_5282529', 'TXN_8676769', 'TXN_8494538', 'TXN_3352256', 'TXN_7510766', 'TXN_7735237', 'TXN_6977098', 'TXN_1410102', 'TXN_3716067', 'TXN_3530720', 'TXN_6530886', 'TXN_6853678', 'TXN_9315755', 'TXN_3375399', 'TXN_3189677', 'TXN_1365285', 'TXN_7463011', 'TXN_8293691', 'TXN_1011236', 'TXN_4527464', 'TXN_5665767', 'TXN_3334257', 'TXN_7119228', 'TXN_3546261', 'TXN_5790213', 'TXN_4227337', 'TXN_1842697', 'TXN_4033982', 'TXN_7223646', 'TXN_1349215', 'TXN_3514492', 'TXN_9495930', 'TXN_5005592', 'TXN_2801651', 'TXN_2824366', 'TXN_3026930', 'TXN_2548248', 'TXN_8830813', 'TXN_2731270', 'TXN_6751134', 'TXN_7386089', 'TXN_1949789', 'TXN_1752617', 'TXN_6113452', 'TXN_3687300', 'TXN_9942247', 'TXN_3999554', 'TXN_6872268', 'TXN_2353057', 'TXN_3544792', 'TXN_8996187', 'TXN_6110009', 'TXN_4628310', 'TXN_3968170', 'TXN_7494793', 'TXN_6600858', 'TXN_1853298', 'TXN_4600614', 'TXN_4159861', 'TXN_2145530', 'TXN_7251929', 'TXN_2182790', 'TXN_8058026', 'TXN_8284313', 'TXN_9382156', 'TXN_6575599', 'TXN_5588239', 'TXN_4935258', 'TXN_9546556', 'TXN_8147057', 'TXN_1945918', 'TXN_2508266', 'TXN_1898329', 'TXN_4847617', 'TXN_4708410', 'TXN_5442505', 'TXN_3509437', 'TXN_4860027', 'TXN_3200195', 'TXN_6013295', 'TXN_9682798', 'TXN_8127390', 'TXN_4318159', 'TXN_9063299', 'TXN_9054741', 'TXN_9421618', 'TXN_3421456', 'TXN_3224756', 'TXN_8444245', 'TXN_7177487', 'TXN_6991253', 'TXN_9783697', 'TXN_8188857', 'TXN_1756717', 'TXN_1732216', 'TXN_1229376', 'TXN_3423451', 'TXN_3113823', 'TXN_8085790', 'TXN_1188596', 'TXN_8706498', 'TXN_3923375', 'TXN_5625110', 'TXN_9155044', 'TXN_2520102', 'TXN_9818498', 'TXN_6559173', 'TXN_8162049', 'TXN_6877186', 'TXN_4343391', 'TXN_7827797', 'TXN_9716971', 'TXN_5683213', 'TXN_6666679', 'TXN_3851247', 'TXN_9703331', 'TXN_7031347', 'TXN_4364374', 'TXN_4305997', 'TXN_7397017', 'TXN_9600016', 'TXN_1943186', 'TXN_5086795', 'TXN_6047742', 'TXN_2886223', 'TXN_5841004', 'TXN_6154626', 'TXN_8010863', 'TXN_6391414', 'TXN_9352671', 'TXN_9203396', 'TXN_2245787', 'TXN_8337899', 'TXN_6513435', 'TXN_5137315', 'TXN_4526296', 'TXN_5190685', 'TXN_7433531', 'TXN_2570829', 'TXN_9868053', 'TXN_4226287', 'TXN_6228999', 'TXN_6557825', 'TXN_2052609', 'TXN_1442791', 'TXN_5180728', 'TXN_7675213', 'TXN_7399898', 'TXN_5024094', 'TXN_1993002', 'TXN_6539480', 'TXN_8004162', 'TXN_2666340', 'TXN_3292043', 'TXN_4704439', 'TXN_4759797', 'TXN_3475075', 'TXN_4175122', 'TXN_5632564', 'TXN_2613440', 'TXN_9907306', 'TXN_1605048', 'TXN_5071222', 'TXN_6543620', 'TXN_4503560', 'TXN_3577949', 'TXN_4673812', 'TXN_6034920', 'TXN_7994275', 'TXN_2366464', 'TXN_8041777', 'TXN_1491670', 'TXN_7620529', 'TXN_9105544', 'TXN_8157817', 'TXN_7169607', 'TXN_1268480', 'TXN_8577850', 'TXN_7909509', 'TXN_3711712', 'TXN_4745094', 'TXN_1469462', 'TXN_7540909', 'TXN_1660757', 'TXN_4076631', 'TXN_1778597', 'TXN_5793057', 'TXN_1442771', 'TXN_5438111', 'TXN_1937611', 'TXN_8359674', 'TXN_2401829', 'TXN_4635037', 'TXN_2052771', 'TXN_4107857', 'TXN_7650834', 'TXN_6280724', 'TXN_5634960', 'TXN_5001766', 'TXN_3088330', 'TXN_1633563', 'TXN_6149748', 'TXN_2027203', 'TXN_4869107', 'TXN_7218914', 'TXN_7796731', 'TXN_6957331', 'TXN_6579974', 'TXN_5333966', 'TXN_9154381', 'TXN_1399696', 'TXN_1665810', 'TXN_6022618', 'TXN_3321611', 'TXN_2336248', 'TXN_5828907', 'TXN_6553720', 'TXN_2216532', 'TXN_8006056', 'TXN_8807333', 'TXN_4565754', 'TXN_7538221', 'TXN_9103776', 'TXN_2160119', 'TXN_5086063', 'TXN_9649878', 'TXN_7126803', 'TXN_4939667', 'TXN_1931832', 'TXN_8964493', 'TXN_2391659', 'TXN_6297232', 'TXN_6504165', 'TXN_5485774', 'TXN_5227574', 'TXN_9433806', 'TXN_5910268', 'TXN_4754346', 'TXN_9841222', 'TXN_8361813', 'TXN_5777224', 'TXN_8133627', 'TXN_8620934', 'TXN_9202272', 'TXN_6862075', 'TXN_6854151', 'TXN_7494217', 'TXN_6523635', 'TXN_6345691', 'TXN_1177438', 'TXN_5889049', 'TXN_4520062', 'TXN_6040824', 'TXN_7299015', 'TXN_9680054', 'TXN_5026564', 'TXN_2172960', 'TXN_2477550', 'TXN_9720549', 'TXN_3488590', 'TXN_9641364', 'TXN_6324736', 'TXN_2955691', 'TXN_4036747', 'TXN_2792107', 'TXN_5177565', 'TXN_5106045', 'TXN_7890585', 'TXN_2513950', 'TXN_5117140', 'TXN_3658211', 'TXN_1895899', 'TXN_4171998', 'TXN_1493452', 'TXN_4203560', 'TXN_1746001', 'TXN_1464150', 'TXN_9367729', 'TXN_1315847', 'TXN_7278248', 'TXN_6392156', 'TXN_7762739', 'TXN_2979899', 'TXN_5996894', 'TXN_4163149', 'TXN_1923984', 'TXN_4695415', 'TXN_5901182', 'TXN_1987716', 'TXN_5222110', 'TXN_4152709', 'TXN_8568597', 'TXN_3397978', 'TXN_3976744', 'TXN_7828462', 'TXN_3660999', 'TXN_7684072', 'TXN_9851026', 'TXN_5132747', 'TXN_1411473', 'TXN_6252589', 'TXN_1459078', 'TXN_1775278', 'TXN_4528664', 'TXN_2611683', 'TXN_2580487', 'TXN_8571235', 'TXN_4667663', 'TXN_1765281', 'TXN_3597656', 'TXN_7327440', 'TXN_2490026', 'TXN_4168628', 'TXN_4933689', 'TXN_9917989', 'TXN_2726254', 'TXN_3490516', 'TXN_1244509', 'TXN_6537449', 'TXN_3643348', 'TXN_7990902', 'TXN_4476151', 'TXN_1228652', 'TXN_2500345', 'TXN_6177161', 'TXN_4081759', 'TXN_1181626', 'TXN_8771574', 'TXN_2488232', 'TXN_3435509', 'TXN_6004967', 'TXN_5153086', 'TXN_5777903', 'TXN_4653861', 'TXN_2917072', 'TXN_4271744', 'TXN_1097334', 'TXN_3364751', 'TXN_7932895', 'TXN_6179169', 'TXN_2793054', 'TXN_9358399', 'TXN_4268167', 'TXN_8993132', 'TXN_2617257', 'TXN_7766134', 'TXN_5680238', 'TXN_1870303', 'TXN_9341159', 'TXN_5915706', 'TXN_5089516', 'TXN_6557174', 'TXN_9325384', 'TXN_7157169', 'TXN_7272630', 'TXN_5861636', 'TXN_2482242', 'TXN_1715317', 'TXN_7921799', 'TXN_4151440', 'TXN_6040882', 'TXN_6425991', 'TXN_6887407', 'TXN_9461396', 'TXN_2300313', 'TXN_3160090', 'TXN_5982786', 'TXN_9914084', 'TXN_9817602', 'TXN_2035838', 'TXN_4465589', 'TXN_5781767', 'TXN_9031518', 'TXN_1063524', 'TXN_6431703', 'TXN_4228312', 'TXN_7440879', 'TXN_9610933', 'TXN_7911650', 'TXN_5965095', 'TXN_1694090', 'TXN_1244299', 'TXN_9894745', 'TXN_2832778', 'TXN_8388122', 'TXN_1830278', 'TXN_9086710', 'TXN_6916853', 'TXN_7208533', 'TXN_7842557', 'TXN_5380220', 'TXN_7068406', 'TXN_2652800', 'TXN_6485220', 'TXN_9291130', 'TXN_1980303', 'TXN_8715388', 'TXN_5274961', 'TXN_9070074', 'TXN_9643180', 'TXN_7218719', 'TXN_4740892', 'TXN_3651337', 'TXN_7797231', 'TXN_7242713', 'TXN_2727347', 'TXN_3251829', 'TXN_6131195', 'TXN_1737731', 'TXN_3858791', 'TXN_6295047', 'TXN_1239876', 'TXN_2933739', 'TXN_5311814', 'TXN_7752958', 'TXN_8612901', 'TXN_1050083', 'TXN_4986514', 'TXN_6221348', 'TXN_9006674', 'TXN_3197621', 'TXN_5732615', 'TXN_1003246', 'TXN_6549132', 'TXN_1372492', 'TXN_1872692', 'TXN_2599005', 'TXN_2797925', 'TXN_3848261', 'TXN_3390882', 'TXN_2475259', 'TXN_3455415', 'TXN_1425215', 'TXN_4916936', 'TXN_8241724', 'TXN_5297692', 'TXN_2553269', 'TXN_6457997', 'TXN_4483226', 'TXN_4156369', 'TXN_6484387', 'TXN_3918515', 'TXN_7754428', 'TXN_6584150', 'TXN_3951460', 'TXN_7389329', 'TXN_1068317', 'TXN_5880567', 'TXN_5738521', 'TXN_3528599', 'TXN_5346493', 'TXN_9923860', 'TXN_5600914', 'TXN_1662024', 'TXN_5513984', 'TXN_4844022', 'TXN_8999576', 'TXN_2335312', 'TXN_6437181', 'TXN_4786680', 'TXN_8267616', 'TXN_2363378', 'TXN_3938018', 'TXN_4222908', 'TXN_6991430', 'TXN_9123562', 'TXN_6616311', 'TXN_9257475', 'TXN_4013761', 'TXN_2134911', 'TXN_5650608', 'TXN_7630912', 'TXN_3174488', 'TXN_6224451', 'TXN_9175519', 'TXN_2851804', 'TXN_2252218', 'TXN_8782513', 'TXN_3539062', 'TXN_6219634', 'TXN_1914728', 'TXN_7991322', 'TXN_7116936', 'TXN_6633097', 'TXN_2413548', 'TXN_5882566', 'TXN_2917211', 'TXN_6506895', 'TXN_6388107', 'TXN_3228558', 'TXN_8748633', 'TXN_3186333', 'TXN_5470598', 'TXN_5486886', 'TXN_1818438', 'TXN_6778974', 'TXN_2277013', 'TXN_3656884', 'TXN_3494014', 'TXN_6037144', 'TXN_4639918', 'TXN_6552269', 'TXN_2265603', 'TXN_2892693', 'TXN_9378562', 'TXN_5664982', 'TXN_7185724', 'TXN_7054849', 'TXN_7097699', 'TXN_7932127', 'TXN_8941438', 'TXN_4209748', 'TXN_9517380', 'TXN_3734446', 'TXN_2989533', 'TXN_1152249', 'TXN_8622404', 'TXN_4567429', 'TXN_2224251', 'TXN_6898368', 'TXN_1260517', 'TXN_8606152', 'TXN_1503903', 'TXN_3747376', 'TXN_8411549', 'TXN_1635137', 'TXN_8040251', 'TXN_5423636', 'TXN_9910573', 'TXN_6198799', 'TXN_2901304', 'TXN_8253046', 'TXN_3730077', 'TXN_2172301', 'TXN_4090464', 'TXN_1647144', 'TXN_9216314', 'TXN_1672632', 'TXN_7878395', 'TXN_8490157', 'TXN_6987705', 'TXN_7969017', 'TXN_1363508', 'TXN_3599216', 'TXN_4372163', 'TXN_3964398', 'TXN_5618976', 'TXN_7294526', 'TXN_7349319', 'TXN_9327493', 'TXN_1998401', 'TXN_8139533', 'TXN_4564556', 'TXN_1269172', 'TXN_8038871', 'TXN_2465074', 'TXN_1882390', 'TXN_7435796', 'TXN_9268974', 'TXN_3680192', 'TXN_8640655', 'TXN_4726531', 'TXN_1868447', 'TXN_6202631', 'TXN_9100063', 'TXN_9184804', 'TXN_6654975', 'TXN_6716918', 'TXN_6851735', 'TXN_7497565', 'TXN_1900036', 'TXN_3419352', 'TXN_1210183', 'TXN_5107006', 'TXN_7083168', 'TXN_7242133', 'TXN_5716276', 'TXN_1752992', 'TXN_1367003', 'TXN_5276842', 'TXN_3094597', 'TXN_9803409', 'TXN_8275626', 'TXN_2505416', 'TXN_6130281', 'TXN_8916290', 'TXN_3389521', 'TXN_2371464', 'TXN_2163150', 'TXN_9822173', 'TXN_2603561', 'TXN_8377812', 'TXN_1064565', 'TXN_2857444', 'TXN_3271393', 'TXN_6377813', 'TXN_5420062', 'TXN_1714471', 'TXN_5005674', 'TXN_6064301', 'TXN_3466686', 'TXN_6355620', 'TXN_6567880', 'TXN_6293225', 'TXN_1603051', 'TXN_6480646', 'TXN_5672156', 'TXN_5696844', 'TXN_1281536', 'TXN_7637178', 'TXN_9489495', 'TXN_9816901', 'TXN_6234070', 'TXN_2693108', 'TXN_6226704', 'TXN_4536827', 'TXN_6324818', 'TXN_8588231', 'TXN_8743849', 'TXN_1203191', 'TXN_7795324', 'TXN_2108125', 'TXN_9104545', 'TXN_1784150', 'TXN_1077060', 'TXN_2278015', 'TXN_9131337', 'TXN_9007414', 'TXN_3902135', 'TXN_8172182', 'TXN_3596270', 'TXN_3291149', 'TXN_3784001', 'TXN_9281710', 'TXN_1193809', 'TXN_8939048', 'TXN_9278090', 'TXN_7975336', 'TXN_8736069', 'TXN_2591969', 'TXN_9160109', 'TXN_1016246', 'TXN_6898341', 'TXN_4565233', 'TXN_9774251', 'TXN_1538515', 'TXN_8304399', 'TXN_9233730', 'TXN_7860054', 'TXN_9350427', 'TXN_8721484', 'TXN_9281586', 'TXN_6177081', 'TXN_5677927', 'TXN_6471185', 'TXN_9362728', 'TXN_1603563', 'TXN_2687593', 'TXN_8192063', 'TXN_5738282', 'TXN_1118799', 'TXN_7587652', 'TXN_6309570', 'TXN_4577234', 'TXN_5037728', 'TXN_4507630', 'TXN_7023753', 'TXN_6068564', 'TXN_1733916', 'TXN_7322436', 'TXN_8325464', 'TXN_1082012', 'TXN_8155325', 'TXN_5506907', 'TXN_9489442', 'TXN_3926570', 'TXN_5483442', 'TXN_8106064', 'TXN_6500126', 'TXN_2798420', 'TXN_7013527', 'TXN_2037742', 'TXN_8620426', 'TXN_6249023', 'TXN_5941840', 'TXN_8616276', 'TXN_3499910', 'TXN_6346483', 'TXN_7737862', 'TXN_6933222', 'TXN_1833012', 'TXN_4722816', 'TXN_4837909', 'TXN_1430778', 'TXN_9810868', 'TXN_3442244', 'TXN_7352058', 'TXN_4848431', 'TXN_7485712', 'TXN_4594866', 'TXN_3355537', 'TXN_2101632', 'TXN_2111293', 'TXN_5353468', 'TXN_7502273', 'TXN_2379052', 'TXN_5732357', 'TXN_3634860', 'TXN_1583983', 'TXN_9715885', 'TXN_1912525', 'TXN_8164332', 'TXN_1074435', 'TXN_3422759', 'TXN_4382970', 'TXN_4407959', 'TXN_8342990', 'TXN_6083650', 'TXN_8880299', 'TXN_7814690', 'TXN_4612269', 'TXN_4897182', 'TXN_2030107', 'TXN_6478978', 'TXN_7180164', 'TXN_4296204', 'TXN_5293518', 'TXN_1263426', 'TXN_4841285', 'TXN_9612877', 'TXN_7249235', 'TXN_2396923', 'TXN_5173881', 'TXN_5644074', 'TXN_3166181', 'TXN_2567222', 'TXN_6894703', 'TXN_4294955', 'TXN_8628848', 'TXN_2370338', 'TXN_4849180', 'TXN_3391446', 'TXN_1427963', 'TXN_3193212', 'TXN_2377708', 'TXN_1269252', 'TXN_6416741', 'TXN_2629168', 'TXN_7551023', 'TXN_3744974', 'TXN_6380978', 'TXN_7630750', 'TXN_9945729', 'TXN_4455667', 'TXN_5591048', 'TXN_9272043', 'TXN_1034956', 'TXN_9764251', 'TXN_7423281', 'TXN_5275315', 'TXN_4807265', 'TXN_2805332', 'TXN_9859715', 'TXN_1720329', 'TXN_8519330', 'TXN_9246948', 'TXN_9681369', 'TXN_9926931', 'TXN_1122700', 'TXN_1165762', 'TXN_6739950', 'TXN_5656252', 'TXN_4814965', 'TXN_2005789', 'TXN_6935106', 'TXN_9231214', 'TXN_9456575', 'TXN_2902289', 'TXN_3856021', 'TXN_2833327', 'TXN_6717074', 'TXN_3209184', 'TXN_1769466', 'TXN_8124663', 'TXN_4207981', 'TXN_7466586', 'TXN_5932892', 'TXN_6652858', 'TXN_4561006', 'TXN_3337203', 'TXN_5799196', 'TXN_4219548', 'TXN_2336946', 'TXN_9546951', 'TXN_1972843', 'TXN_1075969', 'TXN_7376255', 'TXN_7278970', 'TXN_9134335', 'TXN_6441337', 'TXN_6732494', 'TXN_8106538', 'TXN_6269540', 'TXN_1783857', 'TXN_5743519', 'TXN_4789193', 'TXN_2342256', 'TXN_2452819', 'TXN_2324227', 'TXN_3486178', 'TXN_4607933', 'TXN_1984966', 'TXN_8205635', 'TXN_1165779', 'TXN_9450903', 'TXN_2771482', 'TXN_5827969', 'TXN_3206293', 'TXN_6327785', 'TXN_7210366', 'TXN_9405019', 'TXN_1902038', 'TXN_2468359', 'TXN_6682782', 'TXN_5824950', 'TXN_9782087', 'TXN_5747094', 'TXN_9097840', 'TXN_1518379', 'TXN_5458161', 'TXN_9958548', 'TXN_3828620', 'TXN_5905025', 'TXN_2737300', 'TXN_5784372', 'TXN_5687012', 'TXN_8742742', 'TXN_9638367', 'TXN_3104589', 'TXN_2188137', 'TXN_8515063', 'TXN_3842567', 'TXN_5224275', 'TXN_2260351', 'TXN_8066306', 'TXN_3643361', 'TXN_2859077', 'TXN_6999471', 'TXN_2134650', 'TXN_1812185', 'TXN_9307650', 'TXN_8511110', 'TXN_7272945', 'TXN_5763287', 'TXN_8933027', 'TXN_3540841', 'TXN_8983868', 'TXN_2954575', 'TXN_7767493', 'TXN_2693431', 'TXN_3396099', 'TXN_4448424', 'TXN_8065180', 'TXN_6602557', 'TXN_5774784', 'TXN_9844453', 'TXN_5940531', 'TXN_8126762', 'TXN_6063689', 'TXN_3709876', 'TXN_7403839', 'TXN_3601338', 'TXN_7122109', 'TXN_1921415', 'TXN_4207219', 'TXN_8294790', 'TXN_2464879', 'TXN_8794205', 'TXN_6785552', 'TXN_7899761', 'TXN_8116619', 'TXN_8425819', 'TXN_8131052', 'TXN_6472826', 'TXN_8384806', 'TXN_4992510', 'TXN_6148776', 'TXN_9914747', 'TXN_9565246', 'TXN_8734331', 'TXN_9673343', 'TXN_8125141', 'TXN_8377178', 'TXN_9206403', 'TXN_1235828', 'TXN_6241682', 'TXN_8421481', 'TXN_7762815', 'TXN_5588102', 'TXN_5093855', 'TXN_6244602', 'TXN_9875865', 'TXN_1171281', 'TXN_8650185', 'TXN_5788053', 'TXN_1857902', 'TXN_6705109', 'TXN_7282082', 'TXN_2703095', 'TXN_3353615', 'TXN_2137354', 'TXN_6636395', 'TXN_4052950', 'TXN_2450896', 'TXN_3067609', 'TXN_8763436', 'TXN_5138519', 'TXN_1307239', 'TXN_8557847', 'TXN_3358787', 'TXN_4015427', 'TXN_4409875', 'TXN_7997704', 'TXN_5875188', 'TXN_8228865', 'TXN_9052231', 'TXN_6201227', 'TXN_3717307', 'TXN_1632205', 'TXN_2898188', 'TXN_7089466', 'TXN_2365394', 'TXN_4076392', 'TXN_6707466', 'TXN_6188931', 'TXN_7846513', 'TXN_7539774', 'TXN_9332035', 'TXN_3548756', 'TXN_9523369', 'TXN_6710660', 'TXN_8302551', 'TXN_6633385', 'TXN_2207332', 'TXN_1443201', 'TXN_2085992', 'TXN_3054405', 'TXN_6869880', 'TXN_4762520', 'TXN_7402573', 'TXN_7809825', 'TXN_6817889', 'TXN_2864951', 'TXN_1489746', 'TXN_8073173', 'TXN_7469391', 'TXN_7705748', 'TXN_3547013', 'TXN_5300938', 'TXN_3741197', 'TXN_5417192', 'TXN_1505875', 'TXN_5747642', 'TXN_3931747', 'TXN_9300970', 'TXN_6029333', 'TXN_3677890', 'TXN_4497327', 'TXN_2165365', 'TXN_1058927', 'TXN_7952916', 'TXN_9507568', 'TXN_8244640', 'TXN_9948645', 'TXN_2299364', 'TXN_9157460', 'TXN_4159135', 'TXN_2538739', 'TXN_3776109', 'TXN_6348409', 'TXN_7126770', 'TXN_9265178', 'TXN_2930503', 'TXN_2563679', 'TXN_2096922', 'TXN_1724815', 'TXN_4509329', 'TXN_3105489', 'TXN_5612022', 'TXN_2000400', 'TXN_5357157', 'TXN_1522140', 'TXN_3432433', 'TXN_1927431', 'TXN_7387056', 'TXN_5352739', 'TXN_1004563', 'TXN_6257213', 'TXN_9470260', 'TXN_4190750', 'TXN_8744240', 'TXN_8632653', 'TXN_1512185', 'TXN_8499005', 'TXN_1647069', 'TXN_8160791', 'TXN_4654061', 'TXN_1454866', 'TXN_8413949', 'TXN_2769769', 'TXN_8173006', 'TXN_8456072', 'TXN_7727118', 'TXN_1224087', 'TXN_6405258', 'TXN_9843811', 'TXN_3808895', 'TXN_9550664', 'TXN_8305936', 'TXN_1295824', 'TXN_6119612', 'TXN_3279039', 'TXN_6682443', 'TXN_1130142', 'TXN_8111101', 'TXN_1435035', 'TXN_9576057', 'TXN_1971103', 'TXN_3956393', 'TXN_4283360', 'TXN_5671997', 'TXN_6501361', 'TXN_8540553', 'TXN_6775024', 'TXN_6424202', 'TXN_9884180', 'TXN_6814891', 'TXN_6264390', 'TXN_6541110', 'TXN_7538763', 'TXN_4695464', 'TXN_9202190', 'TXN_2445017', 'TXN_6431384', 'TXN_6387334', 'TXN_9849760', 'TXN_4818703', 'TXN_4661976', 'TXN_1452253', 'TXN_5848025', 'TXN_2629420', 'TXN_3779292', 'TXN_7455637', 'TXN_7072883', 'TXN_9415451', 'TXN_8323012', 'TXN_6266147', 'TXN_6992967', 'TXN_4502704', 'TXN_6378045', 'TXN_6504180', 'TXN_8680875', 'TXN_1094145', 'TXN_5373441', 'TXN_5477578', 'TXN_6315475', 'TXN_5812394', 'TXN_3100053', 'TXN_1811734', 'TXN_7490314', 'TXN_5530717', 'TXN_1486576', 'TXN_6519486', 'TXN_6920323', 'TXN_2470532', 'TXN_6714068', 'TXN_6281959', 'TXN_6572164', 'TXN_8810601', 'TXN_4277671', 'TXN_2880409', 'TXN_4767006', 'TXN_6162668', 'TXN_3518789', 'TXN_5431854', 'TXN_7632478', 'TXN_8815623', 'TXN_7499330', 'TXN_4469769', 'TXN_6905794', 'TXN_7689696', 'TXN_1840897', 'TXN_4849860', 'TXN_8528546', 'TXN_2409052', 'TXN_5202349', 'TXN_8813764', 'TXN_5942938', 'TXN_2026084', 'TXN_1700027', 'TXN_1475403', 'TXN_3928174', 'TXN_4650447', 'TXN_7524971', 'TXN_2791987', 'TXN_9107508', 'TXN_4095768', 'TXN_8591813', 'TXN_2972777', 'TXN_5320512', 'TXN_6511228', 'TXN_7070302', 'TXN_7771526', 'TXN_9024781', 'TXN_9511794', 'TXN_8615635', 'TXN_1576355', 'TXN_1940330', 'TXN_7347515', 'TXN_9452261', 'TXN_7808032', 'TXN_4135134', 'TXN_8936086', 'TXN_6012446', 'TXN_9705872', 'TXN_6762490', 'TXN_2817018', 'TXN_7145259', 'TXN_4753853', 'TXN_7801115', 'TXN_5839300', 'TXN_6805091', 'TXN_5037517', 'TXN_7887682', 'TXN_5534944', 'TXN_6045577', 'TXN_1694364', 'TXN_7812084', 'TXN_9549381', 'TXN_1661068', 'TXN_5015183', 'TXN_5125382', 'TXN_5052515', 'TXN_3830605', 'TXN_1030539', 'TXN_4566012', 'TXN_1993155', 'TXN_6344003', 'TXN_9827492', 'TXN_5115009', 'TXN_8611918', 'TXN_2212234', 'TXN_4398750', 'TXN_6541809', 'TXN_9287350', 'TXN_9269683', 'TXN_5551020', 'TXN_3369191', 'TXN_2338426', 'TXN_9646000', 'TXN_7027560', 'TXN_4898949', 'TXN_6745856', 'TXN_4552615', 'TXN_1951166', 'TXN_6482262', 'TXN_2258091', 'TXN_4191925', 'TXN_8566668', 'TXN_2887332', 'TXN_2719734', 'TXN_4379467', 'TXN_6974587', 'TXN_9317529', 'TXN_4001763', 'TXN_2436779', 'TXN_2586183', 'TXN_7303515', 'TXN_3589218', 'TXN_8581124', 'TXN_7153313', 'TXN_4262142', 'TXN_9850541', 'TXN_7493097', 'TXN_7454416', 'TXN_1900411', 'TXN_9284099', 'TXN_4293196', 'TXN_4977130', 'TXN_5276301', 'TXN_7509630', 'TXN_8510436', 'TXN_4742476', 'TXN_4571510', 'TXN_2508499', 'TXN_5141000', 'TXN_8104431', 'TXN_5454841', 'TXN_2139240', 'TXN_8284384', 'TXN_7565052', 'TXN_7937275', 'TXN_4613510', 'TXN_4439120', 'TXN_5647773', 'TXN_8810001', 'TXN_6419668', 'TXN_7139869', 'TXN_1448501', 'TXN_5668193', 'TXN_4391496', 'TXN_7694559', 'TXN_7179013', 'TXN_6587399', 'TXN_9027002', 'TXN_4178899', 'TXN_1475459', 'TXN_6805882', 'TXN_6272674', 'TXN_6421446', 'TXN_9617454', 'TXN_1360379', 'TXN_7416880', 'TXN_2080228', 'TXN_8549381', 'TXN_1328968', 'TXN_4049031', 'TXN_6286062', 'TXN_2980279', 'TXN_6399545', 'TXN_1772692', 'TXN_2044375', 'TXN_4085337', 'TXN_2485272', 'TXN_8937461', 'TXN_9882625', 'TXN_8158986', 'TXN_9177867', 'TXN_7975760', 'TXN_4434005', 'TXN_7656355', 'TXN_4343848', 'TXN_1368769', 'TXN_6571440', 'TXN_3458602', 'TXN_5398922', 'TXN_5380198', 'TXN_2825812', 'TXN_4829492', 'TXN_1574190', 'TXN_4876195', 'TXN_5347792', 'TXN_6953244', 'TXN_5279972', 'TXN_1917388', 'TXN_7153885', 'TXN_4407203', 'TXN_1063342', 'TXN_9592941', 'TXN_1892454', 'TXN_4126189', 'TXN_8417552', 'TXN_2114182', 'TXN_6838802', 'TXN_1075446', 'TXN_4311086', 'TXN_6017458', 'TXN_1047204', 'TXN_6438869', 'TXN_6807913', 'TXN_7878672', 'TXN_1244739', 'TXN_1607471', 'TXN_7460497', 'TXN_2513558', 'TXN_2915287', 'TXN_3227673', 'TXN_3986639', 'TXN_6470865', 'TXN_9550629', 'TXN_4506936', 'TXN_3670476', 'TXN_4292280', 'TXN_1247244', 'TXN_8233101', 'TXN_9629448', 'TXN_3379182', 'TXN_2853459', 'TXN_8949453', 'TXN_5342900', 'TXN_6574910', 'TXN_5808539', 'TXN_2417721', 'TXN_2337113', 'TXN_2206740', 'TXN_8958723', 'TXN_9643918', 'TXN_4873180', 'TXN_8710758', 'TXN_7825638', 'TXN_5514988', 'TXN_3920436', 'TXN_4659573', 'TXN_8061460', 'TXN_2311186', 'TXN_9723314', 'TXN_9098841', 'TXN_5958999', 'TXN_7924635', 'TXN_5342051', 'TXN_2827994', 'TXN_4009914', 'TXN_3754190', 'TXN_3412484', 'TXN_2927909', 'TXN_5793417', 'TXN_8520687', 'TXN_1720238', 'TXN_1842981', 'TXN_3894735', 'TXN_7268802', 'TXN_8619494', 'TXN_9774186', 'TXN_5337074', 'TXN_5898238', 'TXN_7876619', 'TXN_2830671', 'TXN_9997620', 'TXN_6585794', 'TXN_2733833', 'TXN_2957017', 'TXN_4249989', 'TXN_5930304', 'TXN_7454894', 'TXN_1463795', 'TXN_3982257', 'TXN_8406851', 'TXN_4381404', 'TXN_4781960', 'TXN_2001807', 'TXN_2156454', 'TXN_6841304', 'TXN_9181224', 'TXN_4048203', 'TXN_9407000', 'TXN_7053280', 'TXN_3587444', 'TXN_8130122', 'TXN_1583315', 'TXN_5225537', 'TXN_6575440', 'TXN_1710823', 'TXN_8850984', 'TXN_5542033', 'TXN_4477559', 'TXN_9395087', 'TXN_1197495', 'TXN_4476636', 'TXN_6487493', 'TXN_5721846', 'TXN_4141868', 'TXN_1004184', 'TXN_7331525', 'TXN_7379939', 'TXN_2615514', 'TXN_7022398', 'TXN_5616473', 'TXN_2251009', 'TXN_1858674', 'TXN_2056358', 'TXN_1461221', 'TXN_6617283', 'TXN_8542781', 'TXN_7738013', 'TXN_8090925', 'TXN_3017917', 'TXN_5927925', 'TXN_3518261', 'TXN_3446174', 'TXN_5722123', 'TXN_8279992', 'TXN_8722854', 'TXN_6679600', 'TXN_7253734', 'TXN_2609762', 'TXN_2980632', 'TXN_6843677', 'TXN_7562171', 'TXN_1226662', 'TXN_6328925', 'TXN_4168771', 'TXN_9871971', 'TXN_7389626', 'TXN_9857674', 'TXN_7618171', 'TXN_8215595', 'TXN_1884923', 'TXN_7811387', 'TXN_2167159', 'TXN_8167275', 'TXN_8944698', 'TXN_1196923', 'TXN_5221688', 'TXN_1636908', 'TXN_5939363', 'TXN_7876388', 'TXN_1578981', 'TXN_5101593', 'TXN_7820220', 'TXN_3105786', 'TXN_2000406', 'TXN_1769882', 'TXN_8424592', 'TXN_7595206', 'TXN_8913153', 'TXN_7636238', 'TXN_4507533', 'TXN_3844347', 'TXN_7234224', 'TXN_5620636', 'TXN_9690711', 'TXN_6874354', 'TXN_1398769', 'TXN_6035512', 'TXN_6723498', 'TXN_5354721', 'TXN_1252575', 'TXN_1891141', 'TXN_2103626', 'TXN_8361821', 'TXN_6580743', 'TXN_5384343', 'TXN_5452419', 'TXN_9811033', 'TXN_9393467', 'TXN_9090433', 'TXN_5331924', 'TXN_6613909', 'TXN_4447856', 'TXN_5880883', 'TXN_1046384', 'TXN_2112333', 'TXN_1751183', 'TXN_4341764', 'TXN_8304002', 'TXN_1190151', 'TXN_4570750', 'TXN_8108731', 'TXN_8917822', 'TXN_8541473', 'TXN_8004510', 'TXN_4993989', 'TXN_5108439', 'TXN_8786479', 'TXN_5247378', 'TXN_1852224', 'TXN_6020552', 'TXN_2785563', 'TXN_9115899', 'TXN_1910553', 'TXN_8145970', 'TXN_4705417', 'TXN_9072093', 'TXN_8120577', 'TXN_7334272', 'TXN_6991736', 'TXN_7433308', 'TXN_3061634', 'TXN_3243410', 'TXN_4153132', 'TXN_8287437', 'TXN_1736630', 'TXN_2322399', 'TXN_5795475', 'TXN_3463281', 'TXN_6748199', 'TXN_5183674', 'TXN_2563505', 'TXN_9814511', 'TXN_8841996', 'TXN_1445532', 'TXN_4390911', 'TXN_7266318', 'TXN_6142549', 'TXN_1910487', 'TXN_6913384', 'TXN_5317458', 'TXN_7970906', 'TXN_9697154', 'TXN_6270766', 'TXN_4248711', 'TXN_2356583', 'TXN_5661323', 'TXN_9094261', 'TXN_6949949', 'TXN_2427834', 'TXN_7805241', 'TXN_5530097', 'TXN_6126149', 'TXN_8120958', 'TXN_4268051', 'TXN_5159669', 'TXN_7060144', 'TXN_5865534', 'TXN_3620122', 'TXN_6359281', 'TXN_4579666', 'TXN_5496019', 'TXN_5537517', 'TXN_1253619', 'TXN_6052901', 'TXN_5613875', 'TXN_6321174', 'TXN_4740952', 'TXN_6405210', 'TXN_6872833', 'TXN_3866156', 'TXN_8830924', 'TXN_6028331', 'TXN_6381860', 'TXN_8049635', 'TXN_5297995', 'TXN_6363733', 'TXN_5673476', 'TXN_5776252', 'TXN_4808700', 'TXN_9566593', 'TXN_4996304', 'TXN_3898665', 'TXN_6958638', 'TXN_8932759', 'TXN_5345258', 'TXN_8385321', 'TXN_1985142', 'TXN_6779763', 'TXN_8367716', 'TXN_8345092', 'TXN_1240476', 'TXN_9389434', 'TXN_2345332', 'TXN_8560548', 'TXN_8345649', 'TXN_5364052', 'TXN_1435192', 'TXN_8239121', 'TXN_7421018', 'TXN_4676976', 'TXN_2031545', 'TXN_4135861', 'TXN_6478968', 'TXN_3459927', 'TXN_2881529', 'TXN_3042768', 'TXN_8447640', 'TXN_4046039', 'TXN_6665881', 'TXN_9082461', 'TXN_7804740', 'TXN_5166412', 'TXN_5796131', 'TXN_1990029', 'TXN_3384640', 'TXN_1585827', 'TXN_4397994', 'TXN_5926836', 'TXN_7800602', 'TXN_8227648', 'TXN_5849947', 'TXN_7897119', 'TXN_3597806', 'TXN_2579157', 'TXN_4826214', 'TXN_4178488', 'TXN_3884995', 'TXN_5321145', 'TXN_1478016', 'TXN_1261028', 'TXN_8383484', 'TXN_1700374', 'TXN_1434857', 'TXN_7379007', 'TXN_8664335', 'TXN_7442492', 'TXN_4664329', 'TXN_1419669', 'TXN_6768812', 'TXN_4475094', 'TXN_3642982', 'TXN_7568316', 'TXN_2112911', 'TXN_1882700', 'TXN_5048650', 'TXN_3834078', 'TXN_4089355', 'TXN_9073440', 'TXN_1715684', 'TXN_9135433', 'TXN_7055306', 'TXN_4833378', 'TXN_2245037', 'TXN_6516391', 'TXN_2402928', 'TXN_7683607', 'TXN_8809853', 'TXN_2701016', 'TXN_2274702', 'TXN_9487214', 'TXN_7402846', 'TXN_8620592', 'TXN_5578796', 'TXN_5453836', 'TXN_7515272', 'TXN_7920897', 'TXN_5665311', 'TXN_4791243', 'TXN_9810604', 'TXN_6674257', 'TXN_2339781', 'TXN_7844352', 'TXN_1417871', 'TXN_8598575', 'TXN_1436851', 'TXN_9153854', 'TXN_9833195', 'TXN_7241288', 'TXN_9894204', 'TXN_4092551', 'TXN_7656770', 'TXN_9923613', 'TXN_9858627', 'TXN_6181456', 'TXN_9685326', 'TXN_6369590', 'TXN_3700419', 'TXN_8360779', 'TXN_3216618', 'TXN_5439860', 'TXN_7106595', 'TXN_3996874', 'TXN_4580084', 'TXN_9024186', 'TXN_6536418', 'TXN_4554168', 'TXN_9254064', 'TXN_4965631', 'TXN_7948933', 'TXN_1339158', 'TXN_2649010', 'TXN_9469529', 'TXN_4293694', 'TXN_1936644', 'TXN_1489218', 'TXN_1817076', 'TXN_3431526', 'TXN_2981117', 'TXN_3097593', 'TXN_8166527', 'TXN_1170198', 'TXN_4827637', 'TXN_3171673', 'TXN_8616557', 'TXN_2985748', 'TXN_7047860', 'TXN_5039782', 'TXN_1942950', 'TXN_6193929', 'TXN_7805508', 'TXN_6995795', 'TXN_1184377', 'TXN_1960599', 'TXN_1499208', 'TXN_4143449', 'TXN_2860514', 'TXN_6637989', 'TXN_4252036', 'TXN_9799633', 'TXN_7677750', 'TXN_7692019', 'TXN_7919609', 'TXN_2946861', 'TXN_4969003', 'TXN_7976001', 'TXN_4605871', 'TXN_4265056', 'TXN_8402941', 'TXN_5255092', 'TXN_6646382', 'TXN_8487057', 'TXN_6507690', 'TXN_9982090', 'TXN_6305420', 'TXN_9992148', 'TXN_7205370', 'TXN_7792223', 'TXN_1205522', 'TXN_9759221', 'TXN_5049646', 'TXN_2659832', 'TXN_8837131', 'TXN_2083132', 'TXN_7924516', 'TXN_2273573', 'TXN_3652726', 'TXN_4966149', 'TXN_5765294', 'TXN_3586768', 'TXN_5860664', 'TXN_8554646', 'TXN_6594753', 'TXN_1907428', 'TXN_7027319', 'TXN_3629728', 'TXN_3822036', 'TXN_8225343', 'TXN_7565447', 'TXN_7805115', 'TXN_3842766', 'TXN_3478169', 'TXN_1848481', 'TXN_5483635', 'TXN_5235471', 'TXN_1472433', 'TXN_9428611', 'TXN_9512112', 'TXN_4031726', 'TXN_6853142', 'TXN_7401217', 'TXN_9182359', 'TXN_9455737', 'TXN_5347338', 'TXN_9126573', 'TXN_3132488', 'TXN_4350788', 'TXN_2916992', 'TXN_9011816', 'TXN_8384229', 'TXN_5919038', 'TXN_9513509', 'TXN_7160017', 'TXN_3619141', 'TXN_8165784', 'TXN_5634977', 'TXN_8397209', 'TXN_3019996', 'TXN_6200609', 'TXN_8489120', 'TXN_5783469', 'TXN_1026799', 'TXN_6922833', 'TXN_6812735', 'TXN_2282319', 'TXN_1006942', 'TXN_1870423', 'TXN_7619641', 'TXN_3938271', 'TXN_1432682', 'TXN_3654670', 'TXN_1907740', 'TXN_7997252', 'TXN_2930963', 'TXN_8725721', 'TXN_6500713', 'TXN_1702437', 'TXN_1785644', 'TXN_5263693', 'TXN_3150614', 'TXN_7124156', 'TXN_1124796', 'TXN_1996466', 'TXN_2144031', 'TXN_8742689', 'TXN_1346953', 'TXN_2582926', 'TXN_6968752', 'TXN_7238674', 'TXN_8194534', 'TXN_3930540', 'TXN_5067216', 'TXN_8170122', 'TXN_5020643', 'TXN_9904505', 'TXN_8455321', 'TXN_7703185', 'TXN_3512545', 'TXN_3427754', 'TXN_8422494', 'TXN_1556708', 'TXN_1334406', 'TXN_3849711', 'TXN_4328869', 'TXN_8491490', 'TXN_8965025', 'TXN_7408461', 'TXN_4504141', 'TXN_3105263', 'TXN_3135048', 'TXN_1826919', 'TXN_8961480', 'TXN_9814929', 'TXN_1586452', 'TXN_3210288', 'TXN_5467240', 'TXN_1133945', 'TXN_1561430', 'TXN_5927620', 'TXN_9480851', 'TXN_5392630', 'TXN_4663537', 'TXN_4439321', 'TXN_7952153', 'TXN_3085628', 'TXN_2467699', 'TXN_8786159', 'TXN_5556328', 'TXN_2970011', 'TXN_4569599', 'TXN_3282601', 'TXN_8714536', 'TXN_7543921', 'TXN_8468071', 'TXN_3906862', 'TXN_9120328', 'TXN_6655437', 'TXN_8108115', 'TXN_5926025', 'TXN_5804346', 'TXN_3394874', 'TXN_2028930', 'TXN_8122317', 'TXN_7475500', 'TXN_6004431', 'TXN_7326827', 'TXN_2437586', 'TXN_5991995', 'TXN_1570573', 'TXN_4019040', 'TXN_7894558', 'TXN_7323885', 'TXN_6687734', 'TXN_1488127', 'TXN_7332957', 'TXN_5248011', 'TXN_5921650', 'TXN_8019335', 'TXN_2188356', 'TXN_9059245', 'TXN_5962237', 'TXN_7514589', 'TXN_7151817', 'TXN_5350200', 'TXN_2425755', 'TXN_1702434', 'TXN_5244558', 'TXN_1285279', 'TXN_9603773', 'TXN_2220389', 'TXN_4697112', 'TXN_2773085', 'TXN_3300171', 'TXN_6948649', 'TXN_9507397', 'TXN_5249091', 'TXN_2726078', 'TXN_4672332', 'TXN_9028798', 'TXN_1839407', 'TXN_1548245', 'TXN_1846455', 'TXN_9696138', 'TXN_3086676', 'TXN_1186221', 'TXN_1278539', 'TXN_6262910', 'TXN_3132304', 'TXN_9468033', 'TXN_5234152', 'TXN_8014766', 'TXN_6159539', 'TXN_2227781', 'TXN_9843421', 'TXN_2103018', 'TXN_9792412', 'TXN_4341126', 'TXN_4956012', 'TXN_9121676', 'TXN_8668590', 'TXN_6373380', 'TXN_7897423', 'TXN_3767196', 'TXN_7531403', 'TXN_7939659', 'TXN_2991726', 'TXN_6540415', 'TXN_5518591', 'TXN_7813066', 'TXN_1509627', 'TXN_5665341', 'TXN_2044945', 'TXN_9073184', 'TXN_2728444', 'TXN_7635738', 'TXN_1058957', 'TXN_7901672', 'TXN_7543841', 'TXN_9030656', 'TXN_6546131', 'TXN_7398884', 'TXN_1412415', 'TXN_4028494', 'TXN_6327139', 'TXN_2313646', 'TXN_2723755', 'TXN_5216430', 'TXN_6397944', 'TXN_1750875', 'TXN_9867586', 'TXN_1510673', 'TXN_9233948', 'TXN_7302788', 'TXN_3562332', 'TXN_5026431', 'TXN_6410244', 'TXN_8069514', 'TXN_3660806', 'TXN_4586482', 'TXN_2576936', 'TXN_2953908', 'TXN_9338442', 'TXN_2625464', 'TXN_7874772', 'TXN_5060289', 'TXN_1580822', 'TXN_3716685', 'TXN_8019396', 'TXN_4605239', 'TXN_1950777', 'TXN_7354480', 'TXN_2525207', 'TXN_5493965', 'TXN_4637438', 'TXN_7377496', 'TXN_3551665', 'TXN_4416331', 'TXN_7733300', 'TXN_8099340', 'TXN_8285752', 'TXN_5789560', 'TXN_4104718', 'TXN_9531434', 'TXN_9947324', 'TXN_6216278', 'TXN_3106348', 'TXN_9619442', 'TXN_3219263', 'TXN_8589003', 'TXN_3520910', 'TXN_6994354', 'TXN_8482647', 'TXN_6472242', 'TXN_2924262', 'TXN_1018470', 'TXN_7507071', 'TXN_6755795', 'TXN_9951411', 'TXN_8798330', 'TXN_9864890', 'TXN_5023419', 'TXN_6819128', 'TXN_7914340', 'TXN_7780748', 'TXN_4194085', 'TXN_9555958', 'TXN_8091357', 'TXN_5994713', 'TXN_3669990', 'TXN_6856558', 'TXN_4105487', 'TXN_3705669', 'TXN_3484276', 'TXN_8407982', 'TXN_1547717', 'TXN_6746916', 'TXN_8379815', 'TXN_1050323', 'TXN_8548232', 'TXN_8606912', 'TXN_1595139', 'TXN_9063624', 'TXN_1477525', 'TXN_7603895', 'TXN_3324387', 'TXN_1504466', 'TXN_9666257', 'TXN_9363990', 'TXN_3315467', 'TXN_3764807', 'TXN_3120848', 'TXN_3301517', 'TXN_1048284', 'TXN_7780786', 'TXN_1015883', 'TXN_8167741', 'TXN_3185667', 'TXN_7964520', 'TXN_9699116', 'TXN_2466187', 'TXN_9691873', 'TXN_2756336', 'TXN_3580048', 'TXN_6036254', 'TXN_3241422', 'TXN_8867957', 'TXN_5426236', 'TXN_5070577', 'TXN_2010658', 'TXN_6074414', 'TXN_8934025', 'TXN_1495371', 'TXN_7423885', 'TXN_7989903', 'TXN_1323030', 'TXN_9605972', 'TXN_4254587', 'TXN_3632064', 'TXN_2053631', 'TXN_5412418', 'TXN_7765640', 'TXN_7670699', 'TXN_9484436', 'TXN_1496038', 'TXN_2423343', 'TXN_8838566', 'TXN_9514452', 'TXN_1637334', 'TXN_9999124', 'TXN_6110769', 'TXN_2784588', 'TXN_8566683', 'TXN_1080377', 'TXN_8214944', 'TXN_4634894', 'TXN_7160196', 'TXN_7786787', 'TXN_3112013', 'TXN_9100530', 'TXN_3841683', 'TXN_3711520', 'TXN_7515290', 'TXN_8028042', 'TXN_8578861', 'TXN_5295223', 'TXN_7186675', 'TXN_4256155', 'TXN_3528653', 'TXN_8933679', 'TXN_8324315', 'TXN_3087096', 'TXN_6093331', 'TXN_7302991', 'TXN_9841397', 'TXN_6024139', 'TXN_2264601', 'TXN_7533675', 'TXN_8787350', 'TXN_9924421', 'TXN_9544977', 'TXN_3072565', 'TXN_6034709', 'TXN_7854306', 'TXN_3826298', 'TXN_3339728', 'TXN_3630981', 'TXN_2905234', 'TXN_7560210', 'TXN_6571288', 'TXN_1405498', 'TXN_3312653', 'TXN_3975938', 'TXN_4807037', 'TXN_4021467', 'TXN_8261380', 'TXN_5899361', 'TXN_9477344', 'TXN_8724711', 'TXN_3725152', 'TXN_5193568', 'TXN_3172090', 'TXN_4116036', 'TXN_8116676', 'TXN_6368424', 'TXN_1631377', 'TXN_4620459', 'TXN_1205020', 'TXN_2398895', 'TXN_5814878', 'TXN_8374101', 'TXN_6632882', 'TXN_8695037', 'TXN_7176851', 'TXN_8676485', 'TXN_6503526', 'TXN_4312977', 'TXN_1758689', 'TXN_3977835', 'TXN_8279966', 'TXN_1093668', 'TXN_9987991', 'TXN_3014261', 'TXN_9691151', 'TXN_4799873', 'TXN_1887250', 'TXN_1188551', 'TXN_8972137', 'TXN_4858908', 'TXN_2643748', 'TXN_6900182', 'TXN_6850528', 'TXN_9081409', 'TXN_5421310', 'TXN_7089316', 'TXN_6160209', 'TXN_3953316', 'TXN_3317649', 'TXN_5124080', 'TXN_3670041', 'TXN_7051683', 'TXN_2176024', 'TXN_7775016', 'TXN_7677817', 'TXN_7701878', 'TXN_9365447', 'TXN_6720290', 'TXN_1185156', 'TXN_3982146', 'TXN_3373078', 'TXN_1303984', 'TXN_2818867', 'TXN_5172164', 'TXN_1643447', 'TXN_2788676', 'TXN_5223702', 'TXN_4791031', 'TXN_3489721', 'TXN_2828785', 'TXN_8851113', 'TXN_8286164', 'TXN_3585464', 'TXN_3781198', 'TXN_9432007', 'TXN_1593691', 'TXN_7952232', 'TXN_4650611', 'TXN_4310629', 'TXN_6708165', 'TXN_6980463', 'TXN_3182547', 'TXN_7426387', 'TXN_2931198', 'TXN_4755934', 'TXN_9983530', 'TXN_1101527', 'TXN_8117583', 'TXN_4382956', 'TXN_3033598', 'TXN_9772556', 'TXN_6225571', 'TXN_5373154', 'TXN_1686323', 'TXN_4297979', 'TXN_5525916', 'TXN_2647425', 'TXN_2325484', 'TXN_1230311', 'TXN_1449065', 'TXN_8872160', 'TXN_9131136', 'TXN_3075169', 'TXN_7029944', 'TXN_6027500', 'TXN_6534833', 'TXN_8059782', 'TXN_1571874', 'TXN_8283199', 'TXN_2871592', 'TXN_4417257', 'TXN_5120215', 'TXN_2893987', 'TXN_5447967', 'TXN_3483911', 'TXN_5519424', 'TXN_7603948', 'TXN_2118759', 'TXN_9817102', 'TXN_8847610', 'TXN_4325098', 'TXN_5083311', 'TXN_9005782', 'TXN_5639908', 'TXN_4403699', 'TXN_1298084', 'TXN_8187222', 'TXN_4583957', 'TXN_9940829', 'TXN_4813580', 'TXN_7359566', 'TXN_8236432', 'TXN_6359031', 'TXN_9791421', 'TXN_9252414', 'TXN_3480278', 'TXN_8356048', 'TXN_5749454', 'TXN_3694901', 'TXN_9587445', 'TXN_8610501', 'TXN_1193221', 'TXN_1424056', 'TXN_3039985', 'TXN_5406762', 'TXN_3737378', 'TXN_5811955', 'TXN_3575713', 'TXN_5555790', 'TXN_5566774', 'TXN_4336247', 'TXN_8534360', 'TXN_5579227', 'TXN_1294101', 'TXN_2951148', 'TXN_2535099', 'TXN_7343062', 'TXN_2653400', 'TXN_8212783', 'TXN_8875043', 'TXN_2842641', 'TXN_6091543', 'TXN_1559512', 'TXN_6400351', 'TXN_6699408', 'TXN_3010103', 'TXN_3460926', 'TXN_9918597', 'TXN_3474333', 'TXN_8326905', 'TXN_9563024', 'TXN_6196052', 'TXN_4991731', 'TXN_4026277', 'TXN_8043218', 'TXN_1345440', 'TXN_5167925', 'TXN_6927392', 'TXN_5036856', 'TXN_4568452', 'TXN_1356599', 'TXN_7101384', 'TXN_5430694', 'TXN_8516055', 'TXN_6483589', 'TXN_6097144', 'TXN_5449092', 'TXN_9089797', 'TXN_4806003', 'TXN_4713643', 'TXN_3237919', 'TXN_8425085', 'TXN_8872997', 'TXN_2175096', 'TXN_7309365', 'TXN_3401287', 'TXN_8437157', 'TXN_2671272', 'TXN_8225571', 'TXN_4077799', 'TXN_1712662', 'TXN_7010020', 'TXN_9818163', 'TXN_9679889', 'TXN_8978004', 'TXN_2710603', 'TXN_3067195', 'TXN_8688565', 'TXN_9348801', 'TXN_5862795', 'TXN_8408103', 'TXN_7551689', 'TXN_2078232', 'TXN_3024493', 'TXN_4128921', 'TXN_1034651', 'TXN_4758849', 'TXN_7763764', 'TXN_6846020', 'TXN_5103644', 'TXN_3847405', 'TXN_4060160', 'TXN_3842881', 'TXN_3752448', 'TXN_6995665', 'TXN_5832968', 'TXN_8046057', 'TXN_2740398', 'TXN_2084080', 'TXN_3103520', 'TXN_8917565', 'TXN_6000890', 'TXN_4360906', 'TXN_7597276', 'TXN_8309656', 'TXN_2687748', 'TXN_5628251', 'TXN_7327362', 'TXN_1197536', 'TXN_2988434', 'TXN_2289122', 'TXN_8712303', 'TXN_1056256', 'TXN_3785678', 'TXN_1679800', 'TXN_8925566', 'TXN_2482298', 'TXN_4451380', 'TXN_7819240', 'TXN_8220657', 'TXN_6682253', 'TXN_6455325', 'TXN_2380352', 'TXN_6324434', 'TXN_7129511', 'TXN_1556046', 'TXN_9976598', 'TXN_5818852', 'TXN_7420434', 'TXN_7976129', 'TXN_3603434', 'TXN_6264113', 'TXN_2371763', 'TXN_3091574', 'TXN_2503128', 'TXN_2879791', 'TXN_7843112', 'TXN_4315166', 'TXN_7321479', 'TXN_9910333', 'TXN_2633322', 'TXN_6132245', 'TXN_3360649', 'TXN_7414587', 'TXN_3706167', 'TXN_2705302', 'TXN_4493874', 'TXN_2606750', 'TXN_8843108', 'TXN_1231531', 'TXN_6055570', 'TXN_9989239', 'TXN_9792093', 'TXN_1417291', 'TXN_9731164', 'TXN_5036614', 'TXN_7445500', 'TXN_2437508', 'TXN_7480940', 'TXN_5222176', 'TXN_1633337', 'TXN_8726097', 'TXN_1079844', 'TXN_5726114', 'TXN_7907259', 'TXN_9576454', 'TXN_6395070', 'TXN_7704680', 'TXN_5658895', 'TXN_1171080', 'TXN_7694326', 'TXN_3999862', 'TXN_6379692', 'TXN_4583908', 'TXN_1779679', 'TXN_3534536', 'TXN_1275124', 'TXN_2052060', 'TXN_8754977', 'TXN_4643305', 'TXN_6380636', 'TXN_1124311', 'TXN_4612930', 'TXN_6079741', 'TXN_4890770', 'TXN_7894534', 'TXN_5960979', 'TXN_8773639', 'TXN_7680197', 'TXN_4087571', 'TXN_5863411', 'TXN_5243032', 'TXN_6272473', 'TXN_6021173', 'TXN_5929341', 'TXN_4487345', 'TXN_1467546', 'TXN_7349134', 'TXN_8811902', 'TXN_2308317', 'TXN_6680963', 'TXN_5108188', 'TXN_2999220', 'TXN_8331542', 'TXN_2527007', 'TXN_5285171', 'TXN_7728415', 'TXN_8398809', 'TXN_1674042', 'TXN_8119542', 'TXN_6382322', 'TXN_5720183', 'TXN_5747859', 'TXN_2446874', 'TXN_4493878', 'TXN_1707251', 'TXN_6461461', 'TXN_1781777', 'TXN_3586935', 'TXN_8935939', 'TXN_5934526', 'TXN_5220523', 'TXN_3877580', 'TXN_7939011', 'TXN_3349404', 'TXN_2851147', 'TXN_2519044', 'TXN_2276722', 'TXN_2761204', 'TXN_8842592', 'TXN_1888708', 'TXN_1148874', 'TXN_6188306', 'TXN_2402978', 'TXN_5400266', 'TXN_3875049', 'TXN_7674694', 'TXN_3918998', 'TXN_4378200', 'TXN_9072517', 'TXN_3884527', 'TXN_7471753', 'TXN_8600523', 'TXN_8172333', 'TXN_7139053', 'TXN_7469771', 'TXN_1072232', 'TXN_5901887', 'TXN_1948437', 'TXN_2350703', 'TXN_6929413', 'TXN_2761003', 'TXN_6899576', 'TXN_8878429', 'TXN_6718205', 'TXN_7732813', 'TXN_7714378', 'TXN_7205840', 'TXN_1374424', 'TXN_9038745', 'TXN_6361309', 'TXN_8888599', 'TXN_1086324', 'TXN_8785432', 'TXN_5743619', 'TXN_5090839', 'TXN_7143535', 'TXN_8352365', 'TXN_6806024', 'TXN_1749299', 'TXN_5697778', 'TXN_3840523', 'TXN_4385240', 'TXN_6431215', 'TXN_3622194', 'TXN_6028915', 'TXN_3557583', 'TXN_9391494', 'TXN_5444860', 'TXN_7704229', 'TXN_2586215', 'TXN_9874775', 'TXN_5852244', 'TXN_2490461', 'TXN_9943917', 'TXN_5104848', 'TXN_5183249', 'TXN_8839045', 'TXN_4611673', 'TXN_1555314', 'TXN_5826333', 'TXN_8211146', 'TXN_7430227', 'TXN_1671480', 'TXN_4994052', 'TXN_9502077', 'TXN_2268203', 'TXN_3263746', 'TXN_1456374', 'TXN_6301984', 'TXN_4831345', 'TXN_8075323', 'TXN_7277750', 'TXN_7326974', 'TXN_3995266', 'TXN_8321887', 'TXN_5386352', 'TXN_8739878', 'TXN_1952465', 'TXN_9390188', 'TXN_6609572', 'TXN_9720012', 'TXN_8655424', 'TXN_9448209', 'TXN_7388752', 'TXN_7493740', 'TXN_3436462', 'TXN_5677869', 'TXN_3794410', 'TXN_4150495', 'TXN_2190325', 'TXN_8700466', 'TXN_8807199', 'TXN_1516182', 'TXN_9942517', 'TXN_3222677', 'TXN_8960347', 'TXN_4823513', 'TXN_2695546', 'TXN_6496506', 'TXN_6413250', 'TXN_7151374', 'TXN_4325648', 'TXN_4425164', 'TXN_7533540', 'TXN_7584025', 'TXN_6312755', 'TXN_4702378', 'TXN_2684400', 'TXN_7605154', 'TXN_1510406', 'TXN_9904042', 'TXN_7137364', 'TXN_5942011', 'TXN_6361856', 'TXN_2328896', 'TXN_3686848', 'TXN_8848847', 'TXN_5148730', 'TXN_5356324', 'TXN_4642770', 'TXN_9632482', 'TXN_9180345', 'TXN_6347670', 'TXN_7799794', 'TXN_8735418', 'TXN_5748083', 'TXN_5734442', 'TXN_6158518', 'TXN_1135215', 'TXN_9320167', 'TXN_2855149', 'TXN_1348274', 'TXN_7653946', 'TXN_8301190', 'TXN_1094479', 'TXN_9480564', 'TXN_9382596', 'TXN_1811953', 'TXN_4413776', 'TXN_1360872', 'TXN_8176812', 'TXN_2911864', 'TXN_8693747', 'TXN_1936915', 'TXN_6154823', 'TXN_1853983', 'TXN_9040196', 'TXN_5173628', 'TXN_9348280', 'TXN_4788388', 'TXN_4060538', 'TXN_4734216', 'TXN_1643870', 'TXN_4020100', 'TXN_5611239', 'TXN_3644269', 'TXN_1804335', 'TXN_1856153', 'TXN_5762127', 'TXN_7366807', 'TXN_7630601', 'TXN_7448158', 'TXN_6444366', 'TXN_4937344', 'TXN_2919225', 'TXN_6832697', 'TXN_4019047', 'TXN_7313328', 'TXN_4177717', 'TXN_3494191', 'TXN_6472656', 'TXN_3275800', 'TXN_2336921', 'TXN_4475412', 'TXN_9523335', 'TXN_2352246', 'TXN_6242107', 'TXN_3524464', 'TXN_3858126', 'TXN_8876663', 'TXN_4475487', 'TXN_9874192', 'TXN_9580673', 'TXN_1206585', 'TXN_2941227', 'TXN_1313643', 'TXN_8252793', 'TXN_4214066', 'TXN_4908458', 'TXN_4625165', 'TXN_1422305', 'TXN_8885727', 'TXN_3766378', 'TXN_1894142', 'TXN_6752476', 'TXN_8522571', 'TXN_4541981', 'TXN_8219210', 'TXN_2346296', 'TXN_1031802', 'TXN_9022617', 'TXN_2435218', 'TXN_6243134', 'TXN_7517241', 'TXN_2656162', 'TXN_2187911', 'TXN_2579242', 'TXN_3207254', 'TXN_8223689', 'TXN_5649995', 'TXN_2102561', 'TXN_9447946', 'TXN_7374304', 'TXN_6206792', 'TXN_3061498', 'TXN_3265085', 'TXN_1034067', 'TXN_9384397', 'TXN_6824743', 'TXN_9323215', 'TXN_1804132', 'TXN_3564954', 'TXN_2221447', 'TXN_8352748', 'TXN_4619018', 'TXN_6266017', 'TXN_2417402', 'TXN_9287659', 'TXN_8855046', 'TXN_2503245', 'TXN_3548788', 'TXN_4677415', 'TXN_4824519', 'TXN_4615235', 'TXN_1267753', 'TXN_6591736', 'TXN_2594056', 'TXN_3043982', 'TXN_5269634', 'TXN_8969428', 'TXN_1205610', 'TXN_9603912', 'TXN_5145906', 'TXN_1350239', 'TXN_7809121', 'TXN_1634534', 'TXN_4644671', 'TXN_3136701', 'TXN_9894270', 'TXN_9477892', 'TXN_6738716', 'TXN_6815753', 'TXN_8464222', 'TXN_1652596', 'TXN_3129441', 'TXN_1868529', 'TXN_8512136', 'TXN_6064400', 'TXN_4856575', 'TXN_5004986', 'TXN_5671075', 'TXN_6234838', 'TXN_6164035', 'TXN_3157867', 'TXN_7254494', 'TXN_3666951', 'TXN_3947201', 'TXN_5496282', 'TXN_6310896', 'TXN_5061028', 'TXN_8159727', 'TXN_3639760', 'TXN_8008815', 'TXN_4548274', 'TXN_5341644', 'TXN_1476711', 'TXN_4913079', 'TXN_1173155', 'TXN_2181920', 'TXN_3819085', 'TXN_5348750', 'TXN_3472707', 'TXN_1721242', 'TXN_1429858', 'TXN_3487896', 'TXN_8316915', 'TXN_3526095', 'TXN_3467985', 'TXN_7918317', 'TXN_3434549', 'TXN_4321368', 'TXN_5752187', 'TXN_6833530', 'TXN_4226572', 'TXN_1481470', 'TXN_6897608', 'TXN_6724554', 'TXN_4775791', 'TXN_7263939', 'TXN_4791072', 'TXN_6962671', 'TXN_6476204', 'TXN_6059878', 'TXN_4107706', 'TXN_5299440', 'TXN_3708535', 'TXN_8379868', 'TXN_5594695', 'TXN_1934166', 'TXN_3451212', 'TXN_9399452', 'TXN_5512533', 'TXN_4563526', 'TXN_9626624', 'TXN_5709834', 'TXN_7505290', 'TXN_4876685', 'TXN_4986668', 'TXN_9547654', 'TXN_6456008', 'TXN_9640865', 'TXN_4624591', 'TXN_3868402', 'TXN_9655021', 'TXN_9550397', 'TXN_1716710', 'TXN_4392519', 'TXN_6732096', 'TXN_4071945', 'TXN_7355326', 'TXN_5598744', 'TXN_3919225', 'TXN_5777542', 'TXN_6451043', 'TXN_2007418', 'TXN_2055898', 'TXN_9941872', 'TXN_2534831', 'TXN_8776634', 'TXN_1067052', 'TXN_6460409', 'TXN_4788748', 'TXN_6408024', 'TXN_5893283', 'TXN_9188172', 'TXN_2156128', 'TXN_4545512', 'TXN_8536578', 'TXN_6235329', 'TXN_7665695', 'TXN_3020475', 'TXN_7905853', 'TXN_6685570', 'TXN_5093312', 'TXN_5896413', 'TXN_6026451', 'TXN_4411007', 'TXN_3651743', 'TXN_7367134', 'TXN_4342098', 'TXN_5962196', 'TXN_2374950', 'TXN_3201783', 'TXN_1926794', 'TXN_2632916', 'TXN_4947561', 'TXN_6753977', 'TXN_2797871', 'TXN_2607233', 'TXN_1266278', 'TXN_6225305', 'TXN_9262504', 'TXN_6400461', 'TXN_4713356', 'TXN_4483944', 'TXN_7332192', 'TXN_8344035', 'TXN_8156272', 'TXN_4548715', 'TXN_6071866', 'TXN_2355099', 'TXN_2638434', 'TXN_5261036', 'TXN_5092646', 'TXN_9564495', 'TXN_5891724', 'TXN_5251180', 'TXN_7954064', 'TXN_7866723', 'TXN_6317991', 'TXN_9667721', 'TXN_2086896', 'TXN_2238287', 'TXN_8059034', 'TXN_5516374', 'TXN_7606965', 'TXN_3881824', 'TXN_1193930', 'TXN_8866088', 'TXN_5318263', 'TXN_5229351', 'TXN_6533576', 'TXN_9987017', 'TXN_5061600', 'TXN_9086163', 'TXN_6875870', 'TXN_7604622', 'TXN_8226985', 'TXN_7977951', 'TXN_3341779', 'TXN_5337566', 'TXN_5452210', 'TXN_5651620', 'TXN_1815061', 'TXN_4035164', 'TXN_6711224', 'TXN_3145515', 'TXN_6184247', 'TXN_7601706', 'TXN_2798069', 'TXN_9041537', 'TXN_3974663', 'TXN_6289180', 'TXN_8388462', 'TXN_1849406', 'TXN_7434172', 'TXN_5047792', 'TXN_5884081', 'TXN_2601923', 'TXN_7648238', 'TXN_7136372', 'TXN_1617594', 'TXN_1409029', 'TXN_6655913', 'TXN_3642052', 'TXN_7020104', 'TXN_2329938', 'TXN_4430474', 'TXN_6817358', 'TXN_7738316', 'TXN_7030681', 'TXN_2083119', 'TXN_5492825', 'TXN_2858635', 'TXN_9522690', 'TXN_2561071', 'TXN_2252244', 'TXN_3889213', 'TXN_8640383', 'TXN_9657902', 'TXN_5968705', 'TXN_6344738', 'TXN_6728574', 'TXN_1522176', 'TXN_6200423', 'TXN_3233221', 'TXN_3277936', 'TXN_7101802', 'TXN_5790695', 'TXN_7251969', 'TXN_1277813', 'TXN_5303464', 'TXN_9360886', 'TXN_7556108', 'TXN_7749759', 'TXN_8494571', 'TXN_8888249', 'TXN_7592199', 'TXN_3919672', 'TXN_6183513', 'TXN_8499618', 'TXN_4103665', 'TXN_5949517', 'TXN_9618962', 'TXN_9975079', 'TXN_3209025', 'TXN_6543164', 'TXN_4807459', 'TXN_5365699', 'TXN_6738137', 'TXN_2721997', 'TXN_4321091', 'TXN_8899602', 'TXN_7207901', 'TXN_9952479', 'TXN_9882485', 'TXN_9928409', 'TXN_5409141', 'TXN_8187087', 'TXN_9699948', 'TXN_8203190', 'TXN_5862289', 'TXN_5324330', 'TXN_5649204', 'TXN_6702416', 'TXN_6890737', 'TXN_1958614', 'TXN_6505914', 'TXN_1616810', 'TXN_2631423', 'TXN_3442435', 'TXN_6144244', 'TXN_6231475', 'TXN_5151706', 'TXN_5241723', 'TXN_7429032', 'TXN_7603919', 'TXN_2035137', 'TXN_2790608', 'TXN_6979356', 'TXN_5571904', 'TXN_6308974', 'TXN_3478329', 'TXN_9024388', 'TXN_2551378', 'TXN_6219454', 'TXN_3480562', 'TXN_5131404', 'TXN_8049058', 'TXN_9368550', 'TXN_4633457', 'TXN_7986904', 'TXN_5029643', 'TXN_2066115', 'TXN_4084177', 'TXN_7563589', 'TXN_3321395', 'TXN_1602123', 'TXN_7933500', 'TXN_8308356', 'TXN_9216933', 'TXN_4644790', 'TXN_2438638', 'TXN_9944141', 'TXN_2086841', 'TXN_5908362', 'TXN_9181129', 'TXN_8626720', 'TXN_9288156', 'TXN_5537621', 'TXN_9171458', 'TXN_4987205', 'TXN_1723062', 'TXN_1084222', 'TXN_7479695', 'TXN_2673104', 'TXN_1971201', 'TXN_7854253', 'TXN_5240229', 'TXN_4336291', 'TXN_7321946', 'TXN_5125759', 'TXN_3416466', 'TXN_6550460', 'TXN_1585329', 'TXN_7942343', 'TXN_7864482', 'TXN_9264301', 'TXN_4335735', 'TXN_6388090', 'TXN_7608637', 'TXN_1745182', 'TXN_2682803', 'TXN_3352028', 'TXN_2550923', 'TXN_2913107', 'TXN_9212052', 'TXN_9319656', 'TXN_9464398', 'TXN_7872478', 'TXN_1598214', 'TXN_7529735', 'TXN_8025478', 'TXN_8131533', 'TXN_7742182', 'TXN_8917300', 'TXN_4846406', 'TXN_8934637', 'TXN_6122423', 'TXN_9596023', 'TXN_3332915', 'TXN_8892230', 'TXN_1058466', 'TXN_4668762', 'TXN_5549557', 'TXN_6127474', 'TXN_9868114', 'TXN_2414686', 'TXN_6547896', 'TXN_5214986', 'TXN_6941542', 'TXN_4721830', 'TXN_6588156', 'TXN_4892165', 'TXN_2704452', 'TXN_2389110', 'TXN_3267393', 'TXN_8258400', 'TXN_9097321', 'TXN_4209377', 'TXN_2896162', 'TXN_4522292', 'TXN_8126586', 'TXN_2531878', 'TXN_1836754', 'TXN_1696300', 'TXN_5746203', 'TXN_7171590', 'TXN_1900906', 'TXN_3018211', 'TXN_4449992', 'TXN_6027031', 'TXN_5927258', 'TXN_6036409', 'TXN_9699174', 'TXN_9253541', 'TXN_4246000', 'TXN_1120969', 'TXN_9615339', 'TXN_1721910', 'TXN_3635874', 'TXN_6012728', 'TXN_6422545', 'TXN_4561296', 'TXN_4290475', 'TXN_9630958', 'TXN_1959082', 'TXN_7474617', 'TXN_7458568', 'TXN_9362993', 'TXN_6857799', 'TXN_8402606', 'TXN_8473362', 'TXN_5263133', 'TXN_4476539', 'TXN_9403115', 'TXN_1255476', 'TXN_6499084', 'TXN_7187128', 'TXN_5438422', 'TXN_7341998', 'TXN_6182856', 'TXN_1744319', 'TXN_2883054', 'TXN_3594827', 'TXN_3046567', 'TXN_4533186', 'TXN_3284157', 'TXN_3646359', 'TXN_1885495', 'TXN_1204426', 'TXN_5424622', 'TXN_8886678', 'TXN_9629256', 'TXN_2140056', 'TXN_3541337', 'TXN_2510233', 'TXN_7896831', 'TXN_3343585', 'TXN_7077961', 'TXN_6603668', 'TXN_9490465', 'TXN_2030078', 'TXN_2477021', 'TXN_8562684', 'TXN_9340973', 'TXN_5453217', 'TXN_8946752', 'TXN_5738243', 'TXN_6055428', 'TXN_4142781', 'TXN_4329116', 'TXN_6361661', 'TXN_9921708', 'TXN_6504096', 'TXN_4172649', 'TXN_9514836', 'TXN_5691112', 'TXN_1851725', 'TXN_6935600', 'TXN_7800576', 'TXN_1730385', 'TXN_6568254', 'TXN_6349916', 'TXN_8419985', 'TXN_5136479', 'TXN_3371429', 'TXN_6149247', 'TXN_6296806', 'TXN_3882139', 'TXN_1026050', 'TXN_2351890', 'TXN_1489200', 'TXN_8853027', 'TXN_2252586', 'TXN_1643122', 'TXN_1514364', 'TXN_9672367', 'TXN_6511482', 'TXN_4255116', 'TXN_4359885', 'TXN_6879752', 'TXN_4037502', 'TXN_5900899', 'TXN_4035669', 'TXN_1313701', 'TXN_2135358', 'TXN_8079747', 'TXN_3435561', 'TXN_8107970', 'TXN_6335909', 'TXN_9206923', 'TXN_2920551', 'TXN_2136226', 'TXN_3865627', 'TXN_4075198', 'TXN_5722175', 'TXN_5022805', 'TXN_1829391', 'TXN_2706461', 'TXN_2586830', 'TXN_4346607', 'TXN_2222893', 'TXN_6757560', 'TXN_9514996', 'TXN_9959765', 'TXN_2532519', 'TXN_3026936', 'TXN_9579740', 'TXN_6097759', 'TXN_2449402', 'TXN_5535579', 'TXN_8708666', 'TXN_4761088', 'TXN_8363628', 'TXN_8090361', 'TXN_1208926', 'TXN_3444569', 'TXN_4158904', 'TXN_4577368', 'TXN_6625294', 'TXN_9931637', 'TXN_3215610', 'TXN_7622855', 'TXN_4894647', 'TXN_1217810', 'TXN_5189465', 'TXN_2541441', 'TXN_6815801', 'TXN_4723529', 'TXN_3852141', 'TXN_9314690', 'TXN_4832452', 'TXN_7972349', 'TXN_4702345', 'TXN_9151273', 'TXN_7963189', 'TXN_8053946', 'TXN_1606273', 'TXN_4458848', 'TXN_9970195', 'TXN_2453194', 'TXN_8526941', 'TXN_3232279', 'TXN_2672126', 'TXN_3847176', 'TXN_2132434', 'TXN_3632068', 'TXN_1650385', 'TXN_4703100', 'TXN_7832527', 'TXN_9300618', 'TXN_6729852', 'TXN_1123346', 'TXN_8627869', 'TXN_9813095', 'TXN_2262398', 'TXN_4832566', 'TXN_5797307', 'TXN_6039321', 'TXN_9537106', 'TXN_9046415', 'TXN_1767321', 'TXN_9685491', 'TXN_7637325', 'TXN_4559065', 'TXN_5970304', 'TXN_6888839', 'TXN_1599516', 'TXN_8810855', 'TXN_6730130', 'TXN_7498795', 'TXN_6233021', 'TXN_2521185', 'TXN_1172121', 'TXN_4985415', 'TXN_9691955', 'TXN_3344089', 'TXN_4977954', 'TXN_4852852', 'TXN_1328953', 'TXN_8929329', 'TXN_3283631', 'TXN_5280256', 'TXN_2897354', 'TXN_2462604', 'TXN_4328228', 'TXN_5966765', 'TXN_4602865', 'TXN_7754382', 'TXN_2696377', 'TXN_6859249', 'TXN_3785168', 'TXN_5926432', 'TXN_7455953', 'TXN_2670824', 'TXN_2919952', 'TXN_9549208', 'TXN_3715065', 'TXN_4075817', 'TXN_3653560', 'TXN_3701660', 'TXN_7922471', 'TXN_4260865', 'TXN_3863163', 'TXN_8487216', 'TXN_5390533', 'TXN_7551280', 'TXN_2909634', 'TXN_8964166', 'TXN_2406283', 'TXN_3654203', 'TXN_1999100', 'TXN_3110245', 'TXN_9436342', 'TXN_8468509', 'TXN_3421404', 'TXN_4570881', 'TXN_3273540', 'TXN_3003311', 'TXN_6405489', 'TXN_1402641', 'TXN_2954630', 'TXN_6206679', 'TXN_8235381', 'TXN_8076942', 'TXN_6621596', 'TXN_8675922', 'TXN_3930990', 'TXN_4677478', 'TXN_7560178', 'TXN_4147675', 'TXN_3311860', 'TXN_9855567', 'TXN_5422928', 'TXN_1689024', 'TXN_8647048', 'TXN_4428307', 'TXN_6204081', 'TXN_5582443', 'TXN_1354464', 'TXN_2395608', 'TXN_1405124', 'TXN_7068361', 'TXN_9337894', 'TXN_2206639', 'TXN_9868954', 'TXN_6503884', 'TXN_9417344', 'TXN_2257337', 'TXN_3109057', 'TXN_6864420', 'TXN_6884558', 'TXN_7809506', 'TXN_7072581', 'TXN_2941800', 'TXN_4367689', 'TXN_7248594', 'TXN_4160784', 'TXN_2294397', 'TXN_3082888', 'TXN_2165745', 'TXN_3854210', 'TXN_1670597', 'TXN_1443928', 'TXN_6663451', 'TXN_4832163', 'TXN_6220280', 'TXN_4213071', 'TXN_2251128', 'TXN_3134595', 'TXN_2802630', 'TXN_5423024', 'TXN_4194115', 'TXN_9496791', 'TXN_4432082', 'TXN_3936162', 'TXN_2964794', 'TXN_1767201', 'TXN_1419188', 'TXN_7838576', 'TXN_4900574', 'TXN_7880000', 'TXN_7666945', 'TXN_7144740', 'TXN_1022220', 'TXN_9287780', 'TXN_3059966', 'TXN_5031020', 'TXN_4314314', 'TXN_8141558', 'TXN_7243779', 'TXN_5844851', 'TXN_5714767', 'TXN_9699083', 'TXN_4208919', 'TXN_2005032', 'TXN_8271278', 'TXN_9861432', 'TXN_6755791', 'TXN_4835929', 'TXN_2320493', 'TXN_4216055', 'TXN_8854471', 'TXN_7741707', 'TXN_9988801', 'TXN_5009924', 'TXN_2301001', 'TXN_2939069', 'TXN_4383002', 'TXN_7530692', 'TXN_8306028', 'TXN_7580803', 'TXN_6370625', 'TXN_3577482', 'TXN_4573096', 'TXN_7343342', 'TXN_2316206', 'TXN_7981162', 'TXN_1072678', 'TXN_4155001', 'TXN_8443384', 'TXN_2529216', 'TXN_2176821', 'TXN_8687294', 'TXN_8502946', 'TXN_4401563', 'TXN_9375649', 'TXN_9128859', 'TXN_7768350', 'TXN_7744874', 'TXN_3212317', 'TXN_4374963', 'TXN_7640914', 'TXN_8127433', 'TXN_8432045', 'TXN_7895514', 'TXN_3014967', 'TXN_5767392', 'TXN_3845871', 'TXN_6885218', 'TXN_5963749', 'TXN_9706608', 'TXN_6532452', 'TXN_7814715', 'TXN_8385625', 'TXN_5438652', 'TXN_6027923', 'TXN_8195843', 'TXN_9793806', 'TXN_7226406', 'TXN_7824739', 'TXN_5053064', 'TXN_8987697', 'TXN_9714116', 'TXN_9067597', 'TXN_8724602', 'TXN_9213505', 'TXN_7899009', 'TXN_8077929', 'TXN_9285475', 'TXN_1613996', 'TXN_6959328', 'TXN_1340358', 'TXN_2402993', 'TXN_8944202', 'TXN_1523626', 'TXN_3205079', 'TXN_8685281', 'TXN_9110336', 'TXN_3374262', 'TXN_2536573', 'TXN_7931086', 'TXN_4197851', 'TXN_5675095', 'TXN_7375024', 'TXN_5332538', 'TXN_7809290', 'TXN_6070523', 'TXN_8164119', 'TXN_7860953', 'TXN_8124795', 'TXN_4271502', 'TXN_1776070', 'TXN_1940778', 'TXN_2000331', 'TXN_7688029', 'TXN_5921766', 'TXN_8453282', 'TXN_7502558', 'TXN_9417252', 'TXN_4439660', 'TXN_2662711', 'TXN_1867158', 'TXN_4350854', 'TXN_1398511', 'TXN_3403409', 'TXN_4296023', 'TXN_7893709', 'TXN_9211917', 'TXN_3901665', 'TXN_9388222', 'TXN_5413433', 'TXN_9556442', 'TXN_9114647', 'TXN_8430882', 'TXN_4547294', 'TXN_5569954', 'TXN_7463102', 'TXN_3638761', 'TXN_9668265', 'TXN_8696857', 'TXN_3061405', 'TXN_1205773', 'TXN_5220527', 'TXN_3431892', 'TXN_3420633', 'TXN_5107249', 'TXN_3214521', 'TXN_1849597', 'TXN_7360979', 'TXN_2265543', 'TXN_4118960', 'TXN_5200292', 'TXN_9540340', 'TXN_5660949', 'TXN_6745398', 'TXN_2642834', 'TXN_6433525', 'TXN_6149800', 'TXN_1862184', 'TXN_6712087', 'TXN_6618750', 'TXN_9627891', 'TXN_4001774', 'TXN_2049313', 'TXN_3312088', 'TXN_5087453', 'TXN_5609139', 'TXN_9496018', 'TXN_4166020', 'TXN_1413310', 'TXN_6533267', 'TXN_1128577', 'TXN_5350735', 'TXN_3717422', 'TXN_3295578', 'TXN_3228646', 'TXN_1941099', 'TXN_1610137', 'TXN_2073647', 'TXN_7484638', 'TXN_5972836', 'TXN_2927941', 'TXN_1823906', 'TXN_8916446', 'TXN_3843111', 'TXN_6874059', 'TXN_6372031', 'TXN_4432546', 'TXN_7626322', 'TXN_5528426', 'TXN_3602823', 'TXN_1873800', 'TXN_5584275', 'TXN_7208983', 'TXN_9684822', 'TXN_1767872', 'TXN_4268746', 'TXN_5488764', 'TXN_5853281', 'TXN_7461544', 'TXN_7105069', 'TXN_3607778', 'TXN_7308096', 'TXN_6896663', 'TXN_3272946', 'TXN_7108012', 'TXN_8047234', 'TXN_2262195', 'TXN_9094628', 'TXN_7137256', 'TXN_2561970', 'TXN_5996973', 'TXN_6425706', 'TXN_9789310', 'TXN_1328230', 'TXN_7368194', 'TXN_9839214', 'TXN_1022126', 'TXN_5635779', 'TXN_6440555', 'TXN_3016203', 'TXN_9271577', 'TXN_6179190', 'TXN_7971660', 'TXN_8704128', 'TXN_7412782', 'TXN_3251340', 'TXN_3232043', 'TXN_4602430', 'TXN_1151605', 'TXN_1569248', 'TXN_9606045', 'TXN_4787990', 'TXN_1199898', 'TXN_6687029', 'TXN_2987590', 'TXN_8152941', 'TXN_6259087', 'TXN_4539758', 'TXN_3398611', 'TXN_5926982', 'TXN_7868470', 'TXN_4877601', 'TXN_3647474', 'TXN_2161957', 'TXN_2694605', 'TXN_9943050', 'TXN_2279313', 'TXN_7770487', 'TXN_8046891', 'TXN_6533450', 'TXN_9050127', 'TXN_2564718', 'TXN_2238658', 'TXN_8271541', 'TXN_5570967', 'TXN_5663260', 'TXN_3386311', 'TXN_6660602', 'TXN_2372348', 'TXN_9863114', 'TXN_9587704', 'TXN_9608095', 'TXN_2276426', 'TXN_3679245', 'TXN_3093284', 'TXN_2131494', 'TXN_1929398', 'TXN_4055876', 'TXN_9409405', 'TXN_8076152', 'TXN_4819416', 'TXN_1927704', 'TXN_5775717', 'TXN_7312736', 'TXN_2887528', 'TXN_5148823', 'TXN_5944318', 'TXN_1196324', 'TXN_4152991', 'TXN_4613595', 'TXN_5729112', 'TXN_8086161', 'TXN_3017494', 'TXN_4187673', 'TXN_5853158', 'TXN_1675510', 'TXN_4112230', 'TXN_7049149', 'TXN_4807049', 'TXN_7082667', 'TXN_3094786', 'TXN_4805204', 'TXN_6271633', 'TXN_5336437', 'TXN_1234390', 'TXN_8912589', 'TXN_8181326', 'TXN_5244931', 'TXN_3941164', 'TXN_4359568', 'TXN_2548742', 'TXN_6740691', 'TXN_6621007', 'TXN_4442095', 'TXN_5473680', 'TXN_8521037', 'TXN_7970325', 'TXN_5360210', 'TXN_8659575', 'TXN_1711730', 'TXN_2935758', 'TXN_3676131', 'TXN_8659963', 'TXN_8811945', 'TXN_3654299', 'TXN_7133645', 'TXN_2361290', 'TXN_7746634', 'TXN_8030379', 'TXN_1840584', 'TXN_1950008', 'TXN_8803798', 'TXN_8735820', 'TXN_4548698', 'TXN_3762778', 'TXN_8100384', 'TXN_9861083', 'TXN_6975499', 'TXN_1342359', 'TXN_6383779', 'TXN_2408143', 'TXN_2097072', 'TXN_9775900', 'TXN_6677631', 'TXN_5999810', 'TXN_6830192', 'TXN_2767034', 'TXN_4831525', 'TXN_1897783', 'TXN_6376329', 'TXN_1010950', 'TXN_8219298', 'TXN_3447069', 'TXN_6486912', 'TXN_1228927', 'TXN_5929797', 'TXN_5308047', 'TXN_2394502', 'TXN_4307602', 'TXN_7436097', 'TXN_3630892', 'TXN_3894173', 'TXN_8211303', 'TXN_2522047', 'TXN_5296578', 'TXN_7894069', 'TXN_4032956', 'TXN_6815741', 'TXN_9362958', 'TXN_6880338', 'TXN_3966911', 'TXN_2422584', 'TXN_8362750', 'TXN_4489757', 'TXN_6205234', 'TXN_3071092', 'TXN_5680396', 'TXN_9365766', 'TXN_5762828', 'TXN_8903514', 'TXN_4367044', 'TXN_1333524', 'TXN_2154866', 'TXN_6991528', 'TXN_6479368', 'TXN_6228847', 'TXN_5706734', 'TXN_1777171', 'TXN_8639995', 'TXN_4209626', 'TXN_4197090', 'TXN_5179156', 'TXN_2435025', 'TXN_8472252', 'TXN_3801179', 'TXN_2897727', 'TXN_9154713', 'TXN_1191068', 'TXN_3984842', 'TXN_5376589', 'TXN_2571835', 'TXN_7543525', 'TXN_2634805', 'TXN_6226412', 'TXN_2970600', 'TXN_4239051', 'TXN_9433035', 'TXN_5236861', 'TXN_5679935', 'TXN_2099497', 'TXN_5906365', 'TXN_8918905', 'TXN_6096492', 'TXN_4630658', 'TXN_5746800', 'TXN_7898391', 'TXN_7954368', 'TXN_4612146', 'TXN_5951573', 'TXN_2174821', 'TXN_7521634', 'TXN_5335079', 'TXN_7835785', 'TXN_2153838', 'TXN_9878237', 'TXN_7116267', 'TXN_2798736', 'TXN_7964661', 'TXN_1488458', 'TXN_5935394', 'TXN_1474329', 'TXN_5381129', 'TXN_7252860', 'TXN_2807590', 'TXN_7241859', 'TXN_7655838', 'TXN_2556368', 'TXN_6396940', 'TXN_7821658', 'TXN_1381818', 'TXN_6610487', 'TXN_3956062', 'TXN_2346362', 'TXN_9929732', 'TXN_7014478', 'TXN_6513163', 'TXN_5170047', 'TXN_1566564', 'TXN_3617989', 'TXN_8018272', 'TXN_1817275', 'TXN_3936883', 'TXN_4349970', 'TXN_7627772', 'TXN_9531201', 'TXN_1489194', 'TXN_2325141', 'TXN_5007051', 'TXN_1701465', 'TXN_5100579', 'TXN_4750383', 'TXN_4234636', 'TXN_2018943', 'TXN_1467367', 'TXN_4165923', 'TXN_7476348', 'TXN_5315665', 'TXN_7232524', 'TXN_1991987', 'TXN_2911863', 'TXN_9894831', 'TXN_7440057', 'TXN_9039882', 'TXN_6748232', 'TXN_7047040', 'TXN_7548260', 'TXN_1978687', 'TXN_9241048', 'TXN_9675838', 'TXN_8297751', 'TXN_2337888', 'TXN_1442096', 'TXN_9773646', 'TXN_8872103', 'TXN_2345326', 'TXN_6158834', 'TXN_2480488', 'TXN_2834323', 'TXN_9598764', 'TXN_8941409', 'TXN_6420900', 'TXN_3163567', 'TXN_7478306', 'TXN_6610162', 'TXN_6655017', 'TXN_8046087', 'TXN_3897788', 'TXN_1317114', 'TXN_6754546', 'TXN_3120637', 'TXN_9874256', 'TXN_9786525', 'TXN_7317475', 'TXN_7543765', 'TXN_8821839', 'TXN_1234907', 'TXN_2931403', 'TXN_3232227', 'TXN_4704321', 'TXN_6323915', 'TXN_8235675', 'TXN_8565218', 'TXN_6889357', 'TXN_7763212', 'TXN_4224350', 'TXN_7213830', 'TXN_9626920', 'TXN_3456057', 'TXN_9890279', 'TXN_5138053', 'TXN_3954378', 'TXN_2526267', 'TXN_1131785', 'TXN_3447575', 'TXN_2050630', 'TXN_1759314', 'TXN_5744026', 'TXN_6622980', 'TXN_5578380', 'TXN_7215900', 'TXN_2674372', 'TXN_1464694', 'TXN_4615245', 'TXN_1529845', 'TXN_5124519', 'TXN_3709117', 'TXN_4143264', 'TXN_8036247', 'TXN_9653377', 'TXN_3618603', 'TXN_9675940', 'TXN_9168898', 'TXN_2474395', 'TXN_7979028', 'TXN_7046631', 'TXN_6037924', 'TXN_7278328', 'TXN_1721342', 'TXN_4152262', 'TXN_1731476', 'TXN_9819697', 'TXN_4284507', 'TXN_7928378', 'TXN_8572783', 'TXN_4921865', 'TXN_8175702', 'TXN_1302920', 'TXN_7004494', 'TXN_2302259', 'TXN_8698717', 'TXN_2250398', 'TXN_1309055', 'TXN_7777864', 'TXN_6755874', 'TXN_8708588', 'TXN_6670371', 'TXN_8329144', 'TXN_5806624', 'TXN_7427357', 'TXN_1326993', 'TXN_1760092', 'TXN_7866805', 'TXN_9831537', 'TXN_7735127', 'TXN_4587806', 'TXN_1797690', 'TXN_6320502', 'TXN_6626928', 'TXN_1891978', 'TXN_2813872', 'TXN_6047710', 'TXN_4623642', 'TXN_5743616', 'TXN_2897794', 'TXN_7218134', 'TXN_7755372', 'TXN_9487384', 'TXN_3739424', 'TXN_1811216', 'TXN_4612207', 'TXN_2194660', 'TXN_8306630', 'TXN_9107842', 'TXN_2903973', 'TXN_7581760', 'TXN_8790282', 'TXN_6440109', 'TXN_6581580', 'TXN_3240077', 'TXN_2437725', 'TXN_9872258', 'TXN_1887555', 'TXN_9617269', 'TXN_2311707', 'TXN_1995528', 'TXN_3131168', 'TXN_8496788', 'TXN_4423879', 'TXN_6733436', 'TXN_9694799', 'TXN_4234750', 'TXN_5549522', 'TXN_9248370', 'TXN_1332623', 'TXN_9131153', 'TXN_6425954', 'TXN_9219961', 'TXN_2205690', 'TXN_8749775', 'TXN_4064326', 'TXN_2017793', 'TXN_3052953', 'TXN_5296083', 'TXN_4083872', 'TXN_1088497', 'TXN_2840861', 'TXN_5005793', 'TXN_8058105', 'TXN_2905118', 'TXN_9761314', 'TXN_4177796', 'TXN_8240436', 'TXN_2437112', 'TXN_1727281', 'TXN_6919325', 'TXN_7086603', 'TXN_1413335', 'TXN_2947622', 'TXN_2250898', 'TXN_1559521', 'TXN_5868082', 'TXN_2822949', 'TXN_7991782', 'TXN_7418152', 'TXN_3130302', 'TXN_3413156', 'TXN_8209509', 'TXN_1311519', 'TXN_7937905', 'TXN_6541284', 'TXN_6700141', 'TXN_5145016', 'TXN_2474286', 'TXN_8273645', 'TXN_7233393', 'TXN_6034596', 'TXN_3766657', 'TXN_3950331', 'TXN_1353266', 'TXN_9250024', 'TXN_3447594', 'TXN_7595042', 'TXN_1670848', 'TXN_3121483', 'TXN_5213014', 'TXN_7286934', 'TXN_8555334', 'TXN_3158921', 'TXN_4878020', 'TXN_1466002', 'TXN_7021722', 'TXN_4688236', 'TXN_6347482', 'TXN_5159483', 'TXN_8716594', 'TXN_4030519', 'TXN_5367923', 'TXN_5432582', 'TXN_3585097', 'TXN_2714524', 'TXN_4406290', 'TXN_4006771', 'TXN_2844982', 'TXN_7528294', 'TXN_2495788', 'TXN_2457189', 'TXN_9403754', 'TXN_2248497', 'TXN_1710476', 'TXN_1367723', 'TXN_1124655', 'TXN_1293509', 'TXN_4937411', 'TXN_2838958', 'TXN_8477945', 'TXN_2741928', 'TXN_7476268', 'TXN_9749790', 'TXN_6846861', 'TXN_1236779', 'TXN_8789137', 'TXN_8990101', 'TXN_7878520', 'TXN_8250845', 'TXN_1079241', 'TXN_8748070', 'TXN_9206049', 'TXN_9577339', 'TXN_7131251', 'TXN_8859035', 'TXN_9710430', 'TXN_6347567', 'TXN_4558455', 'TXN_9345439', 'TXN_8349096', 'TXN_8197935', 'TXN_6501091', 'TXN_8305586', 'TXN_8872984', 'TXN_9352814', 'TXN_7927109', 'TXN_7334418', 'TXN_2879543', 'TXN_4532280', 'TXN_4628338', 'TXN_5406411', 'TXN_1390917', 'TXN_3291900', 'TXN_2770536', 'TXN_7682621', 'TXN_2866735', 'TXN_8799599', 'TXN_6775972', 'TXN_2141924', 'TXN_3202346', 'TXN_1577802', 'TXN_6412590', 'TXN_5209716', 'TXN_5154112', 'TXN_6577619', 'TXN_9374286', 'TXN_5227798', 'TXN_3740465', 'TXN_6206421', 'TXN_3924170', 'TXN_1721366', 'TXN_4907008', 'TXN_6443522', 'TXN_5520841', 'TXN_3661311', 'TXN_1704642', 'TXN_5457767', 'TXN_3677109', 'TXN_2371827', 'TXN_6481150', 'TXN_8675052', 'TXN_5056971', 'TXN_6748374', 'TXN_2829951', 'TXN_8279269', 'TXN_3402368', 'TXN_2199500', 'TXN_6142529', 'TXN_9614646', 'TXN_1898102', 'TXN_2490699', 'TXN_1883231', 'TXN_8432624', 'TXN_3221795', 'TXN_5662517', 'TXN_9949241', 'TXN_8099578', 'TXN_2917349', 'TXN_1228888', 'TXN_8588174', 'TXN_1641000', 'TXN_6297375', 'TXN_9833793', 'TXN_8285283', 'TXN_2437751', 'TXN_6907555', 'TXN_5468350', 'TXN_4865947', 'TXN_1893337', 'TXN_4784154', 'TXN_6959065', 'TXN_8850815', 'TXN_8917809', 'TXN_6125085', 'TXN_2501656', 'TXN_1873852', 'TXN_1607650', 'TXN_3233211', 'TXN_9279935', 'TXN_1370465', 'TXN_8436360', 'TXN_2535662', 'TXN_5734319', 'TXN_7584389', 'TXN_3655322', 'TXN_3492861', 'TXN_7052672', 'TXN_8882176', 'TXN_1296879', 'TXN_1955127', 'TXN_9905396', 'TXN_6265760', 'TXN_6794035', 'TXN_5426405', 'TXN_4795208', 'TXN_4779439', 'TXN_2184573', 'TXN_4461853', 'TXN_6699343', 'TXN_6901619', 'TXN_9286960', 'TXN_8132145', 'TXN_4183749', 'TXN_4476076', 'TXN_2330694', 'TXN_7171303', 'TXN_8219472', 'TXN_3886176', 'TXN_3430805', 'TXN_7777602', 'TXN_7343660', 'TXN_4377249', 'TXN_5456362', 'TXN_4876398', 'TXN_4919285', 'TXN_3504925', 'TXN_8714850', 'TXN_5202752', 'TXN_3994585', 'TXN_5641209', 'TXN_2260070', 'TXN_6101067', 'TXN_1792405', 'TXN_7847913', 'TXN_6071905', 'TXN_6337189', 'TXN_1789504', 'TXN_6067546', 'TXN_1971865', 'TXN_6867132', 'TXN_9597063', 'TXN_5727550', 'TXN_5578828', 'TXN_6268823', 'TXN_7268387', 'TXN_1322520', 'TXN_5208377', 'TXN_2242015', 'TXN_5054719', 'TXN_8222593', 'TXN_3920273', 'TXN_1571824', 'TXN_6566716', 'TXN_9286019', 'TXN_3104867', 'TXN_3338458', 'TXN_9529846', 'TXN_7621512', 'TXN_6640488', 'TXN_2882571', 'TXN_1170807', 'TXN_5594043', 'TXN_3346749', 'TXN_6553641', 'TXN_9105374', 'TXN_9669749', 'TXN_2929426', 'TXN_6724588', 'TXN_3699636', 'TXN_9196658', 'TXN_6076602', 'TXN_6761273', 'TXN_3500571', 'TXN_6554101', 'TXN_3896128', 'TXN_7511261', 'TXN_8951525', 'TXN_8903958', 'TXN_2831842', 'TXN_7629728', 'TXN_7396497', 'TXN_8719561', 'TXN_5830991', 'TXN_3172621', 'TXN_1923263', 'TXN_7631496', 'TXN_7292790', 'TXN_2566299', 'TXN_1505837', 'TXN_2639283', 'TXN_8363711', 'TXN_8096618', 'TXN_3585602', 'TXN_3858607', 'TXN_9802771', 'TXN_3238759', 'TXN_1072984', 'TXN_4397349', 'TXN_2340643', 'TXN_8953489', 'TXN_7330330', 'TXN_2110490', 'TXN_5118799', 'TXN_9927220', 'TXN_5188872', 'TXN_2889185', 'TXN_6378070', 'TXN_4216821', 'TXN_9800351', 'TXN_7568112', 'TXN_7179827', 'TXN_3472433', 'TXN_4699911', 'TXN_4152460', 'TXN_6770844', 'TXN_6266750', 'TXN_6251282', 'TXN_1915046', 'TXN_9969706', 'TXN_8982328', 'TXN_2253622', 'TXN_5946779', 'TXN_9970964', 'TXN_4382802', 'TXN_8570149', 'TXN_2418609', 'TXN_8155540', 'TXN_5823330', 'TXN_7117210', 'TXN_2920578', 'TXN_6046363', 'TXN_4914203', 'TXN_7187578', 'TXN_3886583', 'TXN_6529863', 'TXN_4360970', 'TXN_7137800', 'TXN_8159772', 'TXN_7362776', 'TXN_4972634', 'TXN_1297663', 'TXN_6598343', 'TXN_4474441', 'TXN_1322421', 'TXN_5144090', 'TXN_8639879', 'TXN_6667083', 'TXN_1773856', 'TXN_4624019', 'TXN_3190538', 'TXN_4496616', 'TXN_8549600', 'TXN_6492477', 'TXN_8014973', 'TXN_2878994', 'TXN_5820621', 'TXN_2536821', 'TXN_4583009', 'TXN_9608271', 'TXN_6318017', 'TXN_8103754', 'TXN_8901988', 'TXN_4039864', 'TXN_1624458', 'TXN_9315004', 'TXN_1998357', 'TXN_7097760', 'TXN_2294603', 'TXN_7605163', 'TXN_6383336', 'TXN_4649079', 'TXN_2880516', 'TXN_4314504', 'TXN_1830432', 'TXN_3673322', 'TXN_1604072', 'TXN_8942829', 'TXN_9836829', 'TXN_6306644', 'TXN_8078312', 'TXN_8863649', 'TXN_7994903', 'TXN_2074343', 'TXN_6093955', 'TXN_4185160', 'TXN_9970653', 'TXN_6234882', 'TXN_3330279', 'TXN_3977520', 'TXN_1458905', 'TXN_2841233', 'TXN_9525078', 'TXN_8016623', 'TXN_3463337', 'TXN_1329167', 'TXN_9944500', 'TXN_1220061', 'TXN_6345619', 'TXN_1533652', 'TXN_7625340', 'TXN_1985396', 'TXN_2817210', 'TXN_5808719', 'TXN_4163126', 'TXN_4779192', 'TXN_3856510', 'TXN_6325639', 'TXN_7963892', 'TXN_9395223', 'TXN_3669866', 'TXN_8971366', 'TXN_2185727', 'TXN_3109161', 'TXN_1091115', 'TXN_8538125', 'TXN_5492822', 'TXN_2158361', 'TXN_8167530', 'TXN_5074212', 'TXN_4467046', 'TXN_9517548', 'TXN_7037557', 'TXN_7705153', 'TXN_9482559', 'TXN_9505924', 'TXN_4574757', 'TXN_7328604', 'TXN_8127681', 'TXN_3218971', 'TXN_2334962', 'TXN_8538315', 'TXN_9658354', 'TXN_5328814', 'TXN_5303413', 'TXN_9965686', 'TXN_2227825', 'TXN_3561149', 'TXN_2693278', 'TXN_7466297', 'TXN_6177334', 'TXN_6312039', 'TXN_7961171', 'TXN_6403951', 'TXN_1534223', 'TXN_5350286', 'TXN_1039367', 'TXN_8477415', 'TXN_3422774', 'TXN_1547704', 'TXN_9845746', 'TXN_1640649', 'TXN_9175684', 'TXN_9090875', 'TXN_7951885', 'TXN_3305132', 'TXN_6018020', 'TXN_4129569', 'TXN_8722491', 'TXN_7625537', 'TXN_2574545', 'TXN_9321776', 'TXN_6117421', 'TXN_5029453', 'TXN_5285666', 'TXN_7840510', 'TXN_2360229', 'TXN_1522122', 'TXN_9616828', 'TXN_2978326', 'TXN_7418562', 'TXN_4064310', 'TXN_5640232', 'TXN_3660227', 'TXN_6135727', 'TXN_2838588', 'TXN_4469550', 'TXN_5433982', 'TXN_2311188', 'TXN_7331903', 'TXN_3212505', 'TXN_7662502', 'TXN_9285925', 'TXN_1465584', 'TXN_3486548', 'TXN_3604017', 'TXN_6064232', 'TXN_9386165', 'TXN_2507188', 'TXN_6276679', 'TXN_4256200', 'TXN_6527482', 'TXN_2962728', 'TXN_8759461', 'TXN_4837447', 'TXN_2002049', 'TXN_2194305', 'TXN_4186842', 'TXN_6444911', 'TXN_1933628', 'TXN_3670103', 'TXN_2349072', 'TXN_4119210', 'TXN_5790078', 'TXN_2205071', 'TXN_2178059', 'TXN_7419274', 'TXN_1316036', 'TXN_4891221', 'TXN_6344806', 'TXN_9707159', 'TXN_6559598', 'TXN_4046095', 'TXN_5560669', 'TXN_5975573', 'TXN_6780463', 'TXN_9215670', 'TXN_8063016', 'TXN_7246698', 'TXN_7006741', 'TXN_2644403', 'TXN_4477016', 'TXN_1950343', 'TXN_3373997', 'TXN_9658905', 'TXN_5517185', 'TXN_6846085', 'TXN_9208629', 'TXN_3312574', 'TXN_9554670', 'TXN_2377667', 'TXN_8167311', 'TXN_1645743', 'TXN_5257531', 'TXN_6011341', 'TXN_4108869', 'TXN_9475783', 'TXN_6335423', 'TXN_7035067', 'TXN_8211288', 'TXN_1714348', 'TXN_9983518', 'TXN_9732454', 'TXN_9263030', 'TXN_9549021', 'TXN_9456357', 'TXN_4989644', 'TXN_3843943', 'TXN_2188342', 'TXN_9129298', 'TXN_8980495', 'TXN_8831659', 'TXN_2947683', 'TXN_5303258', 'TXN_6716151', 'TXN_2282416', 'TXN_5135172', 'TXN_5430200', 'TXN_2201857', 'TXN_7312448', 'TXN_7049861', 'TXN_4528522', 'TXN_6085326', 'TXN_6684056', 'TXN_9455977', 'TXN_7855761', 'TXN_2020445', 'TXN_9710982', 'TXN_8062811', 'TXN_8952145', 'TXN_5528787', 'TXN_8048357', 'TXN_7060691', 'TXN_4129476', 'TXN_3016079', 'TXN_2199647', 'TXN_6676143', 'TXN_4709135', 'TXN_2741424', 'TXN_4271034', 'TXN_8740257', 'TXN_8859144', 'TXN_5757933', 'TXN_2241162', 'TXN_7755216', 'TXN_9178213', 'TXN_8266662', 'TXN_9104710', 'TXN_9001844', 'TXN_4982382', 'TXN_8533584', 'TXN_7482834', 'TXN_7062893', 'TXN_6787259', 'TXN_5757196', 'TXN_2274945', 'TXN_4283693', 'TXN_3949676', 'TXN_6774688', 'TXN_7947711', 'TXN_9812021', 'TXN_8131537', 'TXN_2146829', 'TXN_4238818', 'TXN_6881662', 'TXN_3140950', 'TXN_6067979', 'TXN_3399674', 'TXN_5256055', 'TXN_7697294', 'TXN_9890734', 'TXN_3345675', 'TXN_9563685', 'TXN_6867995', 'TXN_7163533', 'TXN_9908225', 'TXN_7485706', 'TXN_3200434', 'TXN_3738314', 'TXN_8230414', 'TXN_7123353', 'TXN_4311369', 'TXN_1387062', 'TXN_2666773', 'TXN_9858152', 'TXN_4650811', 'TXN_1570632', 'TXN_6929664', 'TXN_8549341', 'TXN_5896141', 'TXN_1048616', 'TXN_9298882', 'TXN_4224401', 'TXN_5223162', 'TXN_2396191', 'TXN_6069730', 'TXN_6515226', 'TXN_4340811', 'TXN_6869767', 'TXN_7057481', 'TXN_1560873', 'TXN_8076449', 'TXN_4442954', 'TXN_8657361', 'TXN_2078317', 'TXN_8819928', 'TXN_3785049', 'TXN_8277583', 'TXN_8269366', 'TXN_2041190', 'TXN_2905218', 'TXN_5923474', 'TXN_2780349', 'TXN_4060332', 'TXN_5929633', 'TXN_5257169', 'TXN_9336674', 'TXN_4798335', 'TXN_7956243', 'TXN_4532475', 'TXN_4276442', 'TXN_3509609', 'TXN_8526084', 'TXN_6223157', 'TXN_6011304', 'TXN_5992635', 'TXN_1828494', 'TXN_4155770', 'TXN_9714665', 'TXN_3705445', 'TXN_1309653', 'TXN_2530326', 'TXN_1082717', 'TXN_1021087', 'TXN_4003040', 'TXN_6494850', 'TXN_1408709', 'TXN_7581536', 'TXN_9486849', 'TXN_9665245', 'TXN_3709853', 'TXN_9087746', 'TXN_3827851', 'TXN_1473693', 'TXN_5764902', 'TXN_9323014', 'TXN_8128146', 'TXN_1392546', 'TXN_6052534', 'TXN_9041473', 'TXN_8090470', 'TXN_9461980', 'TXN_5909816', 'TXN_9878649', 'TXN_9590819', 'TXN_5914284', 'TXN_9370771', 'TXN_8510450', 'TXN_8566499', 'TXN_5499117', 'TXN_8208915', 'TXN_9781679', 'TXN_1584851', 'TXN_2898571', 'TXN_5615754', 'TXN_8659330', 'TXN_9502424', 'TXN_9223045', 'TXN_2873573', 'TXN_1803599', 'TXN_8593064', 'TXN_1103883', 'TXN_2640771', 'TXN_3543133', 'TXN_2331025', 'TXN_8211133', 'TXN_9067752', 'TXN_2119325', 'TXN_8830809', 'TXN_4913329', 'TXN_3602272', 'TXN_4971093', 'TXN_2528186', 'TXN_4831311', 'TXN_8664295', 'TXN_5005999', 'TXN_7467621', 'TXN_4416436', 'TXN_2317867', 'TXN_8567172', 'TXN_8127929', 'TXN_4816652', 'TXN_9042309', 'TXN_9430262', 'TXN_3693990', 'TXN_7416669', 'TXN_6923480', 'TXN_7854162', 'TXN_6424195', 'TXN_1801691', 'TXN_2112848', 'TXN_2673294', 'TXN_1102876', 'TXN_1364211', 'TXN_9662632', 'TXN_3317406', 'TXN_9689507', 'TXN_4363360', 'TXN_1629092', 'TXN_7223387', 'TXN_4276702', 'TXN_3912440', 'TXN_7029719', 'TXN_3132921', 'TXN_5966744', 'TXN_8540794', 'TXN_8172897', 'TXN_7558010', 'TXN_9349736', 'TXN_5680687', 'TXN_3456748', 'TXN_9928552', 'TXN_8875195', 'TXN_8180793', 'TXN_4141765', 'TXN_8652632', 'TXN_1547555', 'TXN_3312690', 'TXN_7064604', 'TXN_5858713', 'TXN_8607376', 'TXN_2559020', 'TXN_8935781', 'TXN_4866254', 'TXN_3839691', 'TXN_6905143', 'TXN_6218380', 'TXN_8235042', 'TXN_3902815', 'TXN_8942747', 'TXN_4020074', 'TXN_7657615', 'TXN_8799945', 'TXN_1905459', 'TXN_4472969', 'TXN_3454881', 'TXN_1837617', 'TXN_2379467', 'TXN_3307518', 'TXN_5301926', 'TXN_8155535', 'TXN_9292025', 'TXN_4466681', 'TXN_2799785', 'TXN_5139074', 'TXN_9618881', 'TXN_3440487', 'TXN_8687088', 'TXN_7493800', 'TXN_9685716', 'TXN_9188774', 'TXN_7562313', 'TXN_6271598', 'TXN_5424614', 'TXN_7486118', 'TXN_6540200', 'TXN_6246494', 'TXN_7177709', 'TXN_3770267', 'TXN_5518232', 'TXN_9743274', 'TXN_2904046', 'TXN_1665056', 'TXN_4361614', 'TXN_4549977', 'TXN_3251591', 'TXN_2111973', 'TXN_2910247', 'TXN_8014645', 'TXN_5065748', 'TXN_6901094', 'TXN_2747156', 'TXN_1444932', 'TXN_2715086', 'TXN_2107161', 'TXN_6007721', 'TXN_6990331', 'TXN_8413251', 'TXN_9411395', 'TXN_6833564', 'TXN_9349471', 'TXN_6784478', 'TXN_9583176', 'TXN_4635230', 'TXN_2009782', 'TXN_8246369', 'TXN_1935119', 'TXN_3809941', 'TXN_4719069', 'TXN_9968926', 'TXN_8392086', 'TXN_5504920', 'TXN_6773319', 'TXN_3463568', 'TXN_1698600', 'TXN_1736294', 'TXN_8285410', 'TXN_5602640', 'TXN_1887083', 'TXN_4203885', 'TXN_4582966', 'TXN_5712248', 'TXN_9495855', 'TXN_4205860', 'TXN_7645464', 'TXN_1192970', 'TXN_6576987', 'TXN_4650834', 'TXN_9259900', 'TXN_5349355', 'TXN_7612056', 'TXN_3866162', 'TXN_5575420', 'TXN_4962147', 'TXN_4886990', 'TXN_4463677', 'TXN_7445257', 'TXN_9464961', 'TXN_3516296', 'TXN_9016451', 'TXN_4991594', 'TXN_6433362', 'TXN_8546777', 'TXN_9478033', 'TXN_2390146', 'TXN_4331281', 'TXN_6687699', 'TXN_5654663', 'TXN_1664563', 'TXN_4030181', 'TXN_3620213', 'TXN_6826342', 'TXN_2312908', 'TXN_3801485', 'TXN_7988991', 'TXN_3171150', 'TXN_7485379', 'TXN_4179797', 'TXN_8145813', 'TXN_9244886', 'TXN_5230719', 'TXN_5297746', 'TXN_3628566', 'TXN_1687822', 'TXN_5205595', 'TXN_7511351', 'TXN_3930313', 'TXN_4366417', 'TXN_9014681', 'TXN_6697374', 'TXN_7799711', 'TXN_9018195', 'TXN_9152120', 'TXN_2628157', 'TXN_1149624', 'TXN_3462602', 'TXN_4131020', 'TXN_9579691', 'TXN_9662827', 'TXN_2002730', 'TXN_3635628', 'TXN_4083004', 'TXN_3376952', 'TXN_2407379', 'TXN_2940613', 'TXN_7857126', 'TXN_8107005', 'TXN_4793771', 'TXN_8640673', 'TXN_3493771', 'TXN_9493077', 'TXN_4975029', 'TXN_6043396', 'TXN_5176767', 'TXN_1020478', 'TXN_8276063', 'TXN_2391245', 'TXN_6232398', 'TXN_1983705', 'TXN_6732833', 'TXN_8860052', 'TXN_1529961', 'TXN_8946323', 'TXN_6332405', 'TXN_1963345', 'TXN_8675558', 'TXN_3732426', 'TXN_2347248', 'TXN_9281939', 'TXN_9660362', 'TXN_9454387', 'TXN_3554772', 'TXN_1272118', 'TXN_9719921', 'TXN_3303518', 'TXN_4228838', 'TXN_6030518', 'TXN_6007437', 'TXN_6658070', 'TXN_3987718', 'TXN_7251108', 'TXN_4430772', 'TXN_4428486', 'TXN_2807324', 'TXN_4898346', 'TXN_1141405', 'TXN_6128086', 'TXN_7670296', 'TXN_1524602', 'TXN_1770648', 'TXN_4688280', 'TXN_9691364', 'TXN_6236737', 'TXN_9425096', 'TXN_7063005', 'TXN_8156455', 'TXN_2417271', 'TXN_5728193', 'TXN_6109953', 'TXN_2771512', 'TXN_7992512', 'TXN_2894945', 'TXN_2569119', 'TXN_4060215', 'TXN_9190025', 'TXN_1268811', 'TXN_7667139', 'TXN_6541329', 'TXN_8384428', 'TXN_7084298', 'TXN_3042552', 'TXN_6398450', 'TXN_8595386', 'TXN_8712307', 'TXN_7938279', 'TXN_9969836', 'TXN_3281605', 'TXN_5132482', 'TXN_2602732', 'TXN_5289658', 'TXN_1605677', 'TXN_8879936', 'TXN_2547084', 'TXN_1740742', 'TXN_5414186', 'TXN_4564220', 'TXN_2193333', 'TXN_4811225', 'TXN_6989000', 'TXN_1396019', 'TXN_1938413', 'TXN_3690903', 'TXN_3272613', 'TXN_5105810', 'TXN_9191048', 'TXN_5056808', 'TXN_2090061', 'TXN_4417326', 'TXN_1755817', 'TXN_6415784', 'TXN_6118079', 'TXN_4755860', 'TXN_9407636', 'TXN_7308629', 'TXN_9339037', 'TXN_2152054', 'TXN_3981406', 'TXN_7196144', 'TXN_9239309', 'TXN_1236759', 'TXN_3441457', 'TXN_6070787', 'TXN_7465693', 'TXN_2734718', 'TXN_6696619', 'TXN_2678484', 'TXN_3521791', 'TXN_5724548', 'TXN_1336727', 'TXN_3695238', 'TXN_2035283', 'TXN_8065852', 'TXN_6013024', 'TXN_5103036', 'TXN_8099424', 'TXN_1103495', 'TXN_6714749', 'TXN_8128656', 'TXN_9240476', 'TXN_4958354', 'TXN_4590013', 'TXN_9997263', 'TXN_5639485', 'TXN_4419474', 'TXN_9121241', 'TXN_6618160', 'TXN_9649503', 'TXN_9660030', 'TXN_3863940', 'TXN_3719842', 'TXN_1349640', 'TXN_8639973', 'TXN_6125646', 'TXN_8241649', 'TXN_7328209', 'TXN_1770073', 'TXN_3446643', 'TXN_5564198', 'TXN_3439155', 'TXN_3751420', 'TXN_6806968', 'TXN_9815454', 'TXN_2208949', 'TXN_1492585', 'TXN_7102166', 'TXN_4125871', 'TXN_2405666', 'TXN_2142941', 'TXN_6494145', 'TXN_2457961', 'TXN_8211198', 'TXN_7311815', 'TXN_8966922', 'TXN_2662720', 'TXN_3045673', 'TXN_5713298', 'TXN_7413282', 'TXN_1342487', 'TXN_1822234', 'TXN_5238755', 'TXN_1917336', 'TXN_4749986', 'TXN_7400015', 'TXN_4548565', 'TXN_7221831', 'TXN_4252608', 'TXN_4801947', 'TXN_8260461', 'TXN_2441029', 'TXN_9334593', 'TXN_6335297', 'TXN_4766317', 'TXN_7383137', 'TXN_9923952', 'TXN_6873127', 'TXN_8821579', 'TXN_7153455', 'TXN_5504130', 'TXN_8992377', 'TXN_3009994', 'TXN_1556480', 'TXN_6476719', 'TXN_2010507', 'TXN_8972184', 'TXN_6098702', 'TXN_6695451', 'TXN_5742202', 'TXN_2423167', 'TXN_3608237', 'TXN_9731999', 'TXN_2616353', 'TXN_8621278', 'TXN_2428781', 'TXN_2547156', 'TXN_8282744', 'TXN_9072628', 'TXN_5947264', 'TXN_4323120', 'TXN_8437195', 'TXN_3812053', 'TXN_5421917', 'TXN_7223850', 'TXN_9752207', 'TXN_2687149', 'TXN_3043371', 'TXN_2496907', 'TXN_1827937', 'TXN_8745942', 'TXN_4568379', 'TXN_4696969', 'TXN_3910293', 'TXN_8345383', 'TXN_4925291', 'TXN_1390754', 'TXN_2716940', 'TXN_5878649', 'TXN_2332364', 'TXN_4483585', 'TXN_3655950', 'TXN_9354349', 'TXN_9043894', 'TXN_3846628', 'TXN_5536056', 'TXN_2667131', 'TXN_2933439', 'TXN_1856538', 'TXN_8837015', 'TXN_9320353', 'TXN_2755642', 'TXN_3880494', 'TXN_5179245', 'TXN_7229918', 'TXN_2907979', 'TXN_2201235', 'TXN_5171248', 'TXN_4809626', 'TXN_9705971', 'TXN_7262554', 'TXN_1005377', 'TXN_7041367', 'TXN_2259102', 'TXN_8899417', 'TXN_5812552', 'TXN_5931551', 'TXN_9020641', 'TXN_2496249', 'TXN_4987376', 'TXN_2477650', 'TXN_3274591', 'TXN_5573436', 'TXN_8518812', 'TXN_6021363', 'TXN_3678804', 'TXN_9376428', 'TXN_1228474', 'TXN_9176533', 'TXN_4787754', 'TXN_1307428', 'TXN_8552898', 'TXN_8487985', 'TXN_6294315', 'TXN_5010968', 'TXN_3241510', 'TXN_3048882', 'TXN_2007652', 'TXN_2019127', 'TXN_6283718', 'TXN_4757873', 'TXN_9417438', 'TXN_4002142', 'TXN_2716377', 'TXN_6324687', 'TXN_4854751', 'TXN_3584252', 'TXN_7362526', 'TXN_2735598', 'TXN_9196694', 'TXN_3099819', 'TXN_4995281', 'TXN_4437520', 'TXN_6053755', 'TXN_5832513', 'TXN_3648160', 'TXN_2888655', 'TXN_1429325', 'TXN_3931393', 'TXN_9246986', 'TXN_4822216', 'TXN_6691792', 'TXN_5217434', 'TXN_4108567', 'TXN_5922981', 'TXN_3286168', 'TXN_1978239', 'TXN_1633607', 'TXN_2134763', 'TXN_4582054', 'TXN_2729959', 'TXN_8020606', 'TXN_1532390', 'TXN_4943552', 'TXN_9375445', 'TXN_6361593', 'TXN_3222612', 'TXN_8970135', 'TXN_3206842', 'TXN_2566211', 'TXN_3549667', 'TXN_8384699', 'TXN_6105807', 'TXN_1020983', 'TXN_5750248', 'TXN_7653452', 'TXN_3944582', 'TXN_2925996', 'TXN_6925284', 'TXN_7255755', 'TXN_4797429', 'TXN_6451595', 'TXN_9571019', 'TXN_6692318', 'TXN_5845583', 'TXN_2921765', 'TXN_3514890', 'TXN_7647190', 'TXN_5124999', 'TXN_9582506', 'TXN_2196926', 'TXN_6438980', 'TXN_7132021', 'TXN_7784608', 'TXN_3936339', 'TXN_7663739', 'TXN_7995960', 'TXN_8386253', 'TXN_9281392', 'TXN_7971761', 'TXN_2610195', 'TXN_7276452', 'TXN_7416196', 'TXN_1732639', 'TXN_9072817', 'TXN_2147448', 'TXN_5409951', 'TXN_9389300', 'TXN_1992699', 'TXN_4389662', 'TXN_4078284', 'TXN_1796259', 'TXN_6086123', 'TXN_2764625', 'TXN_1643029', 'TXN_9329112', 'TXN_7878231', 'TXN_3060286', 'TXN_1982031', 'TXN_5215704', 'TXN_2424839', 'TXN_1434598', 'TXN_1602435', 'TXN_6498718', 'TXN_2470530', 'TXN_5226399', 'TXN_1292430', 'TXN_5316852', 'TXN_7907786', 'TXN_9579637', 'TXN_9696074', 'TXN_8830264', 'TXN_8984085', 'TXN_5038122', 'TXN_9857832', 'TXN_4949509', 'TXN_9826170', 'TXN_6624397', 'TXN_4062634', 'TXN_9567915', 'TXN_1625754', 'TXN_2352685', 'TXN_1708928', 'TXN_9775984', 'TXN_4375708', 'TXN_7514047', 'TXN_4378637', 'TXN_3783903', 'TXN_6897172', 'TXN_7815076', 'TXN_9284622', 'TXN_2073001', 'TXN_9871036', 'TXN_9159655', 'TXN_1927324', 'TXN_7412012', 'TXN_8258798', 'TXN_3270584', 'TXN_5108867', 'TXN_8732935', 'TXN_4247105', 'TXN_9231480', 'TXN_7645250', 'TXN_7166936', 'TXN_6273431', 'TXN_4501915', 'TXN_2404800', 'TXN_8978924', 'TXN_2991733', 'TXN_6874195', 'TXN_3437948', 'TXN_8153957', 'TXN_2019258', 'TXN_3745153', 'TXN_3359911', 'TXN_7664606', 'TXN_9728062', 'TXN_2593909', 'TXN_4331770', 'TXN_7631505', 'TXN_7371782', 'TXN_4431264', 'TXN_5056351', 'TXN_8829698', 'TXN_1293057', 'TXN_4356114', 'TXN_8886791', 'TXN_6972491', 'TXN_3888864', 'TXN_2334047', 'TXN_3886177', 'TXN_2638644', 'TXN_2244418', 'TXN_7387416', 'TXN_8731991', 'TXN_3050797', 'TXN_8325722', 'TXN_4205407', 'TXN_9288999', 'TXN_5172383', 'TXN_3234146', 'TXN_4353750', 'TXN_8833319', 'TXN_9830755', 'TXN_5315818', 'TXN_9891576', 'TXN_7251037', 'TXN_1444479', 'TXN_2032049', 'TXN_1046659', 'TXN_6837879', 'TXN_9389963', 'TXN_9738339', 'TXN_3529354', 'TXN_3357336', 'TXN_2726749', 'TXN_2097023', 'TXN_5209346', 'TXN_7975387', 'TXN_5107025', 'TXN_5734186', 'TXN_7032922', 'TXN_5568416', 'TXN_3121360', 'TXN_7797507', 'TXN_2342308', 'TXN_7312277', 'TXN_3744962', 'TXN_8652021', 'TXN_8743142', 'TXN_7554731', 'TXN_2104550', 'TXN_8809659', 'TXN_5000665', 'TXN_8991609', 'TXN_2644962', 'TXN_8126049', 'TXN_1569729', 'TXN_8082317', 'TXN_1929109', 'TXN_9801552', 'TXN_9693344', 'TXN_8347965', 'TXN_2861912', 'TXN_6467414', 'TXN_6430534', 'TXN_6571385', 'TXN_6752053', 'TXN_8947660', 'TXN_9824238', 'TXN_6005707', 'TXN_4023091', 'TXN_6904952', 'TXN_7712544', 'TXN_4343133', 'TXN_4385632', 'TXN_8970187', 'TXN_1419790', 'TXN_7328705', 'TXN_2935761', 'TXN_7153321', 'TXN_8449081', 'TXN_8833173', 'TXN_6549359', 'TXN_2161255', 'TXN_7368518', 'TXN_3287282', 'TXN_9719954', 'TXN_9660737', 'TXN_5784400', 'TXN_6411390', 'TXN_7908929', 'TXN_9772498', 'TXN_9897583', 'TXN_4440412', 'TXN_2997717', 'TXN_1242840', 'TXN_3440463', 'TXN_5437961', 'TXN_8434259', 'TXN_2867795', 'TXN_4070040', 'TXN_6526078', 'TXN_5282804', 'TXN_7914312', 'TXN_6774559', 'TXN_5530180', 'TXN_2102950', 'TXN_2764819', 'TXN_4916085', 'TXN_4807899', 'TXN_4352950', 'TXN_1701798', 'TXN_4235472', 'TXN_8500316', 'TXN_2265329', 'TXN_6068074', 'TXN_6853830', 'TXN_4030763', 'TXN_2928676', 'TXN_3863625', 'TXN_2749862', 'TXN_1454024', 'TXN_3799280', 'TXN_2393287', 'TXN_4059695', 'TXN_6469563', 'TXN_8019306', 'TXN_5585601', 'TXN_2617632', 'TXN_4727260', 'TXN_2210019', 'TXN_7668576', 'TXN_3713880', 'TXN_3342106', 'TXN_3488082', 'TXN_5279293', 'TXN_3147874', 'TXN_7293600', 'TXN_2489067', 'TXN_6189486', 'TXN_8932087', 'TXN_4231121', 'TXN_3288233', 'TXN_8045032', 'TXN_6987232', 'TXN_3755657', 'TXN_9395554', 'TXN_3877643', 'TXN_3136657', 'TXN_5303092', 'TXN_8237192', 'TXN_9012517', 'TXN_7910572', 'TXN_5747509', 'TXN_4553403', 'TXN_3508619', 'TXN_1037464', 'TXN_3543930', 'TXN_9708632', 'TXN_8228500', 'TXN_3632558', 'TXN_2630698', 'TXN_6587151', 'TXN_1967032', 'TXN_2832660', 'TXN_6123007', 'TXN_9220900', 'TXN_2021680', 'TXN_5572520', 'TXN_1603186', 'TXN_1983422', 'TXN_8704802', 'TXN_6915068', 'TXN_7377398', 'TXN_8353202', 'TXN_8281347', 'TXN_6568307', 'TXN_3420316', 'TXN_1049697', 'TXN_3865641', 'TXN_3003979', 'TXN_4870483', 'TXN_7497122', 'TXN_5110688', 'TXN_2023651', 'TXN_4777601', 'TXN_5415223', 'TXN_1970180', 'TXN_1318238', 'TXN_3645818', 'TXN_8245502', 'TXN_3641356', 'TXN_6786730', 'TXN_4011509', 'TXN_9802838', 'TXN_7697496', 'TXN_2150872', 'TXN_5398134', 'TXN_7325508', 'TXN_3820150', 'TXN_1990997', 'TXN_7595907', 'TXN_2736267', 'TXN_5548756', 'TXN_7174856', 'TXN_1254663', 'TXN_9432758', 'TXN_6266187', 'TXN_1256513', 'TXN_2458782', 'TXN_1998143', 'TXN_3838923', 'TXN_1547245', 'TXN_2208733', 'TXN_5689687', 'TXN_5445994', 'TXN_1266598', 'TXN_2470745', 'TXN_1353248', 'TXN_9599703', 'TXN_8783484', 'TXN_9901097', 'TXN_8621589', 'TXN_5556985', 'TXN_8469087', 'TXN_1936447', 'TXN_9669616', 'TXN_6563365', 'TXN_2660576', 'TXN_7349681', 'TXN_7738455', 'TXN_5425668', 'TXN_8265257', 'TXN_9282265', 'TXN_3175177', 'TXN_4007522', 'TXN_1691313', 'TXN_1621227', 'TXN_6845073', 'TXN_9363711', 'TXN_5468153', 'TXN_1932224', 'TXN_3829375', 'TXN_4694285', 'TXN_5097542', 'TXN_2177436', 'TXN_4224284', 'TXN_8787149', 'TXN_7341975', 'TXN_4430006', 'TXN_4734366', 'TXN_3182191', 'TXN_9121687', 'TXN_3162244', 'TXN_8407849', 'TXN_9306482', 'TXN_9205425', 'TXN_6110108', 'TXN_1525583', 'TXN_2101934', 'TXN_7539585', 'TXN_4350828', 'TXN_7155957', 'TXN_7310903', 'TXN_2200163', 'TXN_4751689', 'TXN_9162014', 'TXN_6090715', 'TXN_4336844', 'TXN_6849062', 'TXN_5875201', 'TXN_8592808', 'TXN_3028667', 'TXN_4130343', 'TXN_5402821', 'TXN_4260738', 'TXN_2180562', 'TXN_3135264', 'TXN_2585392', 'TXN_4840522', 'TXN_9889005', 'TXN_4742049', 'TXN_2245465', 'TXN_4218637', 'TXN_1084010', 'TXN_2203547', 'TXN_1556609', 'TXN_2950265', 'TXN_9567719', 'TXN_4970127', 'TXN_6156180', 'TXN_6868763', 'TXN_6945985', 'TXN_1476775', 'TXN_8587529', 'TXN_3399636', 'TXN_2085081', 'TXN_7068823', 'TXN_3781240', 'TXN_2614633', 'TXN_5157516', 'TXN_5761414', 'TXN_6769554', 'TXN_6123633', 'TXN_3522597', 'TXN_8984991', 'TXN_5993677', 'TXN_5905580', 'TXN_4623468', 'TXN_2546684', 'TXN_4563544', 'TXN_9210096', 'TXN_2381411', 'TXN_6496176', 'TXN_6113724', 'TXN_4075053', 'TXN_1357780', 'TXN_1245485', 'TXN_9061106', 'TXN_8867827', 'TXN_3676305', 'TXN_7071783', 'TXN_7530300', 'TXN_4117627', 'TXN_8961034', 'TXN_8061866', 'TXN_9728789', 'TXN_7508715', 'TXN_5946554', 'TXN_5332773', 'TXN_4981027', 'TXN_3055407', 'TXN_9869593', 'TXN_6926855', 'TXN_8488163', 'TXN_7978452', 'TXN_1037486', 'TXN_8535886', 'TXN_9178545', 'TXN_2168277', 'TXN_2515796', 'TXN_8488298', 'TXN_9745609', 'TXN_1866707', 'TXN_4808812', 'TXN_2890321', 'TXN_2517078', 'TXN_6057914', 'TXN_4096757', 'TXN_6428745', 'TXN_5100941', 'TXN_1185069', 'TXN_7468084', 'TXN_8627017', 'TXN_2421387', 'TXN_1099119', 'TXN_6419344', 'TXN_4780352', 'TXN_1713639', 'TXN_6568440', 'TXN_4597600', 'TXN_5079166', 'TXN_5492760', 'TXN_4537288', 'TXN_7221126', 'TXN_4873173', 'TXN_7754136', 'TXN_1993675', 'TXN_8696392', 'TXN_4764398', 'TXN_9444736', 'TXN_2369294', 'TXN_2393219', 'TXN_5260646', 'TXN_4768744', 'TXN_4375698', 'TXN_6411385', 'TXN_7010812', 'TXN_2069068', 'TXN_8749404', 'TXN_9737509', 'TXN_4069354', 'TXN_9796122', 'TXN_2940895', 'TXN_6595038', 'TXN_4432252', 'TXN_2201248', 'TXN_3669068', 'TXN_1931190', 'TXN_7932830', 'TXN_9655661', 'TXN_3933290', 'TXN_4038488', 'TXN_6455517', 'TXN_7231153', 'TXN_5452978', 'TXN_9880967', 'TXN_5974796', 'TXN_8661276', 'TXN_6279736', 'TXN_3758861', 'TXN_8275137', 'TXN_1180623', 'TXN_4544172', 'TXN_6904247', 'TXN_8697749', 'TXN_7764304', 'TXN_3758250', 'TXN_6763296', 'TXN_8732269', 'TXN_3374343', 'TXN_2273499', 'TXN_9299563', 'TXN_9452972', 'TXN_7589318', 'TXN_3081950', 'TXN_9728414', 'TXN_7687146', 'TXN_4887189', 'TXN_8633758', 'TXN_5992166', 'TXN_6532832', 'TXN_5591155', 'TXN_2944325', 'TXN_9129403', 'TXN_9789876', 'TXN_2894525', 'TXN_3779320', 'TXN_6217375', 'TXN_6706566', 'TXN_8506937', 'TXN_3771902', 'TXN_9289408', 'TXN_8196921', 'TXN_4482692', 'TXN_6027798', 'TXN_8628615', 'TXN_1888294', 'TXN_8014289', 'TXN_3710523', 'TXN_8410979', 'TXN_8932070', 'TXN_9061471', 'TXN_4376376', 'TXN_4682737', 'TXN_1950063', 'TXN_7965585', 'TXN_6241505', 'TXN_2132747', 'TXN_6269306', 'TXN_3410147', 'TXN_6895165', 'TXN_5270067', 'TXN_3894165', 'TXN_7677646', 'TXN_5808749', 'TXN_9265423', 'TXN_1311237', 'TXN_2199236', 'TXN_1299936', 'TXN_4872708', 'TXN_1292476', 'TXN_7371295', 'TXN_5863650', 'TXN_4197575', 'TXN_8467229', 'TXN_1837817', 'TXN_2648236', 'TXN_6744096', 'TXN_8571432', 'TXN_9555291', 'TXN_4550558', 'TXN_1185003', 'TXN_6405088', 'TXN_1786141', 'TXN_6657245', 'TXN_4551353', 'TXN_9934619', 'TXN_1850339', 'TXN_9989458', 'TXN_7248722', 'TXN_3947116', 'TXN_2168513', 'TXN_9326761', 'TXN_8359693', 'TXN_2851446', 'TXN_4175635', 'TXN_8980468', 'TXN_4932916', 'TXN_9230208', 'TXN_1122699', 'TXN_8942133', 'TXN_8404563', 'TXN_8725610', 'TXN_7791428', 'TXN_4988100', 'TXN_4821343', 'TXN_5188843', 'TXN_3485502', 'TXN_8512204', 'TXN_5433077', 'TXN_4192665', 'TXN_8410376', 'TXN_7865037', 'TXN_9157625', 'TXN_8701063', 'TXN_6397921', 'TXN_3046572', 'TXN_1899827', 'TXN_2551074', 'TXN_9119194', 'TXN_6008133', 'TXN_6963106', 'TXN_5561958', 'TXN_2244902', 'TXN_9432268', 'TXN_6567287', 'TXN_6281616', 'TXN_4267136', 'TXN_1903825', 'TXN_3793672', 'TXN_2444134', 'TXN_7421687', 'TXN_7845656', 'TXN_7954416', 'TXN_5632556', 'TXN_1688499', 'TXN_3659483', 'TXN_3872616', 'TXN_8003664', 'TXN_7215311', 'TXN_1844925', 'TXN_5666241', 'TXN_8843061', 'TXN_4968258', 'TXN_7568175', 'TXN_4623303', 'TXN_9653700', 'TXN_3053494', 'TXN_6544160', 'TXN_1108326', 'TXN_6988675', 'TXN_7187140', 'TXN_2025634', 'TXN_2376870', 'TXN_8343149', 'TXN_6739664', 'TXN_3743107', 'TXN_5351447', 'TXN_5895330', 'TXN_5542500', 'TXN_5133476', 'TXN_7495804', 'TXN_1888706', 'TXN_9929033', 'TXN_1485725', 'TXN_6025054', 'TXN_4276482', 'TXN_4801327', 'TXN_4204491', 'TXN_8343414', 'TXN_3397034', 'TXN_3937788', 'TXN_7079566', 'TXN_4008899', 'TXN_1512159', 'TXN_7471281', 'TXN_8249996', 'TXN_1277989', 'TXN_1121833', 'TXN_1453579', 'TXN_2785654', 'TXN_6882503', 'TXN_8183734', 'TXN_6806563', 'TXN_6265785', 'TXN_1371708', 'TXN_2357107', 'TXN_8365530', 'TXN_8505782', 'TXN_8973007', 'TXN_6994245', 'TXN_6540267', 'TXN_4745933', 'TXN_9364172', 'TXN_4692681', 'TXN_6372515', 'TXN_3219378', 'TXN_9644830', 'TXN_2486026', 'TXN_3676019', 'TXN_6550707', 'TXN_8154928', 'TXN_5094936', 'TXN_6648081', 'TXN_4566950', 'TXN_7895436', 'TXN_6016707', 'TXN_5206046', 'TXN_7710078', 'TXN_4407308', 'TXN_5896728', 'TXN_8210816', 'TXN_6822426', 'TXN_1283149', 'TXN_4413197', 'TXN_4775220', 'TXN_3252542', 'TXN_8002309', 'TXN_2575160', 'TXN_8103630', 'TXN_5108183', 'TXN_5679295', 'TXN_4982165', 'TXN_1983842', 'TXN_6761402', 'TXN_6996548', 'TXN_2054549', 'TXN_5753111', 'TXN_3377626', 'TXN_4731715', 'TXN_4049270', 'TXN_9664173', 'TXN_1465364', 'TXN_2971555', 'TXN_7821478', 'TXN_4565969', 'TXN_3600632', 'TXN_1054912', 'TXN_5283053', 'TXN_4633505', 'TXN_4141941', 'TXN_2716560', 'TXN_9656325', 'TXN_8701045', 'TXN_6467796', 'TXN_1041891', 'TXN_6762236', 'TXN_1581562', 'TXN_3811655', 'TXN_1012349', 'TXN_8878500', 'TXN_1141920', 'TXN_9194266', 'TXN_7708201', 'TXN_2495471', 'TXN_8813052', 'TXN_1059293', 'TXN_1691512', 'TXN_9190061', 'TXN_6836109', 'TXN_2386202', 'TXN_1486119', 'TXN_6496379', 'TXN_5618631', 'TXN_3041142', 'TXN_8644119', 'TXN_7021592', 'TXN_5129701', 'TXN_9100081', 'TXN_6779377', 'TXN_3007866', 'TXN_1807140', 'TXN_5961027', 'TXN_4543742', 'TXN_9431971', 'TXN_8188818', 'TXN_3541304', 'TXN_6888998', 'TXN_7353699', 'TXN_3368231', 'TXN_4967446', 'TXN_4298189', 'TXN_8022892', 'TXN_7195393', 'TXN_2038871', 'TXN_4265942', 'TXN_5963316', 'TXN_7768989', 'TXN_3561451', 'TXN_4581359', 'TXN_3426338', 'TXN_8384372', 'TXN_6053617', 'TXN_8423155', 'TXN_2389320', 'TXN_4935533', 'TXN_2848421', 'TXN_5811766', 'TXN_6522299', 'TXN_3660048', 'TXN_7053830', 'TXN_3803063', 'TXN_2786231', 'TXN_3918096', 'TXN_5950951', 'TXN_3774886', 'TXN_5835004', 'TXN_7896586', 'TXN_5436816', 'TXN_3612790', 'TXN_9518691', 'TXN_1950187', 'TXN_8267031', 'TXN_8325221', 'TXN_9815521', 'TXN_7358729', 'TXN_6014389', 'TXN_8077367', 'TXN_8013818', 'TXN_3459152', 'TXN_2638760', 'TXN_7269738', 'TXN_9850842', 'TXN_6488040', 'TXN_5164540', 'TXN_7258784', 'TXN_2446298', 'TXN_4247602', 'TXN_2713279', 'TXN_6596377', 'TXN_1231366', 'TXN_4773210', 'TXN_4262451', 'TXN_2944460', 'TXN_1985223', 'TXN_7353685', 'TXN_8324715', 'TXN_5391160', 'TXN_8159649', 'TXN_3083412', 'TXN_7908153', 'TXN_7719510', 'TXN_7483986', 'TXN_6377838', 'TXN_9443285', 'TXN_6386388', 'TXN_4728936', 'TXN_8388056', 'TXN_6643922', 'TXN_4627457', 'TXN_8795794', 'TXN_2096487', 'TXN_3388908', 'TXN_8039752', 'TXN_2668838', 'TXN_4051488', 'TXN_9968943', 'TXN_7844770', 'TXN_4464373', 'TXN_2494494', 'TXN_1066604', 'TXN_3986876', 'TXN_2887257', 'TXN_5693294', 'TXN_6957157', 'TXN_9676096', 'TXN_8105705', 'TXN_9455679', 'TXN_2501648', 'TXN_8010562', 'TXN_9550508', 'TXN_8635803', 'TXN_7407946', 'TXN_3691228', 'TXN_6755348', 'TXN_7246683', 'TXN_6683798', 'TXN_3749051', 'TXN_6538210', 'TXN_3980743', 'TXN_2352308', 'TXN_4843989', 'TXN_3326626', 'TXN_3749801', 'TXN_2730798', 'TXN_9938977', 'TXN_8789736', 'TXN_5531648', 'TXN_6687528', 'TXN_4944024', 'TXN_7480853', 'TXN_3951329', 'TXN_6793298', 'TXN_3672345', 'TXN_2151258', 'TXN_2126034', 'TXN_8476828', 'TXN_1875220', 'TXN_7083611', 'TXN_3291988', 'TXN_3269434', 'TXN_4519915', 'TXN_3536893', 'TXN_6957001', 'TXN_4789941', 'TXN_3916668', 'TXN_3951552', 'TXN_4978922', 'TXN_1344947', 'TXN_9438576', 'TXN_1666190', 'TXN_6187752', 'TXN_6606514', 'TXN_7364110', 'TXN_1372003', 'TXN_2430215', 'TXN_9275800', 'TXN_3255254', 'TXN_5611262', 'TXN_9077843', 'TXN_2010060', 'TXN_9161256', 'TXN_7153665', 'TXN_2625388', 'TXN_1899114', 'TXN_3717444', 'TXN_5672583', 'TXN_5552114', 'TXN_1926712', 'TXN_3502394', 'TXN_4858666', 'TXN_4968659', 'TXN_5615114', 'TXN_1528454', 'TXN_5114283', 'TXN_7179922', 'TXN_8977555', 'TXN_1891217', 'TXN_2491186', 'TXN_2185661', 'TXN_6332132', 'TXN_5587224', 'TXN_2119809', 'TXN_5330387', 'TXN_7202644', 'TXN_8654093', 'TXN_9639089', 'TXN_2401073', 'TXN_1196223', 'TXN_8263172', 'TXN_9948753', 'TXN_9904214', 'TXN_5127984', 'TXN_3979966', 'TXN_4747863', 'TXN_1180397', 'TXN_6856530', 'TXN_6355908', 'TXN_8492074', 'TXN_1902009', 'TXN_4754723', 'TXN_9349657', 'TXN_8365857', 'TXN_1521861', 'TXN_3801338', 'TXN_5820892', 'TXN_7775760', 'TXN_7470034', 'TXN_5401244', 'TXN_7526174', 'TXN_5297299', 'TXN_6087578', 'TXN_9579984', 'TXN_5506097', 'TXN_4638979', 'TXN_8872715', 'TXN_1038397', 'TXN_2323650', 'TXN_3601382', 'TXN_2421873', 'TXN_4579086', 'TXN_6508674', 'TXN_9945457', 'TXN_3676632', 'TXN_1576076', 'TXN_9277276', 'TXN_4656387', 'TXN_1987311', 'TXN_7565894', 'TXN_5938359', 'TXN_1161606', 'TXN_5679014', 'TXN_4503716', 'TXN_7591982', 'TXN_1766527', 'TXN_7256205', 'TXN_4127927', 'TXN_6137394', 'TXN_2264883', 'TXN_5736595', 'TXN_8332592', 'TXN_4630633', 'TXN_8409154', 'TXN_9989719', 'TXN_9648941', 'TXN_1450705', 'TXN_9080521', 'TXN_8914956', 'TXN_3587916', 'TXN_5939783', 'TXN_9852820', 'TXN_5761207', 'TXN_6862603', 'TXN_7172693', 'TXN_2899889', 'TXN_1192009', 'TXN_9510130', 'TXN_6704173', 'TXN_4867316', 'TXN_9921277', 'TXN_6367976', 'TXN_9705027', 'TXN_2057961', 'TXN_2958213', 'TXN_5530273', 'TXN_2086557', 'TXN_9825905', 'TXN_6087604', 'TXN_8470187', 'TXN_1707537', 'TXN_7010218', 'TXN_6803555', 'TXN_2119373', 'TXN_6778796', 'TXN_5935353', 'TXN_4383311', 'TXN_4346813', 'TXN_9811007', 'TXN_1423173', 'TXN_9531812', 'TXN_2062604', 'TXN_7631216', 'TXN_9930357', 'TXN_1499346', 'TXN_8672939', 'TXN_2764544', 'TXN_2539469', 'TXN_3418612', 'TXN_4554194', 'TXN_4502922', 'TXN_1318943', 'TXN_7519611', 'TXN_8209124', 'TXN_5949199', 'TXN_2154477', 'TXN_7714902', 'TXN_9077087', 'TXN_4966750', 'TXN_7902691', 'TXN_4648214', 'TXN_7322317', 'TXN_5148201', 'TXN_1452931', 'TXN_7039529', 'TXN_1892102', 'TXN_7250085', 'TXN_7571571', 'TXN_2944717', 'TXN_7916758', 'TXN_2708387', 'TXN_7403963', 'TXN_6050844', 'TXN_3116803', 'TXN_7514279', 'TXN_2097987', 'TXN_6121301', 'TXN_5719592', 'TXN_9809696', 'TXN_7340284', 'TXN_3879052', 'TXN_9263959', 'TXN_8269956', 'TXN_4224423', 'TXN_1865302', 'TXN_5088167', 'TXN_7770188', 'TXN_3689579', 'TXN_6901162', 'TXN_7740239', 'TXN_1516961', 'TXN_4251500', 'TXN_3660347', 'TXN_6637315', 'TXN_4508067', 'TXN_2029301', 'TXN_4329558', 'TXN_4062032', 'TXN_2086325', 'TXN_5985513', 'TXN_4367311', 'TXN_1209852', 'TXN_7292662', 'TXN_8918253', 'TXN_4678948', 'TXN_5153408', 'TXN_7435096', 'TXN_5459138', 'TXN_4183705', 'TXN_2332609', 'TXN_3185929', 'TXN_1221801', 'TXN_9436284', 'TXN_4738349', 'TXN_7753584', 'TXN_4040941', 'TXN_3595118', 'TXN_7228322', 'TXN_6866644', 'TXN_6646684', 'TXN_9506595', 'TXN_5033660', 'TXN_6775304', 'TXN_1166001', 'TXN_7771516', 'TXN_7873479', 'TXN_5660244', 'TXN_7694996', 'TXN_2912934', 'TXN_9883214', 'TXN_8341520', 'TXN_4448318', 'TXN_8140360', 'TXN_3398955', 'TXN_5151780', 'TXN_1148060', 'TXN_3098503', 'TXN_2561471', 'TXN_2317041', 'TXN_4097922', 'TXN_1993503', 'TXN_5326795', 'TXN_3550177', 'TXN_1132293', 'TXN_2014042', 'TXN_2231082', 'TXN_8134280', 'TXN_7750963', 'TXN_2651789', 'TXN_6810969', 'TXN_2210925', 'TXN_1749930', 'TXN_2849095', 'TXN_3801966', 'TXN_1005472', 'TXN_5974791', 'TXN_2964982', 'TXN_1629218', 'TXN_2866587', 'TXN_3547569', 'TXN_9673685', 'TXN_1047450', 'TXN_2882871', 'TXN_1449866', 'TXN_6036240', 'TXN_7276478', 'TXN_4523273', 'TXN_8740501', 'TXN_4942960', 'TXN_4648031', 'TXN_7598654', 'TXN_6994752', 'TXN_4962500', 'TXN_2810187', 'TXN_2253852', 'TXN_8155446', 'TXN_3692789', 'TXN_4921791', 'TXN_1065721', 'TXN_5723229', 'TXN_2354774', 'TXN_9853220', 'TXN_9881555', 'TXN_9896694', 'TXN_4511996', 'TXN_7202898', 'TXN_4679083', 'TXN_6960459', 'TXN_9247075', 'TXN_7229419', 'TXN_5745921', 'TXN_4543793', 'TXN_2464236', 'TXN_3645674', 'TXN_5618377', 'TXN_1565027', 'TXN_3830888', 'TXN_7907366', 'TXN_7152012', 'TXN_8260297', 'TXN_6785331', 'TXN_8039560', 'TXN_1696813', 'TXN_3512665', 'TXN_3819405', 'TXN_2104473', 'TXN_3544380', 'TXN_4764236', 'TXN_2575331', 'TXN_1373048', 'TXN_2976052', 'TXN_4459351', 'TXN_3663592', 'TXN_2147706', 'TXN_5341204', 'TXN_2977905', 'TXN_4969431', 'TXN_3313534', 'TXN_8726874', 'TXN_7708810', 'TXN_9018366', 'TXN_4003831', 'TXN_6993624', 'TXN_1728644', 'TXN_6091431', 'TXN_2294778', 'TXN_1057760', 'TXN_3821298', 'TXN_9886794', 'TXN_1984774', 'TXN_1251960', 'TXN_5399303', 'TXN_2084232', 'TXN_4631228', 'TXN_4877436', 'TXN_5369010', 'TXN_4239859', 'TXN_1417400', 'TXN_6133971', 'TXN_5018462', 'TXN_2203873', 'TXN_4146795', 'TXN_1256851', 'TXN_4255580', 'TXN_2702861', 'TXN_9877722', 'TXN_1193551', 'TXN_6172528', 'TXN_5201123', 'TXN_4190431', 'TXN_5252187', 'TXN_5674503', 'TXN_1933315', 'TXN_1526920', 'TXN_7875743', 'TXN_3530118', 'TXN_8732716', 'TXN_7167980', 'TXN_8963106', 'TXN_6960031', 'TXN_3196388', 'TXN_4175191', 'TXN_4422898', 'TXN_1654784', 'TXN_8643596', 'TXN_9697670', 'TXN_6736326', 'TXN_7838802', 'TXN_4788849', 'TXN_7595096', 'TXN_3546303', 'TXN_8800741', 'TXN_1091243', 'TXN_9344399', 'TXN_2375919', 'TXN_7856009', 'TXN_9034955', 'TXN_7595115', 'TXN_9663941', 'TXN_3113428', 'TXN_2504703', 'TXN_4668931', 'TXN_2275799', 'TXN_8340038', 'TXN_6883187', 'TXN_8083377', 'TXN_8494583', 'TXN_3971440', 'TXN_9327861', 'TXN_7426086', 'TXN_9817135', 'TXN_2643389', 'TXN_5466291', 'TXN_4635386', 'TXN_8434651', 'TXN_5538696', 'TXN_2065683', 'TXN_2536021', 'TXN_7636536', 'TXN_1637131', 'TXN_3421079', 'TXN_1861717', 'TXN_9055374', 'TXN_6766664', 'TXN_7661094', 'TXN_4387523', 'TXN_1946773', 'TXN_4374260', 'TXN_9618563', 'TXN_4618211', 'TXN_1640172', 'TXN_2271705', 'TXN_5881237', 'TXN_3497691', 'TXN_3219599', 'TXN_8649416', 'TXN_7004303', 'TXN_4525646', 'TXN_3787234', 'TXN_5817802', 'TXN_5777164', 'TXN_5744797', 'TXN_2226371', 'TXN_3964624', 'TXN_1124900', 'TXN_9252700', 'TXN_6966241', 'TXN_9701622', 'TXN_1852436', 'TXN_4971607', 'TXN_5368297', 'TXN_3027490', 'TXN_7764175', 'TXN_9897215', 'TXN_6700745', 'TXN_5313435', 'TXN_6104335', 'TXN_5064188', 'TXN_8495889', 'TXN_7496394', 'TXN_5127819', 'TXN_8348710', 'TXN_4565080', 'TXN_9520855', 'TXN_9237291', 'TXN_1394131', 'TXN_2532563', 'TXN_8272750', 'TXN_9163155', 'TXN_2009407', 'TXN_3786518', 'TXN_2588566', 'TXN_9810581', 'TXN_1142233', 'TXN_7910956', 'TXN_8316135', 'TXN_4607296', 'TXN_5939950', 'TXN_6419317', 'TXN_6616787', 'TXN_2522828', 'TXN_2053125', 'TXN_4216294', 'TXN_1496962', 'TXN_3455103', 'TXN_3703482', 'TXN_8330837', 'TXN_8912001', 'TXN_2644561', 'TXN_5498693', 'TXN_8352416', 'TXN_6612143', 'TXN_1985278', 'TXN_3641519', 'TXN_8445753', 'TXN_5785639', 'TXN_1697299', 'TXN_8532735', 'TXN_8460225', 'TXN_7388851', 'TXN_4434185', 'TXN_3883425', 'TXN_8482887', 'TXN_9647494', 'TXN_5329431', 'TXN_2522182', 'TXN_1213938', 'TXN_5654331', 'TXN_8990020', 'TXN_5336876', 'TXN_4008135', 'TXN_6044312', 'TXN_4275827', 'TXN_3002889', 'TXN_7785034', 'TXN_9093708', 'TXN_6272908', 'TXN_2451247', 'TXN_4699706', 'TXN_9541057', 'TXN_1701766', 'TXN_6841993', 'TXN_9185022', 'TXN_9548077', 'TXN_7391138', 'TXN_9718216', 'TXN_6446441', 'TXN_3641001', 'TXN_1874601', 'TXN_5471175', 'TXN_3674876', 'TXN_5346027', 'TXN_3864453', 'TXN_2886505', 'TXN_1588687', 'TXN_7260110', 'TXN_2544072', 'TXN_9668584', 'TXN_1937081', 'TXN_9756401', 'TXN_3140020', 'TXN_3522385', 'TXN_3919995', 'TXN_6738516', 'TXN_4971992', 'TXN_4048690', 'TXN_1418829', 'TXN_4243930', 'TXN_4521701', 'TXN_7125395', 'TXN_9921392', 'TXN_2249212', 'TXN_9191700', 'TXN_4082099', 'TXN_4334932', 'TXN_8199561', 'TXN_7712807', 'TXN_5666369', 'TXN_5106316', 'TXN_3125699', 'TXN_8419805', 'TXN_8690361', 'TXN_8068515', 'TXN_2294776', 'TXN_8609510', 'TXN_9293877', 'TXN_4176272', 'TXN_6403012', 'TXN_4380808', 'TXN_3340550', 'TXN_8807429', 'TXN_9924732', 'TXN_9688601', 'TXN_9950775', 'TXN_7108056', 'TXN_5288715', 'TXN_7851403', 'TXN_8955306', 'TXN_5470909', 'TXN_2875074', 'TXN_3616839', 'TXN_3687257', 'TXN_8732682', 'TXN_4569448', 'TXN_8746881', 'TXN_3967103', 'TXN_4856060', 'TXN_4976485', 'TXN_9397870', 'TXN_4822256', 'TXN_6564856', 'TXN_3816131', 'TXN_2556999', 'TXN_7915173', 'TXN_4940237', 'TXN_2862856', 'TXN_1310741', 'TXN_3577683', 'TXN_3787265', 'TXN_4179583', 'TXN_8112788', 'TXN_8644398', 'TXN_3422336', 'TXN_7226052', 'TXN_6146889', 'TXN_3101697', 'TXN_9342366', 'TXN_9406938', 'TXN_3587915', 'TXN_5680657', 'TXN_9288882', 'TXN_4485458', 'TXN_1534763', 'TXN_5012988', 'TXN_9147596', 'TXN_1927404', 'TXN_1661682', 'TXN_4120124', 'TXN_1837764', 'TXN_3454877', 'TXN_8018572', 'TXN_4657291', 'TXN_5751040', 'TXN_8436045', 'TXN_3205813', 'TXN_8765822', 'TXN_6482416', 'TXN_8860270', 'TXN_5954991', 'TXN_1427485', 'TXN_5213761', 'TXN_2375667', 'TXN_7825796', 'TXN_5731238', 'TXN_6219977', 'TXN_6474636', 'TXN_8379919', 'TXN_2391534', 'TXN_4529101', 'TXN_3769567', 'TXN_2509803', 'TXN_3964550', 'TXN_3855408', 'TXN_5426507', 'TXN_4382406', 'TXN_2827259', 'TXN_6148811', 'TXN_8688603', 'TXN_2480808', 'TXN_4696403', 'TXN_7267366', 'TXN_5478129', 'TXN_8877714', 'TXN_2161372', 'TXN_9535721', 'TXN_7968892', 'TXN_4814244', 'TXN_4916611', 'TXN_7229543', 'TXN_4350798', 'TXN_2675174', 'TXN_4663529', 'TXN_7316790', 'TXN_7484886', 'TXN_7002929', 'TXN_9944730', 'TXN_2785262', 'TXN_1627038', 'TXN_6498876', 'TXN_3390610', 'TXN_9158251', 'TXN_2638810', 'TXN_8801160', 'TXN_6992783', 'TXN_1190402', 'TXN_6762311', 'TXN_6428404', 'TXN_6895558', 'TXN_5968921', 'TXN_1335256', 'TXN_9146123', 'TXN_2581559', 'TXN_9335226', 'TXN_5476485', 'TXN_5766532', 'TXN_3894660', 'TXN_3492393', 'TXN_2206884', 'TXN_2003488', 'TXN_4330643', 'TXN_3562418', 'TXN_4693942', 'TXN_6300001', 'TXN_2653224', 'TXN_6343367', 'TXN_7791293', 'TXN_1210058', 'TXN_3726397', 'TXN_8267915', 'TXN_3851928', 'TXN_3334632', 'TXN_9188733', 'TXN_1401771', 'TXN_6349424', 'TXN_3787941', 'TXN_9607633', 'TXN_4834450', 'TXN_8077812', 'TXN_7089712', 'TXN_8162690', 'TXN_6805057', 'TXN_4663964', 'TXN_9729178', 'TXN_1704041', 'TXN_5422843', 'TXN_8435360', 'TXN_5434310', 'TXN_5697414', 'TXN_6932752', 'TXN_3679582', 'TXN_5563486', 'TXN_7963324', 'TXN_7641606', 'TXN_8588758', 'TXN_3898445', 'TXN_8131570', 'TXN_3092390', 'TXN_7896733', 'TXN_3507013', 'TXN_5908078', 'TXN_9860308', 'TXN_5604021', 'TXN_5425911', 'TXN_9575926', 'TXN_5879154', 'TXN_2133223', 'TXN_6650875', 'TXN_9081686', 'TXN_3224397', 'TXN_4184461', 'TXN_6091542', 'TXN_6970542', 'TXN_9582818', 'TXN_2672972', 'TXN_9686177', 'TXN_1237674', 'TXN_4717715', 'TXN_7390866', 'TXN_1805937', 'TXN_1688292', 'TXN_7652830', 'TXN_6190857', 'TXN_2322162', 'TXN_1414039', 'TXN_1232346', 'TXN_2860281', 'TXN_3494652', 'TXN_4600894', 'TXN_1488481', 'TXN_2271725', 'TXN_6715991', 'TXN_7538724', 'TXN_9054074', 'TXN_7310356', 'TXN_3526255', 'TXN_3895871', 'TXN_6137985', 'TXN_5109348', 'TXN_4385826', 'TXN_2772639', 'TXN_3436344', 'TXN_2354394', 'TXN_9506076', 'TXN_6704284', 'TXN_4714592', 'TXN_6011106', 'TXN_5309677', 'TXN_2954833', 'TXN_6826409', 'TXN_2823220', 'TXN_4518505', 'TXN_8191202', 'TXN_2064049', 'TXN_7056162', 'TXN_1672229', 'TXN_1911093', 'TXN_2845506', 'TXN_5737641', 'TXN_2079029', 'TXN_8751702', 'TXN_1208561', 'TXN_6306555', 'TXN_6589078', 'TXN_1660104', 'TXN_2217015', 'TXN_8261045', 'TXN_4755623', 'TXN_1272815', 'TXN_3858288', 'TXN_6097664', 'TXN_2699745', 'TXN_7826516', 'TXN_4959078', 'TXN_6744733', 'TXN_8367194', 'TXN_9162296', 'TXN_7953750', 'TXN_1976619', 'TXN_5536245', 'TXN_3325234', 'TXN_1706896', 'TXN_1759063', 'TXN_7300653', 'TXN_4606893', 'TXN_3392953', 'TXN_1530892', 'TXN_3052584', 'TXN_8565799', 'TXN_3740505', 'TXN_9196229', 'TXN_9266499', 'TXN_7359190', 'TXN_2738904', 'TXN_2562041', 'TXN_9679675', 'TXN_5244674', 'TXN_7861799', 'TXN_7621213', 'TXN_1928401', 'TXN_4528914', 'TXN_1944293', 'TXN_7922350', 'TXN_1748121', 'TXN_4552137', 'TXN_1928131', 'TXN_3456242', 'TXN_1975184', 'TXN_4006067', 'TXN_3792683', 'TXN_8150967', 'TXN_4071743', 'TXN_3649492', 'TXN_6017034', 'TXN_7461658', 'TXN_7439400', 'TXN_8786286', 'TXN_7548396', 'TXN_6838411', 'TXN_3450880', 'TXN_4308634', 'TXN_8963470', 'TXN_1841204', 'TXN_4659954', 'TXN_9071439', 'TXN_9176288', 'TXN_1728427', 'TXN_3069563', 'TXN_7326720', 'TXN_6393305', 'TXN_7936851', 'TXN_1964893', 'TXN_3105633', 'TXN_3224156', 'TXN_4157300', 'TXN_8270768', 'TXN_8318388', 'TXN_9612533', 'TXN_3706457', 'TXN_9053365', 'TXN_5967452', 'TXN_6188262', 'TXN_8999360', 'TXN_9503145', 'TXN_9089045', 'TXN_1183208', 'TXN_4339925', 'TXN_3809533', 'TXN_1711872', 'TXN_6587628', 'TXN_2749289', 'TXN_3534588', 'TXN_8330240', 'TXN_6706599', 'TXN_2292088', 'TXN_1425591', 'TXN_4767609', 'TXN_9400245', 'TXN_6420902', 'TXN_8408353', 'TXN_6133115', 'TXN_2464054', 'TXN_2338617', 'TXN_2112522', 'TXN_8922585', 'TXN_8104914', 'TXN_7249396', 'TXN_8741663', 'TXN_4948026', 'TXN_9778251', 'TXN_1169615', 'TXN_9460419', 'TXN_8502079', 'TXN_8344810', 'TXN_4428252', 'TXN_6049240', 'TXN_5171519', 'TXN_8844497', 'TXN_2464706', 'TXN_9036527', 'TXN_5981429', 'TXN_1184715', 'TXN_4671375', 'TXN_4457299', 'TXN_4365321', 'TXN_4122925', 'TXN_2818204', 'TXN_3130865', 'TXN_9496697', 'TXN_5921442', 'TXN_8807600', 'TXN_8153550', 'TXN_7495283', 'TXN_6411708', 'TXN_5344848', 'TXN_4224427', 'TXN_8273780', 'TXN_9026468', 'TXN_9357808', 'TXN_8253472', 'TXN_1949093', 'TXN_8563793', 'TXN_6494265', 'TXN_5846013', 'TXN_8938445', 'TXN_8545707', 'TXN_4723089', 'TXN_2153100', 'TXN_3546629', 'TXN_4556831', 'TXN_4125474', 'TXN_6487003', 'TXN_1958525', 'TXN_9187008', 'TXN_1191659', 'TXN_8966400', 'TXN_9407169', 'TXN_6170729', 'TXN_7695629', 'TXN_5255387', 'TXN_9659401', 'TXN_7672686', 'TXN_7851634', 'TXN_4766549', 'TXN_2739140', 'TXN_3897619', 'TXN_1538510', 'TXN_1741685', 'TXN_9594133', 'TXN_1784478', 'TXN_2858441', 'TXN_3297457', 'TXN_3142496', 'TXN_2847255', 'TXN_8915701', 'TXN_9437049', 'TXN_7619095', 'TXN_3051279', 'TXN_2548360', 'TXN_2064365', 'TXN_4717867', 'TXN_6699534', 'TXN_4433211', 'TXN_2602893', 'TXN_3160411', 'TXN_7034554', 'TXN_4271903', 'TXN_4977031', 'TXN_1961373']\n",
      "\n"
     ]
    }
   ],
   "source": [
    "# 6️⃣ Categorical Value Issues\n",
    "print(\"---- Categorical Value Issues ----\")\n",
    "for col in df.select_dtypes(include='object'):\n",
    "    value_counts = df[col].value_counts()\n",
    "    rare_values = value_counts[value_counts < 3]\n",
    "    if not rare_values.empty:\n",
    "        print(f\"{col}: Rare categories -> {list(rare_values.index)}\")\n",
    "print()"
   ]
  },
  {
   "cell_type": "code",
   "execution_count": 29,
   "id": "5b47b4cd",
   "metadata": {},
   "outputs": [
    {
     "name": "stdout",
     "output_type": "stream",
     "text": [
      "---- Business Logic Violations ----\n",
      "---- Detection Complete ----\n"
     ]
    }
   ],
   "source": [
    "# 7️⃣ Business Logic Violations\n",
    "print(\"---- Business Logic Violations ----\")\n",
    "if 'Quantity' in df.columns and 'UnitPrice' in df.columns:\n",
    "    negative_qty = df[df['Quantity'] < 0]\n",
    "    if not negative_qty.empty:\n",
    "        print(f\"Negative quantities: {len(negative_qty)} rows\")\n",
    "    negative_price = df[df['UnitPrice'] < 0]\n",
    "    if not negative_price.empty:\n",
    "        print(f\"Negative prices: {len(negative_price)} rows\")\n",
    "    if 'Total' in df.columns:\n",
    "        mismatch_total = df[(df['Quantity'] * df['UnitPrice']) != df['Total']]\n",
    "        print(f\"Total column mismatches: {len(mismatch_total)} rows\")\n",
    "print(\"---- Detection Complete ----\")"
   ]
  },
  {
   "cell_type": "markdown",
   "id": "2c5879c7",
   "metadata": {},
   "source": [
    "# Now we are Cleaning the Data "
   ]
  },
  {
   "cell_type": "code",
   "execution_count": null,
   "id": "330e1693",
   "metadata": {},
   "outputs": [
    {
     "name": "stdout",
     "output_type": "stream",
     "text": [
      "Transaction ID      0.00\n",
      "Item                3.33\n",
      "Quantity            1.38\n",
      "Price Per Unit      1.79\n",
      "Total Spent         1.73\n",
      "Payment Method      0.00\n",
      "Location            0.00\n",
      "Transaction Date    1.59\n",
      "dtype: float64\n",
      "Columns with high missing %: []\n",
      "✅ Missing data handled with type conversion.\n"
     ]
    }
   ],
   "source": [
    "# Step 3.1 - Missing Data Cleaning \n",
    "\n",
    "# 1️⃣ Calculate missing percentage\n",
    "missing_percent = (df.isnull().sum() / len(df)) * 100\n",
    "print(missing_percent)\n",
    "\n",
    "# 2️⃣ Handle high-missing columns (>40%)\n",
    "high_missing_cols = missing_percent[missing_percent > 40].index\n",
    "print(f\"Columns with high missing %: {list(high_missing_cols)}\")\n",
    "\n",
    "# 3️⃣ Fill categorical columns\n",
    "for col in ['Location', 'Payment Method']:\n",
    "    if col in df.columns:\n",
    "        df[col] = df[col].fillna(df[col].mode()[0])\n",
    "\n",
    "# 4️⃣ Convert numerical columns from string to float before filling\n",
    "for col in ['Price Per Unit', 'Total Spent', 'Quantity']:\n",
    "    if col in df.columns:\n",
    "        df[col] = pd.to_numeric(df[col], errors='coerce')  # Convert to float, NaN if invalid\n",
    "        df[col] = df[col].fillna(df[col].median())  # Fill missing with median\n",
    "\n",
    "# 5️⃣ Fill date column\n",
    "if 'Transaction Date' in df.columns:\n",
    "    df['Transaction Date'] = pd.to_datetime(df['Transaction Date'], errors='coerce')\n",
    "    median_date = df['Transaction Date'].median()\n",
    "    df['Transaction Date'] = df['Transaction Date'].fillna(median_date)\n",
    "\n",
    "print(\"✅ Missing data handled with type conversion.\")\n"
   ]
  },
  {
   "cell_type": "code",
   "execution_count": 32,
   "id": "fcc8da48",
   "metadata": {},
   "outputs": [
    {
     "name": "stdout",
     "output_type": "stream",
     "text": [
      "🔍 Found 0 duplicate rows.\n",
      "✅ Removed duplicates. New shape: (10000, 8)\n"
     ]
    }
   ],
   "source": [
    "# Step 3.2 - Duplicate Row Handling\n",
    "\n",
    "# Count duplicates (excluding the index)\n",
    "duplicate_count = df.duplicated().sum()\n",
    "print(f\"🔍 Found {duplicate_count} duplicate rows.\")\n",
    "\n",
    "# Remove duplicates\n",
    "df = df.drop_duplicates()\n",
    "print(f\"✅ Removed duplicates. New shape: {df.shape}\")\n"
   ]
  },
  {
   "cell_type": "code",
   "execution_count": 33,
   "id": "900d5c70",
   "metadata": {},
   "outputs": [
    {
     "name": "stdout",
     "output_type": "stream",
     "text": [
      "✅ Data types and formats standardized.\n",
      "Transaction ID              object\n",
      "Item                        object\n",
      "Quantity                   float64\n",
      "Price Per Unit             float64\n",
      "Total Spent                float64\n",
      "Payment Method              object\n",
      "Location                    object\n",
      "Transaction Date    datetime64[ns]\n",
      "dtype: object\n"
     ]
    }
   ],
   "source": [
    "# Step 3.3 - Data Type & Format Cleaning\n",
    "\n",
    "# Ensure numeric columns are floats\n",
    "numeric_cols = ['Quantity', 'Price Per Unit', 'Total Spent']\n",
    "for col in numeric_cols:\n",
    "    if col in df.columns:\n",
    "        df[col] = pd.to_numeric(df[col], errors='coerce')\n",
    "\n",
    "# Ensure date column is datetime\n",
    "if 'Transaction Date' in df.columns:\n",
    "    df['Transaction Date'] = pd.to_datetime(df['Transaction Date'], errors='coerce')\n",
    "\n",
    "# Standardize categorical text columns\n",
    "categorical_cols = ['Item', 'Payment Method', 'Location']\n",
    "for col in categorical_cols:\n",
    "    if col in df.columns:\n",
    "        df[col] = df[col].astype(str).str.strip().str.title()\n",
    "\n",
    "print(\"✅ Data types and formats standardized.\")\n",
    "print(df.dtypes)\n"
   ]
  },
  {
   "cell_type": "code",
   "execution_count": 34,
   "id": "67997ce4",
   "metadata": {},
   "outputs": [
    {
     "name": "stdout",
     "output_type": "stream",
     "text": [
      "🔍 Quantity: Found 0 outliers\n",
      "🔍 Price Per Unit: Found 0 outliers\n",
      "🔍 Total Spent: Found 259 outliers\n",
      "✅ Outliers removed. New shape: (9741, 8)\n"
     ]
    }
   ],
   "source": [
    "# Step 3.4 - Outlier Detection & Handling\n",
    "\n",
    "# Function to find outliers using IQR method\n",
    "def find_outliers_iqr(data, col):\n",
    "    Q1 = data[col].quantile(0.25)\n",
    "    Q3 = data[col].quantile(0.75)\n",
    "    IQR = Q3 - Q1\n",
    "    lower_bound = Q1 - 1.5 * IQR\n",
    "    upper_bound = Q3 + 1.5 * IQR\n",
    "    return data[(data[col] < lower_bound) | (data[col] > upper_bound)]\n",
    "\n",
    "outlier_summary = {}\n",
    "\n",
    "for col in ['Quantity', 'Price Per Unit', 'Total Spent']:\n",
    "    if col in df.columns:\n",
    "        outliers = find_outliers_iqr(df, col)\n",
    "        outlier_summary[col] = len(outliers)\n",
    "        print(f\"🔍 {col}: Found {len(outliers)} outliers\")\n",
    "\n",
    "# Optionally: Remove outliers\n",
    "for col in ['Quantity', 'Price Per Unit', 'Total Spent']:\n",
    "    if col in df.columns:\n",
    "        Q1 = df[col].quantile(0.25)\n",
    "        Q3 = df[col].quantile(0.75)\n",
    "        IQR = Q3 - Q1\n",
    "        lower_bound = Q1 - 1.5 * IQR\n",
    "        upper_bound = Q3 + 1.5 * IQR\n",
    "        df = df[(df[col] >= lower_bound) & (df[col] <= upper_bound)]\n",
    "\n",
    "print(f\"✅ Outliers removed. New shape: {df.shape}\")\n"
   ]
  },
  {
   "cell_type": "code",
   "execution_count": 35,
   "id": "f77ebcd1",
   "metadata": {},
   "outputs": [
    {
     "name": "stdout",
     "output_type": "stream",
     "text": [
      "\n",
      "🔍 Unique values in 'Item':\n",
      "['Cake', 'Coffee', 'Cookie', 'Error', 'Juice', 'Nan', 'Salad', 'Sandwich', 'Smoothie', 'Tea', 'Unknown']\n",
      "\n",
      "🔍 Unique values in 'Payment Method':\n",
      "['Cash', 'Credit Card', 'Digital Wallet', 'Error', 'Unknown']\n",
      "\n",
      "🔍 Unique values in 'Location':\n",
      "['Error', 'In-Store', 'Takeaway', 'Unknown']\n",
      "\n",
      "✅ Inconsistencies partially fixed. Manual mapping may still be needed for some cases.\n"
     ]
    }
   ],
   "source": [
    "# Step 3.5 - Detect & Fix Inconsistent Values\n",
    "\n",
    "# Function to show unique values sorted for manual inspection\n",
    "def show_inconsistencies(col):\n",
    "    print(f\"\\n🔍 Unique values in '{col}':\")\n",
    "    print(sorted(df[col].unique()))\n",
    "\n",
    "# Check for inconsistencies in categorical columns\n",
    "categorical_cols = ['Item', 'Payment Method', 'Location']\n",
    "for col in categorical_cols:\n",
    "    if col in df.columns:\n",
    "        show_inconsistencies(col)\n",
    "\n",
    "# Example fix: Standardize Payment Method spelling\n",
    "if 'Payment Method' in df.columns:\n",
    "    df['Payment Method'] = df['Payment Method'].str.strip().str.title()\n",
    "\n",
    "# Example fix: Standardize Location spacing & case\n",
    "if 'Location' in df.columns:\n",
    "    df['Location'] = df['Location'].str.strip().str.title()\n",
    "\n",
    "print(\"\\n✅ Inconsistencies partially fixed. Manual mapping may still be needed for some cases.\")\n"
   ]
  },
  {
   "cell_type": "code",
   "execution_count": 37,
   "id": "0a34eef6",
   "metadata": {},
   "outputs": [
    {
     "name": "stdout",
     "output_type": "stream",
     "text": [
      "✅ Invalid values replaced and missing categories filled.\n",
      "       Item  Payment Method  Location\n",
      "0    Coffee     Credit Card  Takeaway\n",
      "1      Cake            Cash  In-Store\n",
      "2    Cookie     Credit Card  In-Store\n",
      "3     Salad  Digital Wallet  Takeaway\n",
      "4    Coffee  Digital Wallet  In-Store\n",
      "5  Smoothie     Credit Card  Takeaway\n",
      "6     Juice  Digital Wallet  Takeaway\n",
      "7  Sandwich            Cash  Takeaway\n",
      "8     Juice  Digital Wallet  Takeaway\n",
      "9  Sandwich  Digital Wallet  In-Store\n"
     ]
    }
   ],
   "source": [
    "import numpy as np\n",
    "\n",
    "# Step 3.6 - Rule-based mapping for invalid categorical values\n",
    "\n",
    "# Define mappings for invalid entries\n",
    "invalid_values = [\"Error\", \"Unknown\", \"Nan\", \"nan\", \"NaN\", None]\n",
    "\n",
    "# Replace invalid entries with NaN in categorical columns\n",
    "for col in ['Item', 'Payment Method', 'Location']:\n",
    "    df[col] = df[col].replace(invalid_values, np.nan)\n",
    "\n",
    "# Optional: fill missing categories with most frequent value\n",
    "for col in ['Item', 'Payment Method', 'Location']:\n",
    "    if df[col].isna().sum() > 0:\n",
    "        mode_value = df[col].mode()[0]\n",
    "        df[col] = df[col].fillna(mode_value)\n",
    "\n",
    "print(\"✅ Invalid values replaced and missing categories filled.\")\n",
    "print(df[['Item', 'Payment Method', 'Location']].head(10))\n"
   ]
  },
  {
   "cell_type": "code",
   "execution_count": 38,
   "id": "c899d431",
   "metadata": {},
   "outputs": [
    {
     "name": "stdout",
     "output_type": "stream",
     "text": [
      "📊 Final Data Quality Report\n"
     ]
    },
    {
     "data": {
      "application/vnd.microsoft.datawrangler.viewer.v0+json": {
       "columns": [
        {
         "name": "index",
         "rawType": "object",
         "type": "string"
        },
        {
         "name": "dtype",
         "rawType": "object",
         "type": "string"
        },
        {
         "name": "missing_count",
         "rawType": "object",
         "type": "unknown"
        },
        {
         "name": "missing_percent",
         "rawType": "object",
         "type": "unknown"
        },
        {
         "name": "unique_values",
         "rawType": "object",
         "type": "unknown"
        }
       ],
       "conversionMethod": "pd.DataFrame",
       "ref": "b32c0686-0da2-4991-927f-abbfc0c4c1f9",
       "rows": [
        [
         "Transaction ID",
         "object",
         "0",
         "0.0",
         "9741"
        ],
        [
         "Item",
         "object",
         "0",
         "0.0",
         "8"
        ],
        [
         "Quantity",
         "float64",
         "0",
         "0.0",
         "5"
        ],
        [
         "Price Per Unit",
         "float64",
         "0",
         "0.0",
         "6"
        ],
        [
         "Total Spent",
         "float64",
         "0",
         "0.0",
         "16"
        ],
        [
         "Payment Method",
         "object",
         "0",
         "0.0",
         "3"
        ],
        [
         "Location",
         "object",
         "0",
         "0.0",
         "2"
        ],
        [
         "Transaction Date",
         "datetime64[ns]",
         "0",
         "0.0",
         "365"
        ]
       ],
       "shape": {
        "columns": 4,
        "rows": 8
       }
      },
      "text/html": [
       "<div>\n",
       "<style scoped>\n",
       "    .dataframe tbody tr th:only-of-type {\n",
       "        vertical-align: middle;\n",
       "    }\n",
       "\n",
       "    .dataframe tbody tr th {\n",
       "        vertical-align: top;\n",
       "    }\n",
       "\n",
       "    .dataframe thead th {\n",
       "        text-align: right;\n",
       "    }\n",
       "</style>\n",
       "<table border=\"1\" class=\"dataframe\">\n",
       "  <thead>\n",
       "    <tr style=\"text-align: right;\">\n",
       "      <th></th>\n",
       "      <th>dtype</th>\n",
       "      <th>missing_count</th>\n",
       "      <th>missing_percent</th>\n",
       "      <th>unique_values</th>\n",
       "    </tr>\n",
       "  </thead>\n",
       "  <tbody>\n",
       "    <tr>\n",
       "      <th>Transaction ID</th>\n",
       "      <td>object</td>\n",
       "      <td>0</td>\n",
       "      <td>0.0</td>\n",
       "      <td>9741</td>\n",
       "    </tr>\n",
       "    <tr>\n",
       "      <th>Item</th>\n",
       "      <td>object</td>\n",
       "      <td>0</td>\n",
       "      <td>0.0</td>\n",
       "      <td>8</td>\n",
       "    </tr>\n",
       "    <tr>\n",
       "      <th>Quantity</th>\n",
       "      <td>float64</td>\n",
       "      <td>0</td>\n",
       "      <td>0.0</td>\n",
       "      <td>5</td>\n",
       "    </tr>\n",
       "    <tr>\n",
       "      <th>Price Per Unit</th>\n",
       "      <td>float64</td>\n",
       "      <td>0</td>\n",
       "      <td>0.0</td>\n",
       "      <td>6</td>\n",
       "    </tr>\n",
       "    <tr>\n",
       "      <th>Total Spent</th>\n",
       "      <td>float64</td>\n",
       "      <td>0</td>\n",
       "      <td>0.0</td>\n",
       "      <td>16</td>\n",
       "    </tr>\n",
       "    <tr>\n",
       "      <th>Payment Method</th>\n",
       "      <td>object</td>\n",
       "      <td>0</td>\n",
       "      <td>0.0</td>\n",
       "      <td>3</td>\n",
       "    </tr>\n",
       "    <tr>\n",
       "      <th>Location</th>\n",
       "      <td>object</td>\n",
       "      <td>0</td>\n",
       "      <td>0.0</td>\n",
       "      <td>2</td>\n",
       "    </tr>\n",
       "    <tr>\n",
       "      <th>Transaction Date</th>\n",
       "      <td>datetime64[ns]</td>\n",
       "      <td>0</td>\n",
       "      <td>0.0</td>\n",
       "      <td>365</td>\n",
       "    </tr>\n",
       "  </tbody>\n",
       "</table>\n",
       "</div>"
      ],
      "text/plain": [
       "                           dtype missing_count missing_percent unique_values\n",
       "Transaction ID            object             0             0.0          9741\n",
       "Item                      object             0             0.0             8\n",
       "Quantity                 float64             0             0.0             5\n",
       "Price Per Unit           float64             0             0.0             6\n",
       "Total Spent              float64             0             0.0            16\n",
       "Payment Method            object             0             0.0             3\n",
       "Location                  object             0             0.0             2\n",
       "Transaction Date  datetime64[ns]             0             0.0           365"
      ]
     },
     "metadata": {},
     "output_type": "display_data"
    }
   ],
   "source": [
    "# Step 4 - Data Quality Report\n",
    "\n",
    "def data_quality_report(df):\n",
    "    report = {}\n",
    "    \n",
    "    for col in df.columns:\n",
    "        report[col] = {\n",
    "            'dtype': str(df[col].dtype),\n",
    "            'missing_count': df[col].isna().sum(),\n",
    "            'missing_percent': round((df[col].isna().sum() / len(df)) * 100, 2),\n",
    "            'unique_values': df[col].nunique()\n",
    "        }\n",
    "    return pd.DataFrame(report).T\n",
    "\n",
    "final_report = data_quality_report(df)\n",
    "\n",
    "print(\"📊 Final Data Quality Report\")\n",
    "display(final_report)\n"
   ]
  },
  {
   "cell_type": "code",
   "execution_count": 41,
   "id": "6c631693",
   "metadata": {},
   "outputs": [
    {
     "name": "stdout",
     "output_type": "stream",
     "text": [
      "✅ Cleaned data saved to: data/processed/cafe_sales_cleaned_20250809_121006.csv\n"
     ]
    }
   ],
   "source": [
    "import os\n",
    "from datetime import datetime\n",
    "\n",
    "# Create processed folder if it doesn't exist\n",
    "os.makedirs(\"data/processed\", exist_ok=True)\n",
    "\n",
    "# Create a timestamp string\n",
    "timestamp = datetime.now().strftime(\"%Y%m%d_%H%M%S\")\n",
    "\n",
    "# File path with timestamp\n",
    "output_path = f\"data/processed/cafe_sales_cleaned_{timestamp}.csv\"\n",
    "\n",
    "# Save the cleaned data\n",
    "df.to_csv(output_path, index=False)\n",
    "\n",
    "print(f\"✅ Cleaned data saved to: {output_path}\")\n"
   ]
  },
  {
   "cell_type": "markdown",
   "id": "305d6d80",
   "metadata": {},
   "source": [
    "Each time you run the save code with a timestamp, it makes a new file instead of overwriting the old one.\n",
    "\n",
    "## The timestamp is there so:\n",
    "\n",
    "- Versioning → You can keep track of when each cleaned dataset was created.\n",
    "Example: If today’s cleaning works but tomorrow you accidentally break something, you still have yesterday’s clean file.\n",
    "\n",
    "- Traceability → In real AI pipelines, you want to know exactly which cleaned dataset was used for model training — the timestamp in the filename makes that possible.\n",
    "\n",
    "- Safety → It avoids overwriting your previous work by mistake."
   ]
  },
  {
   "cell_type": "code",
   "execution_count": 44,
   "id": "fe51dc2c",
   "metadata": {},
   "outputs": [
    {
     "name": "stdout",
     "output_type": "stream",
     "text": [
      "📄 Report saved to: reports\\cleaning_report_20250809_123014.txt\n"
     ]
    }
   ],
   "source": [
    "import os\n",
    "from datetime import datetime\n",
    "import pandas as pd\n",
    "\n",
    "# Paths\n",
    "processed_dir = \"data/processed\"\n",
    "\n",
    "# 1️⃣ Load the most recent processed file\n",
    "processed_files = sorted(os.listdir(processed_dir), reverse=True)\n",
    "latest_processed = os.path.join(processed_dir, processed_files[0])\n",
    "df_clean = pd.read_csv(latest_processed)\n",
    "\n",
    "# 2️⃣ Manually input old stats from earlier cleaning steps\n",
    "raw_shape = (10000, 8)  # Replace with actual raw shape from earlier\n",
    "processed_shape = df_clean.shape\n",
    "missing_before = {\n",
    "    'Transaction ID': 0.00,\n",
    "    'Item': 3.33,\n",
    "    'Quantity': 1.38,\n",
    "    'Price Per Unit': 1.79,\n",
    "    'Total Spent': 1.73,\n",
    "    'Payment Method': 0.00,\n",
    "    'Location': 0.00,\n",
    "    'Transaction Date': 1.59\n",
    "}  # Replace with earlier missing value percentages/counts\n",
    "missing_after = df_clean.isnull().sum()\n",
    "\n",
    "# 3️⃣ Create report\n",
    "timestamp = datetime.now().strftime(\"%Y%m%d_%H%M%S\")\n",
    "report_lines = []\n",
    "report_lines.append(\"=== Data Cleaning Report ===\\n\")\n",
    "report_lines.append(f\"Date: {datetime.now().strftime('%Y-%m-%d %H:%M:%S')}\\n\")\n",
    "report_lines.append(f\"Raw data shape: {raw_shape}\")\n",
    "report_lines.append(f\"Processed data shape: {processed_shape}\\n\")\n",
    "report_lines.append(\"Missing values before cleaning:\\n\")\n",
    "report_lines.append(str(missing_before))\n",
    "report_lines.append(\"\\nMissing values after cleaning:\\n\")\n",
    "report_lines.append(str(missing_after))\n",
    "\n",
    "# 4️⃣ Save report\n",
    "report_dir = \"reports\"\n",
    "os.makedirs(report_dir, exist_ok=True)\n",
    "report_path = os.path.join(report_dir, f\"cleaning_report_{timestamp}.txt\")\n",
    "with open(report_path, \"w\") as f:\n",
    "    f.write(\"\\n\".join(report_lines))\n",
    "\n",
    "print(f\"📄 Report saved to: {report_path}\")\n"
   ]
  },
  {
   "cell_type": "code",
   "execution_count": null,
   "id": "cf1ad759",
   "metadata": {},
   "outputs": [],
   "source": []
  }
 ],
 "metadata": {
  "kernelspec": {
   "display_name": "dataagent",
   "language": "python",
   "name": "python3"
  },
  "language_info": {
   "codemirror_mode": {
    "name": "ipython",
    "version": 3
   },
   "file_extension": ".py",
   "mimetype": "text/x-python",
   "name": "python",
   "nbconvert_exporter": "python",
   "pygments_lexer": "ipython3",
   "version": "3.10.18"
  }
 },
 "nbformat": 4,
 "nbformat_minor": 5
}
